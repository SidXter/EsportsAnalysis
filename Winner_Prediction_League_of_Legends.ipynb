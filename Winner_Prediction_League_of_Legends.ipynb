{
 "cells": [
  {
   "cell_type": "markdown",
   "metadata": {},
   "source": [
    "### Introduction\n",
    "\n",
    "Just as it is with traditional sports, the collection, analysis, and use of all kinds of data is \n",
    "starting to change the way that competitive games are played and understood. Nowadays, as \n",
    "the E-sports become increasingly popular, data analyses on E-sports games are also \n",
    "rising in popularity and demand. Because of the foundations of multiple commercial E-sport\n",
    "Leagues, data analyses is playing a signifificant role, just like the role they play in NBA and \n",
    "other sport leagues.\n",
    "\n",
    "Data analysis can help improve matchmaking algorithms and game balance to the benefit of everyone that plays.\n",
    "\n",
    "League of Legends around the world. In this project, the online game League of Legends (LoL), developed by \n",
    "Riot Games in 2009, will be the case study.\n",
    "\n",
    "In the most popular game mode, Summoners Rift, two teams (Red and Blue) of 5 champions spawn into a map in their respective bases. The goal is to “take over” the enemy team's base by destroying a nexus, which can only be done after destroying towers and other objectives guarding the base.\n",
    "\n",
    "The players usually separate into three lanes top, middle and bottom to gain gold and gear up. In the middle of the lanes are the jungle that contain more monsters and other global objectives that give your team power ups in the form of gold or stats. \n",
    "\n",
    "Identifying the most important objectives is the goal of this analysis."
   ]
  },
  {
   "cell_type": "code",
   "execution_count": 1,
   "metadata": {},
   "outputs": [],
   "source": [
    "import pandas as pd\n",
    "import numpy as np\n",
    "import matplotlib.pyplot as plt\n",
    "import seaborn as sns\n",
    "import sklearn as sk\n",
    "from sklearn.model_selection import train_test_split\n",
    "%matplotlib inline\n",
    "import warnings\n",
    "warnings.filterwarnings('ignore')"
   ]
  },
  {
   "cell_type": "markdown",
   "metadata": {},
   "source": [
    "**Create functions to load our data and save file names in variables**"
   ]
  },
  {
   "cell_type": "code",
   "execution_count": 2,
   "metadata": {},
   "outputs": [],
   "source": [
    "filename = 'games.csv'\n",
    "def load_data(file):\n",
    "    return pd.read_csv(file)"
   ]
  },
  {
   "cell_type": "code",
   "execution_count": 3,
   "metadata": {},
   "outputs": [],
   "source": [
    "games_full = load_data(filename)"
   ]
  },
  {
   "cell_type": "markdown",
   "metadata": {},
   "source": [
    "# Exploratory data analysis\n",
    "\n"
   ]
  },
  {
   "cell_type": "code",
   "execution_count": 4,
   "metadata": {},
   "outputs": [
    {
     "data": {
      "text/html": [
       "<div>\n",
       "<style scoped>\n",
       "    .dataframe tbody tr th:only-of-type {\n",
       "        vertical-align: middle;\n",
       "    }\n",
       "\n",
       "    .dataframe tbody tr th {\n",
       "        vertical-align: top;\n",
       "    }\n",
       "\n",
       "    .dataframe thead th {\n",
       "        text-align: right;\n",
       "    }\n",
       "</style>\n",
       "<table border=\"1\" class=\"dataframe\">\n",
       "  <thead>\n",
       "    <tr style=\"text-align: right;\">\n",
       "      <th></th>\n",
       "      <th>gameId</th>\n",
       "      <th>creationTime</th>\n",
       "      <th>gameDuration</th>\n",
       "      <th>seasonId</th>\n",
       "      <th>winner</th>\n",
       "      <th>firstBlood</th>\n",
       "      <th>firstTower</th>\n",
       "      <th>firstInhibitor</th>\n",
       "      <th>firstBaron</th>\n",
       "      <th>firstDragon</th>\n",
       "      <th>...</th>\n",
       "      <th>t2_towerKills</th>\n",
       "      <th>t2_inhibitorKills</th>\n",
       "      <th>t2_baronKills</th>\n",
       "      <th>t2_dragonKills</th>\n",
       "      <th>t2_riftHeraldKills</th>\n",
       "      <th>t2_ban1</th>\n",
       "      <th>t2_ban2</th>\n",
       "      <th>t2_ban3</th>\n",
       "      <th>t2_ban4</th>\n",
       "      <th>t2_ban5</th>\n",
       "    </tr>\n",
       "  </thead>\n",
       "  <tbody>\n",
       "    <tr>\n",
       "      <th>0</th>\n",
       "      <td>3326086514</td>\n",
       "      <td>1504279457970</td>\n",
       "      <td>1949</td>\n",
       "      <td>9</td>\n",
       "      <td>1</td>\n",
       "      <td>2</td>\n",
       "      <td>1</td>\n",
       "      <td>1</td>\n",
       "      <td>1</td>\n",
       "      <td>1</td>\n",
       "      <td>...</td>\n",
       "      <td>5</td>\n",
       "      <td>0</td>\n",
       "      <td>0</td>\n",
       "      <td>1</td>\n",
       "      <td>1</td>\n",
       "      <td>114</td>\n",
       "      <td>67</td>\n",
       "      <td>43</td>\n",
       "      <td>16</td>\n",
       "      <td>51</td>\n",
       "    </tr>\n",
       "    <tr>\n",
       "      <th>1</th>\n",
       "      <td>3229566029</td>\n",
       "      <td>1497848803862</td>\n",
       "      <td>1851</td>\n",
       "      <td>9</td>\n",
       "      <td>1</td>\n",
       "      <td>1</td>\n",
       "      <td>1</td>\n",
       "      <td>1</td>\n",
       "      <td>0</td>\n",
       "      <td>1</td>\n",
       "      <td>...</td>\n",
       "      <td>2</td>\n",
       "      <td>0</td>\n",
       "      <td>0</td>\n",
       "      <td>0</td>\n",
       "      <td>0</td>\n",
       "      <td>11</td>\n",
       "      <td>67</td>\n",
       "      <td>238</td>\n",
       "      <td>51</td>\n",
       "      <td>420</td>\n",
       "    </tr>\n",
       "    <tr>\n",
       "      <th>2</th>\n",
       "      <td>3327363504</td>\n",
       "      <td>1504360103310</td>\n",
       "      <td>1493</td>\n",
       "      <td>9</td>\n",
       "      <td>1</td>\n",
       "      <td>2</td>\n",
       "      <td>1</td>\n",
       "      <td>1</td>\n",
       "      <td>1</td>\n",
       "      <td>2</td>\n",
       "      <td>...</td>\n",
       "      <td>2</td>\n",
       "      <td>0</td>\n",
       "      <td>0</td>\n",
       "      <td>1</td>\n",
       "      <td>0</td>\n",
       "      <td>157</td>\n",
       "      <td>238</td>\n",
       "      <td>121</td>\n",
       "      <td>57</td>\n",
       "      <td>28</td>\n",
       "    </tr>\n",
       "    <tr>\n",
       "      <th>3</th>\n",
       "      <td>3326856598</td>\n",
       "      <td>1504348503996</td>\n",
       "      <td>1758</td>\n",
       "      <td>9</td>\n",
       "      <td>1</td>\n",
       "      <td>1</td>\n",
       "      <td>1</td>\n",
       "      <td>1</td>\n",
       "      <td>1</td>\n",
       "      <td>1</td>\n",
       "      <td>...</td>\n",
       "      <td>0</td>\n",
       "      <td>0</td>\n",
       "      <td>0</td>\n",
       "      <td>0</td>\n",
       "      <td>0</td>\n",
       "      <td>164</td>\n",
       "      <td>18</td>\n",
       "      <td>141</td>\n",
       "      <td>40</td>\n",
       "      <td>51</td>\n",
       "    </tr>\n",
       "    <tr>\n",
       "      <th>4</th>\n",
       "      <td>3330080762</td>\n",
       "      <td>1504554410899</td>\n",
       "      <td>2094</td>\n",
       "      <td>9</td>\n",
       "      <td>1</td>\n",
       "      <td>2</td>\n",
       "      <td>1</td>\n",
       "      <td>1</td>\n",
       "      <td>1</td>\n",
       "      <td>1</td>\n",
       "      <td>...</td>\n",
       "      <td>3</td>\n",
       "      <td>0</td>\n",
       "      <td>0</td>\n",
       "      <td>1</td>\n",
       "      <td>0</td>\n",
       "      <td>86</td>\n",
       "      <td>11</td>\n",
       "      <td>201</td>\n",
       "      <td>122</td>\n",
       "      <td>18</td>\n",
       "    </tr>\n",
       "  </tbody>\n",
       "</table>\n",
       "<p>5 rows × 61 columns</p>\n",
       "</div>"
      ],
      "text/plain": [
       "       gameId   creationTime  gameDuration  seasonId  winner  firstBlood  \\\n",
       "0  3326086514  1504279457970          1949         9       1           2   \n",
       "1  3229566029  1497848803862          1851         9       1           1   \n",
       "2  3327363504  1504360103310          1493         9       1           2   \n",
       "3  3326856598  1504348503996          1758         9       1           1   \n",
       "4  3330080762  1504554410899          2094         9       1           2   \n",
       "\n",
       "   firstTower  firstInhibitor  firstBaron  firstDragon  ...  t2_towerKills  \\\n",
       "0           1               1           1            1  ...              5   \n",
       "1           1               1           0            1  ...              2   \n",
       "2           1               1           1            2  ...              2   \n",
       "3           1               1           1            1  ...              0   \n",
       "4           1               1           1            1  ...              3   \n",
       "\n",
       "   t2_inhibitorKills  t2_baronKills  t2_dragonKills  t2_riftHeraldKills  \\\n",
       "0                  0              0               1                   1   \n",
       "1                  0              0               0                   0   \n",
       "2                  0              0               1                   0   \n",
       "3                  0              0               0                   0   \n",
       "4                  0              0               1                   0   \n",
       "\n",
       "   t2_ban1  t2_ban2  t2_ban3  t2_ban4  t2_ban5  \n",
       "0      114       67       43       16       51  \n",
       "1       11       67      238       51      420  \n",
       "2      157      238      121       57       28  \n",
       "3      164       18      141       40       51  \n",
       "4       86       11      201      122       18  \n",
       "\n",
       "[5 rows x 61 columns]"
      ]
     },
     "execution_count": 4,
     "metadata": {},
     "output_type": "execute_result"
    }
   ],
   "source": [
    "games_full.head()"
   ]
  },
  {
   "cell_type": "markdown",
   "metadata": {},
   "source": [
    "**This data set contains 61 features in which one feature displays the winning team. The data is for season 9.** \n",
    "\n",
    "**In general, objectives are extremely important for winning a game of League of Legends. It enables one to advance closer to the enemy base and into their jungle. A player can plant deeper wards to gain vision for their entire team and global objectives provide either gold or power ups for the entire team.**\n",
    "\n",
    "**Before feature selection and engineering we need to see if there are any missing values**"
   ]
  },
  {
   "cell_type": "code",
   "execution_count": 5,
   "metadata": {},
   "outputs": [
    {
     "name": "stdout",
     "output_type": "stream",
     "text": [
      "<class 'pandas.core.frame.DataFrame'>\n",
      "RangeIndex: 51490 entries, 0 to 51489\n",
      "Data columns (total 61 columns):\n",
      " #   Column              Non-Null Count  Dtype\n",
      "---  ------              --------------  -----\n",
      " 0   gameId              51490 non-null  int64\n",
      " 1   creationTime        51490 non-null  int64\n",
      " 2   gameDuration        51490 non-null  int64\n",
      " 3   seasonId            51490 non-null  int64\n",
      " 4   winner              51490 non-null  int64\n",
      " 5   firstBlood          51490 non-null  int64\n",
      " 6   firstTower          51490 non-null  int64\n",
      " 7   firstInhibitor      51490 non-null  int64\n",
      " 8   firstBaron          51490 non-null  int64\n",
      " 9   firstDragon         51490 non-null  int64\n",
      " 10  firstRiftHerald     51490 non-null  int64\n",
      " 11  t1_champ1id         51490 non-null  int64\n",
      " 12  t1_champ1_sum1      51490 non-null  int64\n",
      " 13  t1_champ1_sum2      51490 non-null  int64\n",
      " 14  t1_champ2id         51490 non-null  int64\n",
      " 15  t1_champ2_sum1      51490 non-null  int64\n",
      " 16  t1_champ2_sum2      51490 non-null  int64\n",
      " 17  t1_champ3id         51490 non-null  int64\n",
      " 18  t1_champ3_sum1      51490 non-null  int64\n",
      " 19  t1_champ3_sum2      51490 non-null  int64\n",
      " 20  t1_champ4id         51490 non-null  int64\n",
      " 21  t1_champ4_sum1      51490 non-null  int64\n",
      " 22  t1_champ4_sum2      51490 non-null  int64\n",
      " 23  t1_champ5id         51490 non-null  int64\n",
      " 24  t1_champ5_sum1      51490 non-null  int64\n",
      " 25  t1_champ5_sum2      51490 non-null  int64\n",
      " 26  t1_towerKills       51490 non-null  int64\n",
      " 27  t1_inhibitorKills   51490 non-null  int64\n",
      " 28  t1_baronKills       51490 non-null  int64\n",
      " 29  t1_dragonKills      51490 non-null  int64\n",
      " 30  t1_riftHeraldKills  51490 non-null  int64\n",
      " 31  t1_ban1             51490 non-null  int64\n",
      " 32  t1_ban2             51490 non-null  int64\n",
      " 33  t1_ban3             51490 non-null  int64\n",
      " 34  t1_ban4             51490 non-null  int64\n",
      " 35  t1_ban5             51490 non-null  int64\n",
      " 36  t2_champ1id         51490 non-null  int64\n",
      " 37  t2_champ1_sum1      51490 non-null  int64\n",
      " 38  t2_champ1_sum2      51490 non-null  int64\n",
      " 39  t2_champ2id         51490 non-null  int64\n",
      " 40  t2_champ2_sum1      51490 non-null  int64\n",
      " 41  t2_champ2_sum2      51490 non-null  int64\n",
      " 42  t2_champ3id         51490 non-null  int64\n",
      " 43  t2_champ3_sum1      51490 non-null  int64\n",
      " 44  t2_champ3_sum2      51490 non-null  int64\n",
      " 45  t2_champ4id         51490 non-null  int64\n",
      " 46  t2_champ4_sum1      51490 non-null  int64\n",
      " 47  t2_champ4_sum2      51490 non-null  int64\n",
      " 48  t2_champ5id         51490 non-null  int64\n",
      " 49  t2_champ5_sum1      51490 non-null  int64\n",
      " 50  t2_champ5_sum2      51490 non-null  int64\n",
      " 51  t2_towerKills       51490 non-null  int64\n",
      " 52  t2_inhibitorKills   51490 non-null  int64\n",
      " 53  t2_baronKills       51490 non-null  int64\n",
      " 54  t2_dragonKills      51490 non-null  int64\n",
      " 55  t2_riftHeraldKills  51490 non-null  int64\n",
      " 56  t2_ban1             51490 non-null  int64\n",
      " 57  t2_ban2             51490 non-null  int64\n",
      " 58  t2_ban3             51490 non-null  int64\n",
      " 59  t2_ban4             51490 non-null  int64\n",
      " 60  t2_ban5             51490 non-null  int64\n",
      "dtypes: int64(61)\n",
      "memory usage: 24.0 MB\n"
     ]
    }
   ],
   "source": [
    "games_full.info()"
   ]
  },
  {
   "cell_type": "code",
   "execution_count": 43,
   "metadata": {},
   "outputs": [
    {
     "data": {
      "text/plain": [
       "gameId          0\n",
       "creationTime    0\n",
       "gameDuration    0\n",
       "seasonId        0\n",
       "winner          0\n",
       "               ..\n",
       "t2_ban1         0\n",
       "t2_ban2         0\n",
       "t2_ban3         0\n",
       "t2_ban4         0\n",
       "t2_ban5         0\n",
       "Length: 61, dtype: int64"
      ]
     },
     "execution_count": 43,
     "metadata": {},
     "output_type": "execute_result"
    }
   ],
   "source": [
    "games_full.isnull().sum()"
   ]
  },
  {
   "cell_type": "markdown",
   "metadata": {},
   "source": [
    "**The data set does not contain any missing values and all columns contain integers. This is pretty fortunate because we don't have to encode any categorical values. However we could turn some columns into categorical data and then encode it later. For example, instead of having 5 separate columns for champion picks on each team, we could aggregate them into a column called Meta. Whether the team consisted of meta champions for that season.**"
   ]
  },
  {
   "cell_type": "code",
   "execution_count": 6,
   "metadata": {},
   "outputs": [
    {
     "data": {
      "text/html": [
       "<div>\n",
       "<style scoped>\n",
       "    .dataframe tbody tr th:only-of-type {\n",
       "        vertical-align: middle;\n",
       "    }\n",
       "\n",
       "    .dataframe tbody tr th {\n",
       "        vertical-align: top;\n",
       "    }\n",
       "\n",
       "    .dataframe thead th {\n",
       "        text-align: right;\n",
       "    }\n",
       "</style>\n",
       "<table border=\"1\" class=\"dataframe\">\n",
       "  <thead>\n",
       "    <tr style=\"text-align: right;\">\n",
       "      <th></th>\n",
       "      <th>gameId</th>\n",
       "      <th>creationTime</th>\n",
       "      <th>gameDuration</th>\n",
       "      <th>seasonId</th>\n",
       "      <th>winner</th>\n",
       "      <th>firstBlood</th>\n",
       "      <th>firstTower</th>\n",
       "      <th>firstInhibitor</th>\n",
       "      <th>firstBaron</th>\n",
       "      <th>firstDragon</th>\n",
       "      <th>...</th>\n",
       "      <th>t2_towerKills</th>\n",
       "      <th>t2_inhibitorKills</th>\n",
       "      <th>t2_baronKills</th>\n",
       "      <th>t2_dragonKills</th>\n",
       "      <th>t2_riftHeraldKills</th>\n",
       "      <th>t2_ban1</th>\n",
       "      <th>t2_ban2</th>\n",
       "      <th>t2_ban3</th>\n",
       "      <th>t2_ban4</th>\n",
       "      <th>t2_ban5</th>\n",
       "    </tr>\n",
       "  </thead>\n",
       "  <tbody>\n",
       "    <tr>\n",
       "      <th>count</th>\n",
       "      <td>5.149000e+04</td>\n",
       "      <td>5.149000e+04</td>\n",
       "      <td>51490.000000</td>\n",
       "      <td>51490.0</td>\n",
       "      <td>51490.000000</td>\n",
       "      <td>51490.000000</td>\n",
       "      <td>51490.000000</td>\n",
       "      <td>51490.000000</td>\n",
       "      <td>51490.000000</td>\n",
       "      <td>51490.000000</td>\n",
       "      <td>...</td>\n",
       "      <td>51490.000000</td>\n",
       "      <td>51490.000000</td>\n",
       "      <td>51490.000000</td>\n",
       "      <td>51490.000000</td>\n",
       "      <td>51490.000000</td>\n",
       "      <td>51490.000000</td>\n",
       "      <td>51490.000000</td>\n",
       "      <td>51490.000000</td>\n",
       "      <td>51490.000000</td>\n",
       "      <td>51490.000000</td>\n",
       "    </tr>\n",
       "    <tr>\n",
       "      <th>mean</th>\n",
       "      <td>3.306223e+09</td>\n",
       "      <td>1.502926e+12</td>\n",
       "      <td>1832.362808</td>\n",
       "      <td>9.0</td>\n",
       "      <td>1.493552</td>\n",
       "      <td>1.471295</td>\n",
       "      <td>1.450631</td>\n",
       "      <td>1.308487</td>\n",
       "      <td>0.926510</td>\n",
       "      <td>1.442804</td>\n",
       "      <td>...</td>\n",
       "      <td>5.549466</td>\n",
       "      <td>0.985084</td>\n",
       "      <td>0.414547</td>\n",
       "      <td>1.404370</td>\n",
       "      <td>0.240105</td>\n",
       "      <td>108.216294</td>\n",
       "      <td>107.910216</td>\n",
       "      <td>108.690581</td>\n",
       "      <td>108.626044</td>\n",
       "      <td>108.066576</td>\n",
       "    </tr>\n",
       "    <tr>\n",
       "      <th>std</th>\n",
       "      <td>2.946096e+07</td>\n",
       "      <td>1.978026e+09</td>\n",
       "      <td>512.017696</td>\n",
       "      <td>0.0</td>\n",
       "      <td>0.499963</td>\n",
       "      <td>0.520326</td>\n",
       "      <td>0.542848</td>\n",
       "      <td>0.676097</td>\n",
       "      <td>0.841424</td>\n",
       "      <td>0.569579</td>\n",
       "      <td>...</td>\n",
       "      <td>3.860989</td>\n",
       "      <td>1.256284</td>\n",
       "      <td>0.613768</td>\n",
       "      <td>1.224492</td>\n",
       "      <td>0.427151</td>\n",
       "      <td>102.551787</td>\n",
       "      <td>102.870710</td>\n",
       "      <td>102.592145</td>\n",
       "      <td>103.346952</td>\n",
       "      <td>102.756149</td>\n",
       "    </tr>\n",
       "    <tr>\n",
       "      <th>min</th>\n",
       "      <td>3.214824e+09</td>\n",
       "      <td>1.496892e+12</td>\n",
       "      <td>190.000000</td>\n",
       "      <td>9.0</td>\n",
       "      <td>1.000000</td>\n",
       "      <td>0.000000</td>\n",
       "      <td>0.000000</td>\n",
       "      <td>0.000000</td>\n",
       "      <td>0.000000</td>\n",
       "      <td>0.000000</td>\n",
       "      <td>...</td>\n",
       "      <td>0.000000</td>\n",
       "      <td>0.000000</td>\n",
       "      <td>0.000000</td>\n",
       "      <td>0.000000</td>\n",
       "      <td>0.000000</td>\n",
       "      <td>-1.000000</td>\n",
       "      <td>-1.000000</td>\n",
       "      <td>-1.000000</td>\n",
       "      <td>-1.000000</td>\n",
       "      <td>-1.000000</td>\n",
       "    </tr>\n",
       "    <tr>\n",
       "      <th>25%</th>\n",
       "      <td>3.292218e+09</td>\n",
       "      <td>1.502021e+12</td>\n",
       "      <td>1531.000000</td>\n",
       "      <td>9.0</td>\n",
       "      <td>1.000000</td>\n",
       "      <td>1.000000</td>\n",
       "      <td>1.000000</td>\n",
       "      <td>1.000000</td>\n",
       "      <td>0.000000</td>\n",
       "      <td>1.000000</td>\n",
       "      <td>...</td>\n",
       "      <td>2.000000</td>\n",
       "      <td>0.000000</td>\n",
       "      <td>0.000000</td>\n",
       "      <td>0.000000</td>\n",
       "      <td>0.000000</td>\n",
       "      <td>38.000000</td>\n",
       "      <td>37.000000</td>\n",
       "      <td>38.000000</td>\n",
       "      <td>38.000000</td>\n",
       "      <td>38.000000</td>\n",
       "    </tr>\n",
       "    <tr>\n",
       "      <th>50%</th>\n",
       "      <td>3.320021e+09</td>\n",
       "      <td>1.503844e+12</td>\n",
       "      <td>1833.000000</td>\n",
       "      <td>9.0</td>\n",
       "      <td>1.000000</td>\n",
       "      <td>1.000000</td>\n",
       "      <td>1.000000</td>\n",
       "      <td>1.000000</td>\n",
       "      <td>1.000000</td>\n",
       "      <td>1.000000</td>\n",
       "      <td>...</td>\n",
       "      <td>6.000000</td>\n",
       "      <td>0.000000</td>\n",
       "      <td>0.000000</td>\n",
       "      <td>1.000000</td>\n",
       "      <td>0.000000</td>\n",
       "      <td>90.000000</td>\n",
       "      <td>90.000000</td>\n",
       "      <td>90.000000</td>\n",
       "      <td>90.000000</td>\n",
       "      <td>90.000000</td>\n",
       "    </tr>\n",
       "    <tr>\n",
       "      <th>75%</th>\n",
       "      <td>3.327099e+09</td>\n",
       "      <td>1.504352e+12</td>\n",
       "      <td>2148.000000</td>\n",
       "      <td>9.0</td>\n",
       "      <td>2.000000</td>\n",
       "      <td>2.000000</td>\n",
       "      <td>2.000000</td>\n",
       "      <td>2.000000</td>\n",
       "      <td>2.000000</td>\n",
       "      <td>2.000000</td>\n",
       "      <td>...</td>\n",
       "      <td>9.000000</td>\n",
       "      <td>2.000000</td>\n",
       "      <td>1.000000</td>\n",
       "      <td>2.000000</td>\n",
       "      <td>0.000000</td>\n",
       "      <td>141.000000</td>\n",
       "      <td>141.000000</td>\n",
       "      <td>141.000000</td>\n",
       "      <td>141.000000</td>\n",
       "      <td>141.000000</td>\n",
       "    </tr>\n",
       "    <tr>\n",
       "      <th>max</th>\n",
       "      <td>3.331833e+09</td>\n",
       "      <td>1.504707e+12</td>\n",
       "      <td>4728.000000</td>\n",
       "      <td>9.0</td>\n",
       "      <td>2.000000</td>\n",
       "      <td>2.000000</td>\n",
       "      <td>2.000000</td>\n",
       "      <td>2.000000</td>\n",
       "      <td>2.000000</td>\n",
       "      <td>2.000000</td>\n",
       "      <td>...</td>\n",
       "      <td>11.000000</td>\n",
       "      <td>10.000000</td>\n",
       "      <td>4.000000</td>\n",
       "      <td>6.000000</td>\n",
       "      <td>1.000000</td>\n",
       "      <td>516.000000</td>\n",
       "      <td>516.000000</td>\n",
       "      <td>516.000000</td>\n",
       "      <td>516.000000</td>\n",
       "      <td>516.000000</td>\n",
       "    </tr>\n",
       "  </tbody>\n",
       "</table>\n",
       "<p>8 rows × 61 columns</p>\n",
       "</div>"
      ],
      "text/plain": [
       "             gameId  creationTime  gameDuration  seasonId        winner  \\\n",
       "count  5.149000e+04  5.149000e+04  51490.000000   51490.0  51490.000000   \n",
       "mean   3.306223e+09  1.502926e+12   1832.362808       9.0      1.493552   \n",
       "std    2.946096e+07  1.978026e+09    512.017696       0.0      0.499963   \n",
       "min    3.214824e+09  1.496892e+12    190.000000       9.0      1.000000   \n",
       "25%    3.292218e+09  1.502021e+12   1531.000000       9.0      1.000000   \n",
       "50%    3.320021e+09  1.503844e+12   1833.000000       9.0      1.000000   \n",
       "75%    3.327099e+09  1.504352e+12   2148.000000       9.0      2.000000   \n",
       "max    3.331833e+09  1.504707e+12   4728.000000       9.0      2.000000   \n",
       "\n",
       "         firstBlood    firstTower  firstInhibitor    firstBaron   firstDragon  \\\n",
       "count  51490.000000  51490.000000    51490.000000  51490.000000  51490.000000   \n",
       "mean       1.471295      1.450631        1.308487      0.926510      1.442804   \n",
       "std        0.520326      0.542848        0.676097      0.841424      0.569579   \n",
       "min        0.000000      0.000000        0.000000      0.000000      0.000000   \n",
       "25%        1.000000      1.000000        1.000000      0.000000      1.000000   \n",
       "50%        1.000000      1.000000        1.000000      1.000000      1.000000   \n",
       "75%        2.000000      2.000000        2.000000      2.000000      2.000000   \n",
       "max        2.000000      2.000000        2.000000      2.000000      2.000000   \n",
       "\n",
       "       ...  t2_towerKills  t2_inhibitorKills  t2_baronKills  t2_dragonKills  \\\n",
       "count  ...   51490.000000       51490.000000   51490.000000    51490.000000   \n",
       "mean   ...       5.549466           0.985084       0.414547        1.404370   \n",
       "std    ...       3.860989           1.256284       0.613768        1.224492   \n",
       "min    ...       0.000000           0.000000       0.000000        0.000000   \n",
       "25%    ...       2.000000           0.000000       0.000000        0.000000   \n",
       "50%    ...       6.000000           0.000000       0.000000        1.000000   \n",
       "75%    ...       9.000000           2.000000       1.000000        2.000000   \n",
       "max    ...      11.000000          10.000000       4.000000        6.000000   \n",
       "\n",
       "       t2_riftHeraldKills       t2_ban1       t2_ban2       t2_ban3  \\\n",
       "count        51490.000000  51490.000000  51490.000000  51490.000000   \n",
       "mean             0.240105    108.216294    107.910216    108.690581   \n",
       "std              0.427151    102.551787    102.870710    102.592145   \n",
       "min              0.000000     -1.000000     -1.000000     -1.000000   \n",
       "25%              0.000000     38.000000     37.000000     38.000000   \n",
       "50%              0.000000     90.000000     90.000000     90.000000   \n",
       "75%              0.000000    141.000000    141.000000    141.000000   \n",
       "max              1.000000    516.000000    516.000000    516.000000   \n",
       "\n",
       "            t2_ban4       t2_ban5  \n",
       "count  51490.000000  51490.000000  \n",
       "mean     108.626044    108.066576  \n",
       "std      103.346952    102.756149  \n",
       "min       -1.000000     -1.000000  \n",
       "25%       38.000000     38.000000  \n",
       "50%       90.000000     90.000000  \n",
       "75%      141.000000    141.000000  \n",
       "max      516.000000    516.000000  \n",
       "\n",
       "[8 rows x 61 columns]"
      ]
     },
     "execution_count": 6,
     "metadata": {},
     "output_type": "execute_result"
    }
   ],
   "source": [
    "games_full.describe()"
   ]
  },
  {
   "cell_type": "code",
   "execution_count": 7,
   "metadata": {},
   "outputs": [
    {
     "data": {
      "text/plain": [
       "1    26077\n",
       "2    25413\n",
       "Name: winner, dtype: int64"
      ]
     },
     "execution_count": 7,
     "metadata": {},
     "output_type": "execute_result"
    }
   ],
   "source": [
    "games_full['winner'].value_counts()"
   ]
  },
  {
   "cell_type": "markdown",
   "metadata": {},
   "source": [
    "**Team 1 won 50.56% of the games and team 2 won 49.44% of the games. It's going to be hard to determine why each team won their game when these numbers are so close. Maybe there was a determinant factor that lead to these games being won?**\n",
    "\n",
    "**Some important milestones are first blood,first dragon,first tower, first baron, first inhibitor. These are important factors in winning games**"
   ]
  },
  {
   "cell_type": "code",
   "execution_count": 8,
   "metadata": {},
   "outputs": [
    {
     "data": {
      "text/plain": [
       "1    26113\n",
       "2    24822\n",
       "0      555\n",
       "Name: firstBlood, dtype: int64"
      ]
     },
     "execution_count": 8,
     "metadata": {},
     "output_type": "execute_result"
    }
   ],
   "source": [
    "games_full['firstBlood'].value_counts()"
   ]
  },
  {
   "cell_type": "markdown",
   "metadata": {},
   "source": [
    "**388 games had no first blood meaning there were some early surrenders/remakes. Team 1 has more first bloods than wins, which means they got first blood some games but still ended up losing.**"
   ]
  },
  {
   "cell_type": "code",
   "execution_count": 11,
   "metadata": {},
   "outputs": [
    {
     "data": {
      "text/plain": [
       "1    25861\n",
       "2    24416\n",
       "0     1213\n",
       "Name: firstTower, dtype: int64"
      ]
     },
     "execution_count": 11,
     "metadata": {},
     "output_type": "execute_result"
    }
   ],
   "source": [
    "games_full['firstTower'].value_counts()"
   ]
  },
  {
   "cell_type": "markdown",
   "metadata": {},
   "source": [
    "**It seems that there is a high correlation between first towers and winning a game. However, even though a team took the first tower that does not mean they won. There are so many other factors that should be considered.**"
   ]
  },
  {
   "cell_type": "code",
   "execution_count": 10,
   "metadata": {},
   "outputs": [
    {
     "data": {
      "text/plain": [
       "2    24800\n",
       "1    24690\n",
       "0     2000\n",
       "Name: firstDragon, dtype: int64"
      ]
     },
     "execution_count": 10,
     "metadata": {},
     "output_type": "execute_result"
    }
   ],
   "source": [
    "games_full['firstDragon'].value_counts()"
   ]
  },
  {
   "cell_type": "code",
   "execution_count": 12,
   "metadata": {},
   "outputs": [
    {
     "data": {
      "text/plain": [
       "0    20258\n",
       "2    16474\n",
       "1    14758\n",
       "Name: firstBaron, dtype: int64"
      ]
     },
     "execution_count": 12,
     "metadata": {},
     "output_type": "execute_result"
    }
   ],
   "source": [
    "games_full['firstBaron'].value_counts()"
   ]
  },
  {
   "cell_type": "code",
   "execution_count": 13,
   "metadata": {},
   "outputs": [
    {
     "data": {
      "text/plain": [
       "1    23054\n",
       "2    22160\n",
       "0     6276\n",
       "Name: firstInhibitor, dtype: int64"
      ]
     },
     "execution_count": 13,
     "metadata": {},
     "output_type": "execute_result"
    }
   ],
   "source": [
    "games_full['firstInhibitor'].value_counts()"
   ]
  },
  {
   "cell_type": "code",
   "execution_count": 14,
   "metadata": {},
   "outputs": [
    {
     "data": {
      "text/plain": [
       "<AxesSubplot:xlabel='firstDragon', ylabel='count'>"
      ]
     },
     "execution_count": 14,
     "metadata": {},
     "output_type": "execute_result"
    },
    {
     "data": {
      "image/png": "[encoded data removed]",
      "text/plain": [
       "<Figure size 432x288 with 1 Axes>"
      ]
     },
     "metadata": {
      "needs_background": "light"
     },
     "output_type": "display_data"
    }
   ],
   "source": [
    "sns.countplot(x='firstDragon',data=games_full)"
   ]
  },
  {
   "cell_type": "code",
   "execution_count": 15,
   "metadata": {},
   "outputs": [
    {
     "data": {
      "text/plain": [
       "<AxesSubplot:xlabel='winner', ylabel='count'>"
      ]
     },
     "execution_count": 15,
     "metadata": {},
     "output_type": "execute_result"
    },
    {
     "data": {
      "image/png": "[encoded data removed]",
      "text/plain": [
       "<Figure size 432x288 with 1 Axes>"
      ]
     },
     "metadata": {
      "needs_background": "light"
     },
     "output_type": "display_data"
    }
   ],
   "source": [
    "sns.countplot(x='winner',data=games_full,hue='firstDragon')"
   ]
  },
  {
   "cell_type": "code",
   "execution_count": 16,
   "metadata": {},
   "outputs": [
    {
     "data": {
      "text/plain": [
       "<AxesSubplot:xlabel='winner', ylabel='count'>"
      ]
     },
     "execution_count": 16,
     "metadata": {},
     "output_type": "execute_result"
    },
    {
     "data": {
      "image/png": "[encoded data removed]",
      "text/plain": [
       "<Figure size 432x288 with 1 Axes>"
      ]
     },
     "metadata": {
      "needs_background": "light"
     },
     "output_type": "display_data"
    }
   ],
   "source": [
    "sns.countplot(x='winner',data=games_full,hue='firstBlood')"
   ]
  },
  {
   "cell_type": "code",
   "execution_count": 17,
   "metadata": {},
   "outputs": [
    {
     "data": {
      "text/plain": [
       "<AxesSubplot:xlabel='winner', ylabel='count'>"
      ]
     },
     "execution_count": 17,
     "metadata": {},
     "output_type": "execute_result"
    },
    {
     "data": {
      "image/png": "[encoded data removed]",
      "text/plain": [
       "<Figure size 432x288 with 1 Axes>"
      ]
     },
     "metadata": {
      "needs_background": "light"
     },
     "output_type": "display_data"
    }
   ],
   "source": [
    "sns.countplot(x='winner',data=games_full,hue='firstTower')"
   ]
  },
  {
   "cell_type": "code",
   "execution_count": 18,
   "metadata": {},
   "outputs": [
    {
     "data": {
      "text/plain": [
       "<AxesSubplot:xlabel='winner', ylabel='count'>"
      ]
     },
     "execution_count": 18,
     "metadata": {},
     "output_type": "execute_result"
    },
    {
     "data": {
      "image/png": "[encoded data removed]",
      "text/plain": [
       "<Figure size 432x288 with 1 Axes>"
      ]
     },
     "metadata": {
      "needs_background": "light"
     },
     "output_type": "display_data"
    }
   ],
   "source": [
    "sns.countplot(x='winner',data=games_full,hue='firstBaron')"
   ]
  },
  {
   "cell_type": "code",
   "execution_count": 19,
   "metadata": {},
   "outputs": [
    {
     "data": {
      "text/plain": [
       "<AxesSubplot:xlabel='winner', ylabel='count'>"
      ]
     },
     "execution_count": 19,
     "metadata": {},
     "output_type": "execute_result"
    },
    {
     "data": {
      "image/png": "[encoded data removed]",
      "text/plain": [
       "<Figure size 432x288 with 1 Axes>"
      ]
     },
     "metadata": {
      "needs_background": "light"
     },
     "output_type": "display_data"
    }
   ],
   "source": [
    "sns.countplot(x='winner',data=games_full,hue='firstInhibitor')"
   ]
  },
  {
   "cell_type": "markdown",
   "metadata": {},
   "source": [
    "# Comparing these different features:\n",
    "\n",
    "1. These features all highly correlate with what team won that game. \n",
    "2. It seems like global objectives such as towers,dragons, and an extremely high correlation between first inhibitor and winning a game. \n",
    "3. First baron does not seem as important but we should take into consideration the length of these games as well. Baron does not spawn until 20 minutes into the game."
   ]
  },
  {
   "cell_type": "code",
   "execution_count": 28,
   "metadata": {},
   "outputs": [],
   "source": [
    "corr_matrix = games_full.corr()"
   ]
  },
  {
   "cell_type": "code",
   "execution_count": 29,
   "metadata": {},
   "outputs": [
    {
     "data": {
      "text/plain": [
       "winner               1.000000\n",
       "t2_towerKills        0.785813\n",
       "t2_inhibitorKills    0.660452\n",
       "firstInhibitor       0.536437\n",
       "t2_dragonKills       0.497206\n",
       "                       ...   \n",
       "t1_baronKills       -0.369472\n",
       "t1_dragonKills      -0.472483\n",
       "t1_inhibitorKills   -0.649405\n",
       "t1_towerKills       -0.771541\n",
       "seasonId                  NaN\n",
       "Name: winner, Length: 61, dtype: float64"
      ]
     },
     "execution_count": 29,
     "metadata": {},
     "output_type": "execute_result"
    }
   ],
   "source": [
    "corr_matrix['winner'].sort_values(ascending=False)"
   ]
  },
  {
   "cell_type": "code",
   "execution_count": 30,
   "metadata": {},
   "outputs": [
    {
     "data": {
      "text/plain": [
       "<AxesSubplot:xlabel='t2_towerKills', ylabel='count'>"
      ]
     },
     "execution_count": 30,
     "metadata": {},
     "output_type": "execute_result"
    },
    {
     "data": {
      "image/png": "[encoded data removed]",
      "text/plain": [
       "<Figure size 432x288 with 1 Axes>"
      ]
     },
     "metadata": {
      "needs_background": "light"
     },
     "output_type": "display_data"
    }
   ],
   "source": [
    "sns.countplot(x='t2_towerKills',data=games_full,hue='winner')"
   ]
  },
  {
   "cell_type": "code",
   "execution_count": 31,
   "metadata": {},
   "outputs": [
    {
     "data": {
      "text/plain": [
       "<AxesSubplot:xlabel='t1_towerKills', ylabel='count'>"
      ]
     },
     "execution_count": 31,
     "metadata": {},
     "output_type": "execute_result"
    },
    {
     "data": {
      "image/png": "[encoded data removed]",
      "text/plain": [
       "<Figure size 432x288 with 1 Axes>"
      ]
     },
     "metadata": {
      "needs_background": "light"
     },
     "output_type": "display_data"
    }
   ],
   "source": [
    "sns.countplot(x='t1_towerKills',data=games_full,hue='winner')"
   ]
  },
  {
   "cell_type": "code",
   "execution_count": 32,
   "metadata": {},
   "outputs": [
    {
     "name": "stdout",
     "output_type": "stream",
     "text": [
      "Team 1 banned 157 157    16618\n",
      "Name: t1_ban1, dtype: int64 times.\n",
      "Team 2 banned 157 157    16397\n",
      "Name: t2_ban1, dtype: int64 times.\n"
     ]
    }
   ],
   "source": [
    "sum_157_1 = 0\n",
    "sum_157_2 = 0\n",
    "for i in range(1,3):\n",
    "    for j in range(1,6):\n",
    "        if i == 1:\n",
    "            sum_157_1 += games_full[games_full['t' + str(i) + '_ban' + str(j)] == 157]['t' + str(i) + '_ban' + str(j)].value_counts()\n",
    "        else:\n",
    "            sum_157_2 += games_full[games_full['t' + str(i) + '_ban' + str(j)] == 157]['t' + str(i) + '_ban' + str(j)].value_counts()\n",
    "\n",
    "print('Team 1 banned 157 %s times.' % str(sum_157_1))\n",
    "print('Team 2 banned 157 %s times.' % str(sum_157_2))\n"
   ]
  },
  {
   "cell_type": "code",
   "execution_count": 33,
   "metadata": {},
   "outputs": [],
   "source": [
    "games_full['gameDuration']=games_full['gameDuration'].apply(lambda x: x/60)"
   ]
  },
  {
   "cell_type": "code",
   "execution_count": 34,
   "metadata": {},
   "outputs": [
    {
     "data": {
      "text/plain": [
       "<AxesSubplot:>"
      ]
     },
     "execution_count": 34,
     "metadata": {},
     "output_type": "execute_result"
    },
    {
     "data": {
      "image/png": "[encoded data removed]",
      "text/plain": [
       "<Figure size 432x288 with 1 Axes>"
      ]
     },
     "metadata": {
      "needs_background": "light"
     },
     "output_type": "display_data"
    }
   ],
   "source": [
    "games_full['gameDuration'].hist()"
   ]
  },
  {
   "cell_type": "code",
   "execution_count": 35,
   "metadata": {},
   "outputs": [],
   "source": [
    "tower = games_full[['firstInhibitor','winner']]"
   ]
  },
  {
   "cell_type": "code",
   "execution_count": 36,
   "metadata": {},
   "outputs": [],
   "source": [
    "winner_1 = 18223\n",
    "winner_2 = 17820"
   ]
  },
  {
   "cell_type": "code",
   "execution_count": 37,
   "metadata": {},
   "outputs": [
    {
     "data": {
      "text/plain": [
       "114.95911759863908"
      ]
     },
     "execution_count": 37,
     "metadata": {},
     "output_type": "execute_result"
    }
   ],
   "source": [
    "(tower[games_full['firstInhibitor']==1][games_full['winner']==1].sum()['winner']/winner_1) * 100"
   ]
  },
  {
   "cell_type": "code",
   "execution_count": 38,
   "metadata": {},
   "outputs": [],
   "source": [
    "def calc_win_percent(team,feature,data,winner):\n",
    "    win = data[[feature,'winner']]\n",
    "    if team == 1:\n",
    "        win = (win[data[feature] == team][data['winner']==team].sum()['winner']/winner) * 100\n",
    "    else:\n",
    "        win = ((win[data[feature] == team][data['winner']==team].sum()/2)['winner']/winner) * 100\n",
    "    return win"
   ]
  },
  {
   "cell_type": "code",
   "execution_count": 39,
   "metadata": {},
   "outputs": [],
   "source": [
    "first_tower_win_1 = calc_win_percent(1,'firstTower',games_full,winner_1)"
   ]
  },
  {
   "cell_type": "code",
   "execution_count": 40,
   "metadata": {},
   "outputs": [],
   "source": [
    "first_features = []\n",
    "features = ['firstTower','firstBlood','firstInhibitor','firstDragon','firstBaron']\n",
    "firstTower_win1 = calc_win_percent(1,'firstTower',games_full,winner_1)\n",
    "first_features.append(firstTower_win1)\n",
    "\n",
    "firstTower_win2 = calc_win_percent(2,'firstTower',games_full,winner_2)\n",
    "first_features.append(firstTower_win2)\n",
    "\n",
    "firstBlood_win1 = calc_win_percent(1,'firstBlood',games_full,winner_1)\n",
    "first_features.append(firstBlood_win1)\n",
    "\n",
    "firstBlood_win2= calc_win_percent(2,'firstBlood',games_full,winner_2)\n",
    "first_features.append(firstBlood_win2)\n",
    "\n",
    "firstInhib_win1 = calc_win_percent(1,'firstInhibitor',games_full,winner_1)\n",
    "first_features.append(firstInhib_win1)\n",
    "\n",
    "firstInhib_win2 = calc_win_percent(2,'firstInhibitor',games_full,winner_2)\n",
    "first_features.append(firstInhib_win2)\n",
    "\n",
    "firstDragon_win1 = calc_win_percent(1,'firstDragon',games_full,winner_1)\n",
    "first_features.append(firstDragon_win1)\n",
    "\n",
    "firstDragon_win2 = calc_win_percent(2,'firstDragon',games_full,winner_2)\n",
    "first_features.append(firstDragon_win2)\n",
    "\n",
    "firstBaron_win1 = calc_win_percent(1,'firstBaron',games_full,winner_1)\n",
    "first_features.append(firstBaron_win1)\n",
    "\n",
    "firstBaron_win2 = calc_win_percent(2,'firstBaron',games_full,winner_2)\n",
    "first_features.append(firstBaron_win2)\n"
   ]
  },
  {
   "cell_type": "code",
   "execution_count": 41,
   "metadata": {},
   "outputs": [
    {
     "name": "stdout",
     "output_type": "stream",
     "text": [
      "firstTower:\n",
      "Team 1 - 100.53229435328981 win rate \n",
      "Team 2- 97.00897867564534 win rate \n",
      "firstBlood:\n",
      "Team 1 - 85.23294737419744 win rate \n",
      "Team 2- 81.79012345679013 win rate \n",
      "firstInhibitor:\n",
      "Team 1 - 114.95911759863908 win rate \n",
      "Team 2- 113.59147025813692 win rate \n",
      "firstDragon:\n",
      "Team 1 - 92.94298414092081 win rate \n",
      "Team 2- 93.89450056116722 win rate \n",
      "firstBaron:\n",
      "Team 1 - 65.73012127531142 win rate \n",
      "Team 2- 74.18069584736251 win rate \n"
     ]
    }
   ],
   "source": [
    "i =0\n",
    "while i < len(features):\n",
    "    print('%s:' % features[i])\n",
    "    \n",
    "    print('Team 1 - %s win rate '% first_features[2*i])\n",
    "    print('Team 2- %s win rate ' % first_features[2*i+1])\n",
    "    i += 1"
   ]
  },
  {
   "cell_type": "code",
   "execution_count": 42,
   "metadata": {},
   "outputs": [],
   "source": [
    "team =[1,2]\n",
    "\n",
    "first_team = [first_features[i] for i in range(0,9,2)]\n",
    "second_team = [first_features[i] for i in range(1,10,2)]"
   ]
  },
  {
   "cell_type": "code",
   "execution_count": 36,
   "metadata": {},
   "outputs": [],
   "source": [
    "win_probability = pd.DataFrame([first_team,second_team],columns=features,index=[team]).reset_index()"
   ]
  },
  {
   "cell_type": "code",
   "execution_count": 37,
   "metadata": {},
   "outputs": [],
   "source": [
    "win_probability=win_probability.rename(columns={'level_0':'winner'})"
   ]
  },
  {
   "cell_type": "code",
   "execution_count": 38,
   "metadata": {},
   "outputs": [
    {
     "data": {
      "text/plain": [
       "<matplotlib.legend.Legend at 0x2351d8dc3d0>"
      ]
     },
     "execution_count": 38,
     "metadata": {},
     "output_type": "execute_result"
    },
    {
     "data": {
      "image/png": "[encoded data removed]",
      "text/plain": [
       "<Figure size 720x360 with 1 Axes>"
      ]
     },
     "metadata": {
      "needs_background": "light"
     },
     "output_type": "display_data"
    }
   ],
   "source": [
    "pos = list(range(len(win_probability['winner'])))\n",
    "width = 0.10\n",
    "\n",
    "#plotting the bars\n",
    "fig,ax= plt.subplots(figsize=(10,5))\n",
    "\n",
    "#create a bar with firstblood data, in position pos\n",
    "\n",
    "plt.bar(pos,\n",
    "       win_probability['firstTower'],\n",
    "       width,\n",
    "       alpha=0.5,\n",
    "       color ='#DC143C',\n",
    "       label=win_probability.columns[1])\n",
    "\n",
    "plt.bar([p + width for p in pos],\n",
    "       win_probability['firstBlood'],\n",
    "       width,\n",
    "       alpha=0.5,\n",
    "       color ='#FF4500',\n",
    "       label=win_probability.columns[2])\n",
    "\n",
    "plt.bar([p + width*2 for p in pos],\n",
    "       win_probability['firstInhibitor'],\n",
    "       width,\n",
    "       alpha=0.5,\n",
    "       color ='#FFFF00',\n",
    "       label=win_probability.columns[3])\n",
    "\n",
    "plt.bar([p + width*3 for p in pos],\n",
    "       win_probability['firstDragon'],\n",
    "       width,\n",
    "       alpha=0.5,\n",
    "       color ='#0000FF',\n",
    "       label=win_probability.columns[4])\n",
    "\n",
    "plt.bar([p + width*4 for p in pos],\n",
    "       win_probability['firstBaron'],\n",
    "       width,\n",
    "       alpha=0.5,\n",
    "       color ='#ADFF2F',\n",
    "       label=win_probability.columns[5])\n",
    "\n",
    "plt.xlim(min(pos)-width, max(pos)+width*5)\n",
    "ax.set_ylabel('Win Probability')\n",
    "ax.set_xlabel('Team')\n",
    "ax.set_title('Probaility of winning from first objective')\n",
    "ax.set_xticks([p + 2 * width for p in pos])\n",
    "ax.set_xticklabels(win_probability['winner'])\n",
    "plt.legend()"
   ]
  },
  {
   "cell_type": "markdown",
   "metadata": {},
   "source": [
    "# Features:\n",
    "\n",
    "We analyze some features to understand which has the potential to impact winning a game. So far it seems that when a team took the first tower, inhibitor or dragon they had the highest chance of winning while taking first blood and baron were not as important. \n",
    "\n",
    "I want to see what was the average amount of towers, inhibitors, dragons and barons for each team when they won.\n",
    "Then I want to see if the champ select/ban phase impacted the win rate."
   ]
  },
  {
   "cell_type": "code",
   "execution_count": 25,
   "metadata": {},
   "outputs": [
    {
     "data": {
      "text/plain": [
       "Index(['gameId', 'creationTime', 'gameDuration', 'seasonId', 'winner',\n",
       "       'firstBlood', 'firstTower', 'firstInhibitor', 'firstBaron',\n",
       "       'firstDragon', 'firstRiftHerald', 't1_champ1id', 't1_champ1_sum1',\n",
       "       't1_champ1_sum2', 't1_champ2id', 't1_champ2_sum1', 't1_champ2_sum2',\n",
       "       't1_champ3id', 't1_champ3_sum1', 't1_champ3_sum2', 't1_champ4id',\n",
       "       't1_champ4_sum1', 't1_champ4_sum2', 't1_champ5id', 't1_champ5_sum1',\n",
       "       't1_champ5_sum2', 't1_towerKills', 't1_inhibitorKills', 't1_baronKills',\n",
       "       't1_dragonKills', 't1_riftHeraldKills', 't1_ban1', 't1_ban2', 't1_ban3',\n",
       "       't1_ban4', 't1_ban5', 't2_champ1id', 't2_champ1_sum1', 't2_champ1_sum2',\n",
       "       't2_champ2id', 't2_champ2_sum1', 't2_champ2_sum2', 't2_champ3id',\n",
       "       't2_champ3_sum1', 't2_champ3_sum2', 't2_champ4id', 't2_champ4_sum1',\n",
       "       't2_champ4_sum2', 't2_champ5id', 't2_champ5_sum1', 't2_champ5_sum2',\n",
       "       't2_towerKills', 't2_inhibitorKills', 't2_baronKills', 't2_dragonKills',\n",
       "       't2_riftHeraldKills', 't2_ban1', 't2_ban2', 't2_ban3', 't2_ban4',\n",
       "       't2_ban5'],\n",
       "      dtype='object')"
      ]
     },
     "execution_count": 25,
     "metadata": {},
     "output_type": "execute_result"
    }
   ],
   "source": [
    "games_full.columns"
   ]
  },
  {
   "cell_type": "code",
   "execution_count": 24,
   "metadata": {},
   "outputs": [
    {
     "data": {
      "text/html": [
       "<div>\n",
       "<style scoped>\n",
       "    .dataframe tbody tr th:only-of-type {\n",
       "        vertical-align: middle;\n",
       "    }\n",
       "\n",
       "    .dataframe tbody tr th {\n",
       "        vertical-align: top;\n",
       "    }\n",
       "\n",
       "    .dataframe thead th {\n",
       "        text-align: right;\n",
       "    }\n",
       "</style>\n",
       "<table border=\"1\" class=\"dataframe\">\n",
       "  <thead>\n",
       "    <tr style=\"text-align: right;\">\n",
       "      <th></th>\n",
       "      <th>t1_towerKills</th>\n",
       "      <th>t1_inhibitorKills</th>\n",
       "      <th>t1_baronKills</th>\n",
       "      <th>t1_dragonKills</th>\n",
       "      <th>t1_riftHeraldKills</th>\n",
       "      <th>t2_towerKills</th>\n",
       "      <th>t2_inhibitorKills</th>\n",
       "      <th>t2_baronKills</th>\n",
       "      <th>t2_dragonKills</th>\n",
       "      <th>t2_riftHeraldKills</th>\n",
       "    </tr>\n",
       "    <tr>\n",
       "      <th>winner</th>\n",
       "      <th></th>\n",
       "      <th></th>\n",
       "      <th></th>\n",
       "      <th></th>\n",
       "      <th></th>\n",
       "      <th></th>\n",
       "      <th></th>\n",
       "      <th></th>\n",
       "      <th></th>\n",
       "      <th></th>\n",
       "    </tr>\n",
       "  </thead>\n",
       "  <tbody>\n",
       "    <tr>\n",
       "      <th>1</th>\n",
       "      <td>8.593473</td>\n",
       "      <td>1.827818</td>\n",
       "      <td>0.585267</td>\n",
       "      <td>1.950071</td>\n",
       "      <td>0.344863</td>\n",
       "      <td>2.554358</td>\n",
       "      <td>0.166008</td>\n",
       "      <td>0.172643</td>\n",
       "      <td>0.803352</td>\n",
       "      <td>0.144764</td>\n",
       "    </tr>\n",
       "    <tr>\n",
       "      <th>2</th>\n",
       "      <td>2.729627</td>\n",
       "      <td>0.186086</td>\n",
       "      <td>0.153740</td>\n",
       "      <td>0.809586</td>\n",
       "      <td>0.155629</td>\n",
       "      <td>8.622831</td>\n",
       "      <td>1.825562</td>\n",
       "      <td>0.662771</td>\n",
       "      <td>2.021092</td>\n",
       "      <td>0.337937</td>\n",
       "    </tr>\n",
       "  </tbody>\n",
       "</table>\n",
       "</div>"
      ],
      "text/plain": [
       "        t1_towerKills  t1_inhibitorKills  t1_baronKills  t1_dragonKills  \\\n",
       "winner                                                                    \n",
       "1            8.593473           1.827818       0.585267        1.950071   \n",
       "2            2.729627           0.186086       0.153740        0.809586   \n",
       "\n",
       "        t1_riftHeraldKills  t2_towerKills  t2_inhibitorKills  t2_baronKills  \\\n",
       "winner                                                                        \n",
       "1                 0.344863       2.554358           0.166008       0.172643   \n",
       "2                 0.155629       8.622831           1.825562       0.662771   \n",
       "\n",
       "        t2_dragonKills  t2_riftHeraldKills  \n",
       "winner                                      \n",
       "1             0.803352            0.144764  \n",
       "2             2.021092            0.337937  "
      ]
     },
     "execution_count": 24,
     "metadata": {},
     "output_type": "execute_result"
    }
   ],
   "source": [
    "study = ['t1_towerKills','t1_inhibitorKills','t1_baronKills','t1_dragonKills','t1_riftHeraldKills','t2_towerKills','t2_inhibitorKills','t2_baronKills','t2_dragonKills','t2_riftHeraldKills']\n",
    "games_full.groupby('winner')[study].mean()"
   ]
  },
  {
   "cell_type": "code",
   "execution_count": 23,
   "metadata": {},
   "outputs": [
    {
     "data": {
      "text/plain": [
       "<AxesSubplot:xlabel='t1_towerKills', ylabel='count'>"
      ]
     },
     "execution_count": 23,
     "metadata": {},
     "output_type": "execute_result"
    },
    {
     "data": {
      "image/png": "[encoded data removed]",
      "text/plain": [
       "<Figure size 432x288 with 1 Axes>"
      ]
     },
     "metadata": {
      "needs_background": "light"
     },
     "output_type": "display_data"
    }
   ],
   "source": [
    "sns.countplot(x='t1_towerKills',data=games_full,hue='winner')"
   ]
  },
  {
   "cell_type": "code",
   "execution_count": 22,
   "metadata": {},
   "outputs": [
    {
     "data": {
      "text/plain": [
       "<AxesSubplot:xlabel='t2_towerKills', ylabel='count'>"
      ]
     },
     "execution_count": 22,
     "metadata": {},
     "output_type": "execute_result"
    },
    {
     "data": {
      "image/png": "[encoded data removed]",
      "text/plain": [
       "<Figure size 432x288 with 1 Axes>"
      ]
     },
     "metadata": {
      "needs_background": "light"
     },
     "output_type": "display_data"
    }
   ],
   "source": [
    "sns.countplot(x='t2_towerKills',data=games_full,hue='winner')"
   ]
  },
  {
   "cell_type": "markdown",
   "metadata": {},
   "source": [
    "**Let's now check the data on champion info, which involves team compositions and banned champions.**z\n",
    "\n",
    "**What I am most curious about is the most played champion, the champion that had the highest win rate and the highest banned champion.**"
   ]
  },
  {
   "cell_type": "code",
   "execution_count": 21,
   "metadata": {},
   "outputs": [
    {
     "data": {
      "text/plain": [
       "t1_ban1  seasonId\n",
       "157      9           3403\n",
       "238      9           2511\n",
       "31       9           2460\n",
       "122      9           2319\n",
       "40       9           2083\n",
       "                     ... \n",
       "101      9             11\n",
       "30       9             11\n",
       "78       9              9\n",
       "13       9              8\n",
       "72       9              7\n",
       "Name: seasonId, Length: 139, dtype: int64"
      ]
     },
     "execution_count": 21,
     "metadata": {},
     "output_type": "execute_result"
    }
   ],
   "source": [
    "games_full.groupby(['t1_ban1'])['seasonId'].value_counts().sort_values(ascending=False)"
   ]
  },
  {
   "cell_type": "code",
   "execution_count": 20,
   "metadata": {},
   "outputs": [
    {
     "data": {
      "text/plain": [
       "t2_ban1  seasonId\n",
       "157      9           3307\n",
       "238      9           2544\n",
       "31       9           2538\n",
       "40       9           2308\n",
       "122      9           2274\n",
       "                     ... \n",
       "106      9             13\n",
       "13       9             10\n",
       "14       9             10\n",
       "72       9              8\n",
       "77       9              6\n",
       "Name: seasonId, Length: 139, dtype: int64"
      ]
     },
     "execution_count": 20,
     "metadata": {},
     "output_type": "execute_result"
    }
   ],
   "source": [
    "games_full.groupby(['t2_ban1'])['seasonId'].value_counts().sort_values(ascending=False)"
   ]
  },
  {
   "cell_type": "markdown",
   "metadata": {},
   "source": [
    "**Right off the bat the top 11 champions who were banned the in the first pick out of our 36043 games are shared between team 1 and 2. This means that in any games they are most likely banned entirely.**"
   ]
  },
  {
   "cell_type": "markdown",
   "metadata": {},
   "source": [
    "##### Combining the coloumns into 'Team1' and 'Team2' columns for better assessment of champion data"
   ]
  },
  {
   "cell_type": "code",
   "execution_count": 45,
   "metadata": {},
   "outputs": [],
   "source": [
    "\"\"\"Creating dataframe 'total_team by selecting columns to aggregate, \n",
    "and then addding 2 columns Team_1 and Team_2, to contain team composition and winner\"\"\"\n",
    "\n",
    "team_comp= ['winner','t1_champ1id','t1_champ2id','t1_champ3id','t1_champ4id','t1_champ5id','t2_champ1id','t2_champ2id','t2_champ3id','t2_champ4id','t2_champ5id']\n",
    "total_team = games_full[team_comp]\n"
   ]
  },
  {
   "cell_type": "code",
   "execution_count": 46,
   "metadata": {},
   "outputs": [],
   "source": [
    "\n",
    "total_team['Team_1'] = 0\n",
    "total_team['Team_2'] = 0"
   ]
  },
  {
   "cell_type": "markdown",
   "metadata": {},
   "source": [
    "##### Creating a function to take in a dataframe as argument. It converts team columns into object data types and loops over each row,slices information containing champions converts it to a list and pushses it to the respective team column.\n"
   ]
  },
  {
   "cell_type": "code",
   "execution_count": 47,
   "metadata": {},
   "outputs": [],
   "source": [
    "\n",
    "def aggregate_columns(dataframe):\n",
    "    dataframe.reset_index(drop=True,inplace=True)\n",
    "    dataframe['Team_1'] = dataframe['Team_1'].astype(object)\n",
    "    dataframe['Team_2'] = dataframe['Team_2'].astype(object)\n",
    "    for index in dataframe.index:\n",
    "        Team=dataframe.loc[index][1:6].tolist()\n",
    "        dataframe.at[index,'Team_1'] = Team\n",
    "        Team2=dataframe.loc[index][6:11].tolist()\n",
    "        dataframe.at[index,'Team_2'] = Team2\n",
    "    return dataframe"
   ]
  },
  {
   "cell_type": "code",
   "execution_count": 48,
   "metadata": {},
   "outputs": [],
   "source": [
    "total_team = aggregate_columns(total_team)"
   ]
  },
  {
   "cell_type": "code",
   "execution_count": 49,
   "metadata": {},
   "outputs": [
    {
     "data": {
      "text/html": [
       "<div>\n",
       "<style scoped>\n",
       "    .dataframe tbody tr th:only-of-type {\n",
       "        vertical-align: middle;\n",
       "    }\n",
       "\n",
       "    .dataframe tbody tr th {\n",
       "        vertical-align: top;\n",
       "    }\n",
       "\n",
       "    .dataframe thead th {\n",
       "        text-align: right;\n",
       "    }\n",
       "</style>\n",
       "<table border=\"1\" class=\"dataframe\">\n",
       "  <thead>\n",
       "    <tr style=\"text-align: right;\">\n",
       "      <th></th>\n",
       "      <th>winner</th>\n",
       "      <th>t1_champ1id</th>\n",
       "      <th>t1_champ2id</th>\n",
       "      <th>t1_champ3id</th>\n",
       "      <th>t1_champ4id</th>\n",
       "      <th>t1_champ5id</th>\n",
       "      <th>t2_champ1id</th>\n",
       "      <th>t2_champ2id</th>\n",
       "      <th>t2_champ3id</th>\n",
       "      <th>t2_champ4id</th>\n",
       "      <th>t2_champ5id</th>\n",
       "      <th>Team_1</th>\n",
       "      <th>Team_2</th>\n",
       "    </tr>\n",
       "  </thead>\n",
       "  <tbody>\n",
       "    <tr>\n",
       "      <th>0</th>\n",
       "      <td>1</td>\n",
       "      <td>121</td>\n",
       "      <td>119</td>\n",
       "      <td>236</td>\n",
       "      <td>497</td>\n",
       "      <td>75</td>\n",
       "      <td>22</td>\n",
       "      <td>54</td>\n",
       "      <td>61</td>\n",
       "      <td>40</td>\n",
       "      <td>107</td>\n",
       "      <td>[121, 119, 236, 497, 75]</td>\n",
       "      <td>[22, 54, 61, 40, 107]</td>\n",
       "    </tr>\n",
       "    <tr>\n",
       "      <th>1</th>\n",
       "      <td>1</td>\n",
       "      <td>134</td>\n",
       "      <td>22</td>\n",
       "      <td>59</td>\n",
       "      <td>17</td>\n",
       "      <td>37</td>\n",
       "      <td>429</td>\n",
       "      <td>117</td>\n",
       "      <td>64</td>\n",
       "      <td>86</td>\n",
       "      <td>61</td>\n",
       "      <td>[134, 22, 59, 17, 37]</td>\n",
       "      <td>[429, 117, 64, 86, 61]</td>\n",
       "    </tr>\n",
       "    <tr>\n",
       "      <th>2</th>\n",
       "      <td>2</td>\n",
       "      <td>131</td>\n",
       "      <td>75</td>\n",
       "      <td>141</td>\n",
       "      <td>53</td>\n",
       "      <td>67</td>\n",
       "      <td>19</td>\n",
       "      <td>412</td>\n",
       "      <td>96</td>\n",
       "      <td>27</td>\n",
       "      <td>112</td>\n",
       "      <td>[131, 75, 141, 53, 67]</td>\n",
       "      <td>[19, 412, 96, 27, 112]</td>\n",
       "    </tr>\n",
       "    <tr>\n",
       "      <th>3</th>\n",
       "      <td>2</td>\n",
       "      <td>412</td>\n",
       "      <td>42</td>\n",
       "      <td>41</td>\n",
       "      <td>134</td>\n",
       "      <td>141</td>\n",
       "      <td>22</td>\n",
       "      <td>53</td>\n",
       "      <td>19</td>\n",
       "      <td>164</td>\n",
       "      <td>20</td>\n",
       "      <td>[412, 42, 41, 134, 141]</td>\n",
       "      <td>[22, 53, 19, 164, 20]</td>\n",
       "    </tr>\n",
       "    <tr>\n",
       "      <th>4</th>\n",
       "      <td>2</td>\n",
       "      <td>21</td>\n",
       "      <td>40</td>\n",
       "      <td>19</td>\n",
       "      <td>1</td>\n",
       "      <td>92</td>\n",
       "      <td>101</td>\n",
       "      <td>36</td>\n",
       "      <td>44</td>\n",
       "      <td>80</td>\n",
       "      <td>29</td>\n",
       "      <td>[21, 40, 19, 1, 92]</td>\n",
       "      <td>[101, 36, 44, 80, 29]</td>\n",
       "    </tr>\n",
       "  </tbody>\n",
       "</table>\n",
       "</div>"
      ],
      "text/plain": [
       "   winner  t1_champ1id  t1_champ2id  t1_champ3id  t1_champ4id  t1_champ5id  \\\n",
       "0       1          121          119          236          497           75   \n",
       "1       1          134           22           59           17           37   \n",
       "2       2          131           75          141           53           67   \n",
       "3       2          412           42           41          134          141   \n",
       "4       2           21           40           19            1           92   \n",
       "\n",
       "   t2_champ1id  t2_champ2id  t2_champ3id  t2_champ4id  t2_champ5id  \\\n",
       "0           22           54           61           40          107   \n",
       "1          429          117           64           86           61   \n",
       "2           19          412           96           27          112   \n",
       "3           22           53           19          164           20   \n",
       "4          101           36           44           80           29   \n",
       "\n",
       "                     Team_1                  Team_2  \n",
       "0  [121, 119, 236, 497, 75]   [22, 54, 61, 40, 107]  \n",
       "1     [134, 22, 59, 17, 37]  [429, 117, 64, 86, 61]  \n",
       "2    [131, 75, 141, 53, 67]  [19, 412, 96, 27, 112]  \n",
       "3   [412, 42, 41, 134, 141]   [22, 53, 19, 164, 20]  \n",
       "4       [21, 40, 19, 1, 92]   [101, 36, 44, 80, 29]  "
      ]
     },
     "execution_count": 49,
     "metadata": {},
     "output_type": "execute_result"
    }
   ],
   "source": [
    "total_team.head()"
   ]
  },
  {
   "cell_type": "code",
   "execution_count": 50,
   "metadata": {},
   "outputs": [],
   "source": [
    "drop = team_comp= ['t1_champ1id','t1_champ2id','t1_champ3id','t1_champ4id','t1_champ5id','t2_champ1id','t2_champ2id','t2_champ3id','t2_champ4id','t2_champ5id']\n",
    "total_team.drop(drop,axis=1,inplace=True)"
   ]
  },
  {
   "cell_type": "code",
   "execution_count": 51,
   "metadata": {},
   "outputs": [
    {
     "data": {
      "text/html": [
       "<div>\n",
       "<style scoped>\n",
       "    .dataframe tbody tr th:only-of-type {\n",
       "        vertical-align: middle;\n",
       "    }\n",
       "\n",
       "    .dataframe tbody tr th {\n",
       "        vertical-align: top;\n",
       "    }\n",
       "\n",
       "    .dataframe thead th {\n",
       "        text-align: right;\n",
       "    }\n",
       "</style>\n",
       "<table border=\"1\" class=\"dataframe\">\n",
       "  <thead>\n",
       "    <tr style=\"text-align: right;\">\n",
       "      <th></th>\n",
       "      <th>winner</th>\n",
       "      <th>Team_1</th>\n",
       "      <th>Team_2</th>\n",
       "    </tr>\n",
       "  </thead>\n",
       "  <tbody>\n",
       "    <tr>\n",
       "      <th>0</th>\n",
       "      <td>1</td>\n",
       "      <td>[121, 119, 236, 497, 75]</td>\n",
       "      <td>[22, 54, 61, 40, 107]</td>\n",
       "    </tr>\n",
       "    <tr>\n",
       "      <th>1</th>\n",
       "      <td>1</td>\n",
       "      <td>[134, 22, 59, 17, 37]</td>\n",
       "      <td>[429, 117, 64, 86, 61]</td>\n",
       "    </tr>\n",
       "    <tr>\n",
       "      <th>2</th>\n",
       "      <td>2</td>\n",
       "      <td>[131, 75, 141, 53, 67]</td>\n",
       "      <td>[19, 412, 96, 27, 112]</td>\n",
       "    </tr>\n",
       "    <tr>\n",
       "      <th>3</th>\n",
       "      <td>2</td>\n",
       "      <td>[412, 42, 41, 134, 141]</td>\n",
       "      <td>[22, 53, 19, 164, 20]</td>\n",
       "    </tr>\n",
       "    <tr>\n",
       "      <th>4</th>\n",
       "      <td>2</td>\n",
       "      <td>[21, 40, 19, 1, 92]</td>\n",
       "      <td>[101, 36, 44, 80, 29]</td>\n",
       "    </tr>\n",
       "    <tr>\n",
       "      <th>...</th>\n",
       "      <td>...</td>\n",
       "      <td>...</td>\n",
       "      <td>...</td>\n",
       "    </tr>\n",
       "    <tr>\n",
       "      <th>36038</th>\n",
       "      <td>1</td>\n",
       "      <td>[20, 126, 7, 119, 40]</td>\n",
       "      <td>[121, 412, 79, 238, 22]</td>\n",
       "    </tr>\n",
       "    <tr>\n",
       "      <th>36039</th>\n",
       "      <td>2</td>\n",
       "      <td>[3, 110, 121, 67, 412]</td>\n",
       "      <td>[37, 45, 236, 24, 131]</td>\n",
       "    </tr>\n",
       "    <tr>\n",
       "      <th>36040</th>\n",
       "      <td>2</td>\n",
       "      <td>[268, 150, 5, 498, 497]</td>\n",
       "      <td>[16, 202, 79, 141, 85]</td>\n",
       "    </tr>\n",
       "    <tr>\n",
       "      <th>36041</th>\n",
       "      <td>1</td>\n",
       "      <td>[113, 429, 105, 117, 24]</td>\n",
       "      <td>[111, 103, 59, 240, 119]</td>\n",
       "    </tr>\n",
       "    <tr>\n",
       "      <th>36042</th>\n",
       "      <td>2</td>\n",
       "      <td>[113, 37, 21, 54, 99]</td>\n",
       "      <td>[126, 64, 15, 24, 89]</td>\n",
       "    </tr>\n",
       "  </tbody>\n",
       "</table>\n",
       "<p>36043 rows × 3 columns</p>\n",
       "</div>"
      ],
      "text/plain": [
       "       winner                    Team_1                    Team_2\n",
       "0           1  [121, 119, 236, 497, 75]     [22, 54, 61, 40, 107]\n",
       "1           1     [134, 22, 59, 17, 37]    [429, 117, 64, 86, 61]\n",
       "2           2    [131, 75, 141, 53, 67]    [19, 412, 96, 27, 112]\n",
       "3           2   [412, 42, 41, 134, 141]     [22, 53, 19, 164, 20]\n",
       "4           2       [21, 40, 19, 1, 92]     [101, 36, 44, 80, 29]\n",
       "...       ...                       ...                       ...\n",
       "36038       1     [20, 126, 7, 119, 40]   [121, 412, 79, 238, 22]\n",
       "36039       2    [3, 110, 121, 67, 412]    [37, 45, 236, 24, 131]\n",
       "36040       2   [268, 150, 5, 498, 497]    [16, 202, 79, 141, 85]\n",
       "36041       1  [113, 429, 105, 117, 24]  [111, 103, 59, 240, 119]\n",
       "36042       2     [113, 37, 21, 54, 99]     [126, 64, 15, 24, 89]\n",
       "\n",
       "[36043 rows x 3 columns]"
      ]
     },
     "execution_count": 51,
     "metadata": {},
     "output_type": "execute_result"
    }
   ],
   "source": [
    "total_team"
   ]
  },
  {
   "cell_type": "markdown",
   "metadata": {},
   "source": [
    "The champions(represented by their ids) for each team can be seen along with winning team number."
   ]
  },
  {
   "cell_type": "markdown",
   "metadata": {},
   "source": [
    "Function is to loop over the teams and record the counts of every champion."
   ]
  },
  {
   "cell_type": "code",
   "execution_count": 52,
   "metadata": {},
   "outputs": [],
   "source": [
    "def count_instances(df,d):\n",
    "    teams =[1,2]\n",
    "    for team in teams:\n",
    "        for games in df.index:\n",
    "            for champion in df.loc[games][team]:\n",
    "                if str(champion) in d:\n",
    "                    d[str(champion)]['picked'] +=1\n",
    "                    if df.loc[games][0] == team:\n",
    "                        d[str(champion)]['won'] +=1\n",
    "                else:\n",
    "                    d[str(champion)] = {'picked':0,'won':0}\n",
    "                    d[str(champion)]['picked'] =1\n",
    "                    if df.loc[games][0] == team:\n",
    "                        d[str(champion)]['won'] =1\n",
    "    return d"
   ]
  },
  {
   "cell_type": "markdown",
   "metadata": {},
   "source": [
    "Creating champion dictionary"
   ]
  },
  {
   "cell_type": "code",
   "execution_count": 54,
   "metadata": {},
   "outputs": [],
   "source": [
    "champion_dict = {}\n",
    "champion_dict = count_instances(total_team,champion_dict)"
   ]
  },
  {
   "cell_type": "code",
   "execution_count": 55,
   "metadata": {},
   "outputs": [
    {
     "data": {
      "text/plain": [
       "{'121': {'picked': 3069, 'won': 1481},\n",
       " '119': {'picked': 3488, 'won': 1731},\n",
       " '236': {'picked': 5780, 'won': 2713},\n",
       " '497': {'picked': 4820, 'won': 2468},\n",
       " '75': {'picked': 3054, 'won': 1577},\n",
       " '134': {'picked': 2646, 'won': 1236},\n",
       " '22': {'picked': 3808, 'won': 1817},\n",
       " '59': {'picked': 4236, 'won': 2227},\n",
       " '17': {'picked': 2884, 'won': 1491},\n",
       " '37': {'picked': 3733, 'won': 2015},\n",
       " '131': {'picked': 2163, 'won': 1120},\n",
       " '141': {'picked': 6843, 'won': 3405},\n",
       " '53': {'picked': 4770, 'won': 2450},\n",
       " '67': {'picked': 7503, 'won': 3885},\n",
       " '412': {'picked': 9110, 'won': 4311},\n",
       " '42': {'picked': 1728, 'won': 807},\n",
       " '41': {'picked': 2936, 'won': 1450},\n",
       " '21': {'picked': 4275, 'won': 2262},\n",
       " '40': {'picked': 6097, 'won': 3352},\n",
       " '19': {'picked': 4123, 'won': 2116},\n",
       " '1': {'picked': 2309, 'won': 1164},\n",
       " '92': {'picked': 4321, 'won': 2158},\n",
       " '78': {'picked': 1273, 'won': 575},\n",
       " '16': {'picked': 4287, 'won': 2259},\n",
       " '54': {'picked': 1735, 'won': 867},\n",
       " '161': {'picked': 2215, 'won': 1136},\n",
       " '32': {'picked': 1603, 'won': 825},\n",
       " '96': {'picked': 2218, 'won': 1108},\n",
       " '429': {'picked': 2495, 'won': 1208},\n",
       " '60': {'picked': 1794, 'won': 882},\n",
       " '26': {'picked': 1008, 'won': 498},\n",
       " '245': {'picked': 3388, 'won': 1681},\n",
       " '57': {'picked': 3042, 'won': 1574},\n",
       " '14': {'picked': 1471, 'won': 736},\n",
       " '202': {'picked': 5609, 'won': 2744},\n",
       " '133': {'picked': 885, 'won': 449},\n",
       " '107': {'picked': 1472, 'won': 703},\n",
       " '102': {'picked': 1682, 'won': 889},\n",
       " '29': {'picked': 6213, 'won': 3264},\n",
       " '55': {'picked': 2417, 'won': 1218},\n",
       " '201': {'picked': 2635, 'won': 1344},\n",
       " '498': {'picked': 5484, 'won': 2755},\n",
       " '83': {'picked': 1000, 'won': 544},\n",
       " '8': {'picked': 2259, 'won': 1093},\n",
       " '117': {'picked': 4636, 'won': 2338},\n",
       " '12': {'picked': 2443, 'won': 1218},\n",
       " '91': {'picked': 2242, 'won': 1107},\n",
       " '63': {'picked': 2740, 'won': 1393},\n",
       " '254': {'picked': 2139, 'won': 1088},\n",
       " '51': {'picked': 4736, 'won': 2220},\n",
       " '122': {'picked': 2710, 'won': 1424},\n",
       " '15': {'picked': 2784, 'won': 1410},\n",
       " '157': {'picked': 5453, 'won': 2742},\n",
       " '31': {'picked': 2926, 'won': 1544},\n",
       " '33': {'picked': 2060, 'won': 1133},\n",
       " '23': {'picked': 2880, 'won': 1506},\n",
       " '25': {'picked': 4227, 'won': 2015},\n",
       " '18': {'picked': 9188, 'won': 4782},\n",
       " '114': {'picked': 2150, 'won': 1078},\n",
       " '11': {'picked': 4192, 'won': 2145},\n",
       " '268': {'picked': 928, 'won': 405},\n",
       " '120': {'picked': 1409, 'won': 711},\n",
       " '7': {'picked': 1550, 'won': 735},\n",
       " '516': {'picked': 3339, 'won': 1365},\n",
       " '86': {'picked': 2752, 'won': 1458},\n",
       " '81': {'picked': 3744, 'won': 1727},\n",
       " '45': {'picked': 2766, 'won': 1362},\n",
       " '43': {'picked': 2206, 'won': 984},\n",
       " '238': {'picked': 4541, 'won': 2221},\n",
       " '64': {'picked': 6416, 'won': 2982},\n",
       " '85': {'picked': 1326, 'won': 650},\n",
       " '154': {'picked': 1765, 'won': 884},\n",
       " '68': {'picked': 1111, 'won': 549},\n",
       " '84': {'picked': 2081, 'won': 1043},\n",
       " '62': {'picked': 1544, 'won': 800},\n",
       " '143': {'picked': 1643, 'won': 821},\n",
       " '222': {'picked': 5545, 'won': 2824},\n",
       " '267': {'picked': 3302, 'won': 1725},\n",
       " '113': {'picked': 2695, 'won': 1435},\n",
       " '38': {'picked': 2136, 'won': 1056},\n",
       " '24': {'picked': 4664, 'won': 2347},\n",
       " '76': {'picked': 1152, 'won': 517},\n",
       " '99': {'picked': 5007, 'won': 2468},\n",
       " '3': {'picked': 1942, 'won': 886},\n",
       " '79': {'picked': 4439, 'won': 2162},\n",
       " '82': {'picked': 821, 'won': 414},\n",
       " '9': {'picked': 1211, 'won': 603},\n",
       " '2': {'picked': 1092, 'won': 530},\n",
       " '101': {'picked': 1187, 'won': 635},\n",
       " '150': {'picked': 2784, 'won': 1370},\n",
       " '69': {'picked': 1921, 'won': 939},\n",
       " '50': {'picked': 1021, 'won': 538},\n",
       " '39': {'picked': 1588, 'won': 816},\n",
       " '110': {'picked': 2006, 'won': 1011},\n",
       " '56': {'picked': 1192, 'won': 611},\n",
       " '4': {'picked': 2481, 'won': 1288},\n",
       " '74': {'picked': 1175, 'won': 554},\n",
       " '48': {'picked': 1371, 'won': 645},\n",
       " '240': {'picked': 1233, 'won': 628},\n",
       " '105': {'picked': 2410, 'won': 1172},\n",
       " '432': {'picked': 2662, 'won': 1258},\n",
       " '89': {'picked': 3464, 'won': 1782},\n",
       " '163': {'picked': 1361, 'won': 630},\n",
       " '80': {'picked': 1877, 'won': 943},\n",
       " '164': {'picked': 1322, 'won': 640},\n",
       " '61': {'picked': 4599, 'won': 2297},\n",
       " '98': {'picked': 2191, 'won': 1063},\n",
       " '90': {'picked': 2624, 'won': 1375},\n",
       " '13': {'picked': 739, 'won': 294},\n",
       " '112': {'picked': 1209, 'won': 580},\n",
       " '115': {'picked': 1613, 'won': 844},\n",
       " '103': {'picked': 4432, 'won': 2323},\n",
       " '111': {'picked': 1500, 'won': 711},\n",
       " '126': {'picked': 2185, 'won': 1090},\n",
       " '6': {'picked': 1673, 'won': 788},\n",
       " '5': {'picked': 2269, 'won': 1172},\n",
       " '427': {'picked': 779, 'won': 359},\n",
       " '58': {'picked': 2724, 'won': 1369},\n",
       " '36': {'picked': 1112, 'won': 558},\n",
       " '127': {'picked': 773, 'won': 363},\n",
       " '77': {'picked': 778, 'won': 383},\n",
       " '421': {'picked': 1013, 'won': 500},\n",
       " '203': {'picked': 827, 'won': 401},\n",
       " '420': {'picked': 1019, 'won': 488},\n",
       " '106': {'picked': 839, 'won': 416},\n",
       " '28': {'picked': 1135, 'won': 529},\n",
       " '136': {'picked': 602, 'won': 320},\n",
       " '20': {'picked': 898, 'won': 439},\n",
       " '27': {'picked': 992, 'won': 540},\n",
       " '34': {'picked': 1582, 'won': 857},\n",
       " '104': {'picked': 1039, 'won': 504},\n",
       " '10': {'picked': 1364, 'won': 697},\n",
       " '266': {'picked': 531, 'won': 249},\n",
       " '30': {'picked': 662, 'won': 339},\n",
       " '44': {'picked': 1801, 'won': 947},\n",
       " '35': {'picked': 1799, 'won': 868},\n",
       " '223': {'picked': 1162, 'won': 511},\n",
       " '72': {'picked': 396, 'won': 186}}"
      ]
     },
     "execution_count": 55,
     "metadata": {},
     "output_type": "execute_result"
    }
   ],
   "source": [
    "champion_dict"
   ]
  },
  {
   "cell_type": "markdown",
   "metadata": {},
   "source": [
    "Each champion id is stored as a string and the corresponding picked rate and win rate are stored for each champion"
   ]
  },
  {
   "cell_type": "markdown",
   "metadata": {},
   "source": [
    "Creating the function to convert the numbers to win percentages to better understand the win rate"
   ]
  },
  {
   "cell_type": "code",
   "execution_count": 56,
   "metadata": {},
   "outputs": [],
   "source": [
    "def win_percent(data):\n",
    "    for champion in data:\n",
    "        data[champion]['won'] =  (data[champion]['won']/data[champion]['picked']) * 100\n",
    "    return data"
   ]
  },
  {
   "cell_type": "code",
   "execution_count": 57,
   "metadata": {},
   "outputs": [],
   "source": [
    "champion_dict = win_percent(champion_dict)"
   ]
  },
  {
   "cell_type": "code",
   "execution_count": 58,
   "metadata": {},
   "outputs": [
    {
     "data": {
      "text/plain": [
       "{'121': {'picked': 3069, 'won': 48.256761159986965},\n",
       " '119': {'picked': 3488, 'won': 49.62729357798165},\n",
       " '236': {'picked': 5780, 'won': 46.937716262975776},\n",
       " '497': {'picked': 4820, 'won': 51.203319502074685},\n",
       " '75': {'picked': 3054, 'won': 51.637197118533074},\n",
       " '134': {'picked': 2646, 'won': 46.71201814058957},\n",
       " '22': {'picked': 3808, 'won': 47.715336134453786},\n",
       " '59': {'picked': 4236, 'won': 52.5731822474032},\n",
       " '17': {'picked': 2884, 'won': 51.69902912621359},\n",
       " '37': {'picked': 3733, 'won': 53.97803375301366},\n",
       " '131': {'picked': 2163, 'won': 51.7799352750809},\n",
       " '141': {'picked': 6843, 'won': 49.75887768522578},\n",
       " '53': {'picked': 4770, 'won': 51.36268343815513},\n",
       " '67': {'picked': 7503, 'won': 51.77928828468612},\n",
       " '412': {'picked': 9110, 'won': 47.321624588364436},\n",
       " '42': {'picked': 1728, 'won': 46.70138888888889},\n",
       " '41': {'picked': 2936, 'won': 49.38692098092643},\n",
       " '21': {'picked': 4275, 'won': 52.91228070175439},\n",
       " '40': {'picked': 6097, 'won': 54.97785796293259},\n",
       " '19': {'picked': 4123, 'won': 51.32185301964589},\n",
       " '1': {'picked': 2309, 'won': 50.41143352100477},\n",
       " '92': {'picked': 4321, 'won': 49.94214302244851},\n",
       " '78': {'picked': 1273, 'won': 45.16889238020424},\n",
       " '16': {'picked': 4287, 'won': 52.69419174247726},\n",
       " '54': {'picked': 1735, 'won': 49.971181556195965},\n",
       " '161': {'picked': 2215, 'won': 51.286681715575625},\n",
       " '32': {'picked': 1603, 'won': 51.46600124766063},\n",
       " '96': {'picked': 2218, 'won': 49.95491433724076},\n",
       " '429': {'picked': 2495, 'won': 48.41683366733467},\n",
       " '60': {'picked': 1794, 'won': 49.163879598662206},\n",
       " '26': {'picked': 1008, 'won': 49.404761904761905},\n",
       " '245': {'picked': 3388, 'won': 49.616292798110976},\n",
       " '57': {'picked': 3042, 'won': 51.742274819197895},\n",
       " '14': {'picked': 1471, 'won': 50.03399048266486},\n",
       " '202': {'picked': 5609, 'won': 48.92137635942236},\n",
       " '133': {'picked': 885, 'won': 50.73446327683616},\n",
       " '107': {'picked': 1472, 'won': 47.75815217391305},\n",
       " '102': {'picked': 1682, 'won': 52.85374554102259},\n",
       " '29': {'picked': 6213, 'won': 52.53500724287784},\n",
       " '55': {'picked': 2417, 'won': 50.393049234588325},\n",
       " '201': {'picked': 2635, 'won': 51.00569259962049},\n",
       " '498': {'picked': 5484, 'won': 50.23705324580598},\n",
       " '83': {'picked': 1000, 'won': 54.400000000000006},\n",
       " '8': {'picked': 2259, 'won': 48.3842408145197},\n",
       " '117': {'picked': 4636, 'won': 50.431406384814494},\n",
       " '12': {'picked': 2443, 'won': 49.8567335243553},\n",
       " '91': {'picked': 2242, 'won': 49.37555753791258},\n",
       " '63': {'picked': 2740, 'won': 50.83941605839416},\n",
       " '254': {'picked': 2139, 'won': 50.86489013557737},\n",
       " '51': {'picked': 4736, 'won': 46.875},\n",
       " '122': {'picked': 2710, 'won': 52.54612546125461},\n",
       " '15': {'picked': 2784, 'won': 50.646551724137936},\n",
       " '157': {'picked': 5453, 'won': 50.284247203374285},\n",
       " '31': {'picked': 2926, 'won': 52.76828434723172},\n",
       " '33': {'picked': 2060, 'won': 55.00000000000001},\n",
       " '23': {'picked': 2880, 'won': 52.29166666666667},\n",
       " '25': {'picked': 4227, 'won': 47.66974213390111},\n",
       " '18': {'picked': 9188, 'won': 52.0461471484545},\n",
       " '114': {'picked': 2150, 'won': 50.13953488372093},\n",
       " '11': {'picked': 4192, 'won': 51.168893129770986},\n",
       " '268': {'picked': 928, 'won': 43.64224137931034},\n",
       " '120': {'picked': 1409, 'won': 50.46132008516678},\n",
       " '7': {'picked': 1550, 'won': 47.41935483870968},\n",
       " '516': {'picked': 3339, 'won': 40.88050314465409},\n",
       " '86': {'picked': 2752, 'won': 52.979651162790695},\n",
       " '81': {'picked': 3744, 'won': 46.12713675213676},\n",
       " '45': {'picked': 2766, 'won': 49.240780911062906},\n",
       " '43': {'picked': 2206, 'won': 44.60562103354488},\n",
       " '238': {'picked': 4541, 'won': 48.90993173309844},\n",
       " '64': {'picked': 6416, 'won': 46.47755610972569},\n",
       " '85': {'picked': 1326, 'won': 49.01960784313725},\n",
       " '154': {'picked': 1765, 'won': 50.08498583569405},\n",
       " '68': {'picked': 1111, 'won': 49.41494149414942},\n",
       " '84': {'picked': 2081, 'won': 50.12013455069678},\n",
       " '62': {'picked': 1544, 'won': 51.813471502590666},\n",
       " '143': {'picked': 1643, 'won': 49.969567863664025},\n",
       " '222': {'picked': 5545, 'won': 50.9287646528404},\n",
       " '267': {'picked': 3302, 'won': 52.241066020593586},\n",
       " '113': {'picked': 2695, 'won': 53.246753246753244},\n",
       " '38': {'picked': 2136, 'won': 49.43820224719101},\n",
       " '24': {'picked': 4664, 'won': 50.32161234991423},\n",
       " '76': {'picked': 1152, 'won': 44.87847222222222},\n",
       " '99': {'picked': 5007, 'won': 49.29099261034552},\n",
       " '3': {'picked': 1942, 'won': 45.62306900102986},\n",
       " '79': {'picked': 4439, 'won': 48.704663212435236},\n",
       " '82': {'picked': 821, 'won': 50.42630937880633},\n",
       " '9': {'picked': 1211, 'won': 49.793559042113955},\n",
       " '2': {'picked': 1092, 'won': 48.53479853479853},\n",
       " '101': {'picked': 1187, 'won': 53.49620893007582},\n",
       " '150': {'picked': 2784, 'won': 49.20977011494253},\n",
       " '69': {'picked': 1921, 'won': 48.880791254554914},\n",
       " '50': {'picked': 1021, 'won': 52.693437806072474},\n",
       " '39': {'picked': 1588, 'won': 51.385390428211586},\n",
       " '110': {'picked': 2006, 'won': 50.3988035892323},\n",
       " '56': {'picked': 1192, 'won': 51.258389261744966},\n",
       " '4': {'picked': 2481, 'won': 51.914550584441756},\n",
       " '74': {'picked': 1175, 'won': 47.14893617021277},\n",
       " '48': {'picked': 1371, 'won': 47.04595185995623},\n",
       " '240': {'picked': 1233, 'won': 50.93268450932684},\n",
       " '105': {'picked': 2410, 'won': 48.63070539419087},\n",
       " '432': {'picked': 2662, 'won': 47.257700976709245},\n",
       " '89': {'picked': 3464, 'won': 51.443418013856814},\n",
       " '163': {'picked': 1361, 'won': 46.28949301983835},\n",
       " '80': {'picked': 1877, 'won': 50.23974427277571},\n",
       " '164': {'picked': 1322, 'won': 48.41149773071105},\n",
       " '61': {'picked': 4599, 'won': 49.945640356599256},\n",
       " '98': {'picked': 2191, 'won': 48.51665905979005},\n",
       " '90': {'picked': 2624, 'won': 52.400914634146346},\n",
       " '13': {'picked': 739, 'won': 39.783491204330176},\n",
       " '112': {'picked': 1209, 'won': 47.97353184449958},\n",
       " '115': {'picked': 1613, 'won': 52.3248605083695},\n",
       " '103': {'picked': 4432, 'won': 52.414259927797836},\n",
       " '111': {'picked': 1500, 'won': 47.4},\n",
       " '126': {'picked': 2185, 'won': 49.88558352402746},\n",
       " '6': {'picked': 1673, 'won': 47.10101613867304},\n",
       " '5': {'picked': 2269, 'won': 51.65271044513001},\n",
       " '427': {'picked': 779, 'won': 46.08472400513479},\n",
       " '58': {'picked': 2724, 'won': 50.25697503671071},\n",
       " '36': {'picked': 1112, 'won': 50.17985611510791},\n",
       " '127': {'picked': 773, 'won': 46.95989650711513},\n",
       " '77': {'picked': 778, 'won': 49.228791773778916},\n",
       " '421': {'picked': 1013, 'won': 49.3583415597236},\n",
       " '203': {'picked': 827, 'won': 48.48851269649335},\n",
       " '420': {'picked': 1019, 'won': 47.8900883218842},\n",
       " '106': {'picked': 839, 'won': 49.582836710369484},\n",
       " '28': {'picked': 1135, 'won': 46.6079295154185},\n",
       " '136': {'picked': 602, 'won': 53.156146179402},\n",
       " '20': {'picked': 898, 'won': 48.88641425389755},\n",
       " '27': {'picked': 992, 'won': 54.43548387096774},\n",
       " '34': {'picked': 1582, 'won': 54.171934260429836},\n",
       " '104': {'picked': 1039, 'won': 48.508180943214626},\n",
       " '10': {'picked': 1364, 'won': 51.09970674486804},\n",
       " '266': {'picked': 531, 'won': 46.89265536723164},\n",
       " '30': {'picked': 662, 'won': 51.20845921450151},\n",
       " '44': {'picked': 1801, 'won': 52.58189894503054},\n",
       " '35': {'picked': 1799, 'won': 48.249027237354085},\n",
       " '223': {'picked': 1162, 'won': 43.97590361445783},\n",
       " '72': {'picked': 396, 'won': 46.96969696969697}}"
      ]
     },
     "execution_count": 58,
     "metadata": {},
     "output_type": "execute_result"
    }
   ],
   "source": [
    "champion_dict"
   ]
  },
  {
   "cell_type": "code",
   "execution_count": 59,
   "metadata": {},
   "outputs": [
    {
     "data": {
      "text/plain": [
       "{'121': {'picked': 3069, 'won': 48.256761159986965},\n",
       " '119': {'picked': 3488, 'won': 49.62729357798165},\n",
       " '236': {'picked': 5780, 'won': 46.937716262975776},\n",
       " '497': {'picked': 4820, 'won': 51.203319502074685},\n",
       " '75': {'picked': 3054, 'won': 51.637197118533074},\n",
       " '134': {'picked': 2646, 'won': 46.71201814058957},\n",
       " '22': {'picked': 3808, 'won': 47.715336134453786},\n",
       " '59': {'picked': 4236, 'won': 52.5731822474032},\n",
       " '17': {'picked': 2884, 'won': 51.69902912621359},\n",
       " '37': {'picked': 3733, 'won': 53.97803375301366},\n",
       " '131': {'picked': 2163, 'won': 51.7799352750809},\n",
       " '141': {'picked': 6843, 'won': 49.75887768522578},\n",
       " '53': {'picked': 4770, 'won': 51.36268343815513},\n",
       " '67': {'picked': 7503, 'won': 51.77928828468612},\n",
       " '412': {'picked': 9110, 'won': 47.321624588364436},\n",
       " '42': {'picked': 1728, 'won': 46.70138888888889},\n",
       " '41': {'picked': 2936, 'won': 49.38692098092643},\n",
       " '21': {'picked': 4275, 'won': 52.91228070175439},\n",
       " '40': {'picked': 6097, 'won': 54.97785796293259},\n",
       " '19': {'picked': 4123, 'won': 51.32185301964589},\n",
       " '1': {'picked': 2309, 'won': 50.41143352100477},\n",
       " '92': {'picked': 4321, 'won': 49.94214302244851},\n",
       " '78': {'picked': 1273, 'won': 45.16889238020424},\n",
       " '16': {'picked': 4287, 'won': 52.69419174247726},\n",
       " '54': {'picked': 1735, 'won': 49.971181556195965},\n",
       " '161': {'picked': 2215, 'won': 51.286681715575625},\n",
       " '32': {'picked': 1603, 'won': 51.46600124766063},\n",
       " '96': {'picked': 2218, 'won': 49.95491433724076},\n",
       " '429': {'picked': 2495, 'won': 48.41683366733467},\n",
       " '60': {'picked': 1794, 'won': 49.163879598662206},\n",
       " '26': {'picked': 1008, 'won': 49.404761904761905},\n",
       " '245': {'picked': 3388, 'won': 49.616292798110976},\n",
       " '57': {'picked': 3042, 'won': 51.742274819197895},\n",
       " '14': {'picked': 1471, 'won': 50.03399048266486},\n",
       " '202': {'picked': 5609, 'won': 48.92137635942236},\n",
       " '133': {'picked': 885, 'won': 50.73446327683616},\n",
       " '107': {'picked': 1472, 'won': 47.75815217391305},\n",
       " '102': {'picked': 1682, 'won': 52.85374554102259},\n",
       " '29': {'picked': 6213, 'won': 52.53500724287784},\n",
       " '55': {'picked': 2417, 'won': 50.393049234588325},\n",
       " '201': {'picked': 2635, 'won': 51.00569259962049},\n",
       " '498': {'picked': 5484, 'won': 50.23705324580598},\n",
       " '83': {'picked': 1000, 'won': 54.400000000000006},\n",
       " '8': {'picked': 2259, 'won': 48.3842408145197},\n",
       " '117': {'picked': 4636, 'won': 50.431406384814494},\n",
       " '12': {'picked': 2443, 'won': 49.8567335243553},\n",
       " '91': {'picked': 2242, 'won': 49.37555753791258},\n",
       " '63': {'picked': 2740, 'won': 50.83941605839416},\n",
       " '254': {'picked': 2139, 'won': 50.86489013557737},\n",
       " '51': {'picked': 4736, 'won': 46.875},\n",
       " '122': {'picked': 2710, 'won': 52.54612546125461},\n",
       " '15': {'picked': 2784, 'won': 50.646551724137936},\n",
       " '157': {'picked': 5453, 'won': 50.284247203374285},\n",
       " '31': {'picked': 2926, 'won': 52.76828434723172},\n",
       " '33': {'picked': 2060, 'won': 55.00000000000001},\n",
       " '23': {'picked': 2880, 'won': 52.29166666666667},\n",
       " '25': {'picked': 4227, 'won': 47.66974213390111},\n",
       " '18': {'picked': 9188, 'won': 52.0461471484545},\n",
       " '114': {'picked': 2150, 'won': 50.13953488372093},\n",
       " '11': {'picked': 4192, 'won': 51.168893129770986},\n",
       " '268': {'picked': 928, 'won': 43.64224137931034},\n",
       " '120': {'picked': 1409, 'won': 50.46132008516678},\n",
       " '7': {'picked': 1550, 'won': 47.41935483870968},\n",
       " '516': {'picked': 3339, 'won': 40.88050314465409},\n",
       " '86': {'picked': 2752, 'won': 52.979651162790695},\n",
       " '81': {'picked': 3744, 'won': 46.12713675213676},\n",
       " '45': {'picked': 2766, 'won': 49.240780911062906},\n",
       " '43': {'picked': 2206, 'won': 44.60562103354488},\n",
       " '238': {'picked': 4541, 'won': 48.90993173309844},\n",
       " '64': {'picked': 6416, 'won': 46.47755610972569},\n",
       " '85': {'picked': 1326, 'won': 49.01960784313725},\n",
       " '154': {'picked': 1765, 'won': 50.08498583569405},\n",
       " '68': {'picked': 1111, 'won': 49.41494149414942},\n",
       " '84': {'picked': 2081, 'won': 50.12013455069678},\n",
       " '62': {'picked': 1544, 'won': 51.813471502590666},\n",
       " '143': {'picked': 1643, 'won': 49.969567863664025},\n",
       " '222': {'picked': 5545, 'won': 50.9287646528404},\n",
       " '267': {'picked': 3302, 'won': 52.241066020593586},\n",
       " '113': {'picked': 2695, 'won': 53.246753246753244},\n",
       " '38': {'picked': 2136, 'won': 49.43820224719101},\n",
       " '24': {'picked': 4664, 'won': 50.32161234991423},\n",
       " '76': {'picked': 1152, 'won': 44.87847222222222},\n",
       " '99': {'picked': 5007, 'won': 49.29099261034552},\n",
       " '3': {'picked': 1942, 'won': 45.62306900102986},\n",
       " '79': {'picked': 4439, 'won': 48.704663212435236},\n",
       " '82': {'picked': 821, 'won': 50.42630937880633},\n",
       " '9': {'picked': 1211, 'won': 49.793559042113955},\n",
       " '2': {'picked': 1092, 'won': 48.53479853479853},\n",
       " '101': {'picked': 1187, 'won': 53.49620893007582},\n",
       " '150': {'picked': 2784, 'won': 49.20977011494253},\n",
       " '69': {'picked': 1921, 'won': 48.880791254554914},\n",
       " '50': {'picked': 1021, 'won': 52.693437806072474},\n",
       " '39': {'picked': 1588, 'won': 51.385390428211586},\n",
       " '110': {'picked': 2006, 'won': 50.3988035892323},\n",
       " '56': {'picked': 1192, 'won': 51.258389261744966},\n",
       " '4': {'picked': 2481, 'won': 51.914550584441756},\n",
       " '74': {'picked': 1175, 'won': 47.14893617021277},\n",
       " '48': {'picked': 1371, 'won': 47.04595185995623},\n",
       " '240': {'picked': 1233, 'won': 50.93268450932684},\n",
       " '105': {'picked': 2410, 'won': 48.63070539419087},\n",
       " '432': {'picked': 2662, 'won': 47.257700976709245},\n",
       " '89': {'picked': 3464, 'won': 51.443418013856814},\n",
       " '163': {'picked': 1361, 'won': 46.28949301983835},\n",
       " '80': {'picked': 1877, 'won': 50.23974427277571},\n",
       " '164': {'picked': 1322, 'won': 48.41149773071105},\n",
       " '61': {'picked': 4599, 'won': 49.945640356599256},\n",
       " '98': {'picked': 2191, 'won': 48.51665905979005},\n",
       " '90': {'picked': 2624, 'won': 52.400914634146346},\n",
       " '13': {'picked': 739, 'won': 39.783491204330176},\n",
       " '112': {'picked': 1209, 'won': 47.97353184449958},\n",
       " '115': {'picked': 1613, 'won': 52.3248605083695},\n",
       " '103': {'picked': 4432, 'won': 52.414259927797836},\n",
       " '111': {'picked': 1500, 'won': 47.4},\n",
       " '126': {'picked': 2185, 'won': 49.88558352402746},\n",
       " '6': {'picked': 1673, 'won': 47.10101613867304},\n",
       " '5': {'picked': 2269, 'won': 51.65271044513001},\n",
       " '427': {'picked': 779, 'won': 46.08472400513479},\n",
       " '58': {'picked': 2724, 'won': 50.25697503671071},\n",
       " '36': {'picked': 1112, 'won': 50.17985611510791},\n",
       " '127': {'picked': 773, 'won': 46.95989650711513},\n",
       " '77': {'picked': 778, 'won': 49.228791773778916},\n",
       " '421': {'picked': 1013, 'won': 49.3583415597236},\n",
       " '203': {'picked': 827, 'won': 48.48851269649335},\n",
       " '420': {'picked': 1019, 'won': 47.8900883218842},\n",
       " '106': {'picked': 839, 'won': 49.582836710369484},\n",
       " '28': {'picked': 1135, 'won': 46.6079295154185},\n",
       " '136': {'picked': 602, 'won': 53.156146179402},\n",
       " '20': {'picked': 898, 'won': 48.88641425389755},\n",
       " '27': {'picked': 992, 'won': 54.43548387096774},\n",
       " '34': {'picked': 1582, 'won': 54.171934260429836},\n",
       " '104': {'picked': 1039, 'won': 48.508180943214626},\n",
       " '10': {'picked': 1364, 'won': 51.09970674486804},\n",
       " '266': {'picked': 531, 'won': 46.89265536723164},\n",
       " '30': {'picked': 662, 'won': 51.20845921450151},\n",
       " '44': {'picked': 1801, 'won': 52.58189894503054},\n",
       " '35': {'picked': 1799, 'won': 48.249027237354085},\n",
       " '223': {'picked': 1162, 'won': 43.97590361445783},\n",
       " '72': {'picked': 396, 'won': 46.96969696969697}}"
      ]
     },
     "execution_count": 59,
     "metadata": {},
     "output_type": "execute_result"
    }
   ],
   "source": [
    "champion_dict"
   ]
  },
  {
   "cell_type": "code",
   "execution_count": 60,
   "metadata": {},
   "outputs": [],
   "source": [
    "sorted_champs_win=sorted(champion_dict.items(),key= lambda x:x[1]['won'],reverse=True)"
   ]
  },
  {
   "cell_type": "code",
   "execution_count": 61,
   "metadata": {},
   "outputs": [
    {
     "data": {
      "text/plain": [
       "[('33', {'picked': 2060, 'won': 55.00000000000001}),\n",
       " ('40', {'picked': 6097, 'won': 54.97785796293259}),\n",
       " ('27', {'picked': 992, 'won': 54.43548387096774}),\n",
       " ('83', {'picked': 1000, 'won': 54.400000000000006}),\n",
       " ('34', {'picked': 1582, 'won': 54.171934260429836}),\n",
       " ('37', {'picked': 3733, 'won': 53.97803375301366}),\n",
       " ('101', {'picked': 1187, 'won': 53.49620893007582}),\n",
       " ('113', {'picked': 2695, 'won': 53.246753246753244}),\n",
       " ('136', {'picked': 602, 'won': 53.156146179402}),\n",
       " ('86', {'picked': 2752, 'won': 52.979651162790695}),\n",
       " ('21', {'picked': 4275, 'won': 52.91228070175439}),\n",
       " ('102', {'picked': 1682, 'won': 52.85374554102259}),\n",
       " ('31', {'picked': 2926, 'won': 52.76828434723172}),\n",
       " ('16', {'picked': 4287, 'won': 52.69419174247726}),\n",
       " ('50', {'picked': 1021, 'won': 52.693437806072474}),\n",
       " ('44', {'picked': 1801, 'won': 52.58189894503054}),\n",
       " ('59', {'picked': 4236, 'won': 52.5731822474032}),\n",
       " ('122', {'picked': 2710, 'won': 52.54612546125461}),\n",
       " ('29', {'picked': 6213, 'won': 52.53500724287784}),\n",
       " ('103', {'picked': 4432, 'won': 52.414259927797836}),\n",
       " ('90', {'picked': 2624, 'won': 52.400914634146346}),\n",
       " ('115', {'picked': 1613, 'won': 52.3248605083695}),\n",
       " ('23', {'picked': 2880, 'won': 52.29166666666667}),\n",
       " ('267', {'picked': 3302, 'won': 52.241066020593586}),\n",
       " ('18', {'picked': 9188, 'won': 52.0461471484545}),\n",
       " ('4', {'picked': 2481, 'won': 51.914550584441756}),\n",
       " ('62', {'picked': 1544, 'won': 51.813471502590666}),\n",
       " ('131', {'picked': 2163, 'won': 51.7799352750809}),\n",
       " ('67', {'picked': 7503, 'won': 51.77928828468612}),\n",
       " ('57', {'picked': 3042, 'won': 51.742274819197895}),\n",
       " ('17', {'picked': 2884, 'won': 51.69902912621359}),\n",
       " ('5', {'picked': 2269, 'won': 51.65271044513001}),\n",
       " ('75', {'picked': 3054, 'won': 51.637197118533074}),\n",
       " ('32', {'picked': 1603, 'won': 51.46600124766063}),\n",
       " ('89', {'picked': 3464, 'won': 51.443418013856814}),\n",
       " ('39', {'picked': 1588, 'won': 51.385390428211586}),\n",
       " ('53', {'picked': 4770, 'won': 51.36268343815513}),\n",
       " ('19', {'picked': 4123, 'won': 51.32185301964589}),\n",
       " ('161', {'picked': 2215, 'won': 51.286681715575625}),\n",
       " ('56', {'picked': 1192, 'won': 51.258389261744966}),\n",
       " ('30', {'picked': 662, 'won': 51.20845921450151}),\n",
       " ('497', {'picked': 4820, 'won': 51.203319502074685}),\n",
       " ('11', {'picked': 4192, 'won': 51.168893129770986}),\n",
       " ('10', {'picked': 1364, 'won': 51.09970674486804}),\n",
       " ('201', {'picked': 2635, 'won': 51.00569259962049}),\n",
       " ('240', {'picked': 1233, 'won': 50.93268450932684}),\n",
       " ('222', {'picked': 5545, 'won': 50.9287646528404}),\n",
       " ('254', {'picked': 2139, 'won': 50.86489013557737}),\n",
       " ('63', {'picked': 2740, 'won': 50.83941605839416}),\n",
       " ('133', {'picked': 885, 'won': 50.73446327683616}),\n",
       " ('15', {'picked': 2784, 'won': 50.646551724137936}),\n",
       " ('120', {'picked': 1409, 'won': 50.46132008516678}),\n",
       " ('117', {'picked': 4636, 'won': 50.431406384814494}),\n",
       " ('82', {'picked': 821, 'won': 50.42630937880633}),\n",
       " ('1', {'picked': 2309, 'won': 50.41143352100477}),\n",
       " ('110', {'picked': 2006, 'won': 50.3988035892323}),\n",
       " ('55', {'picked': 2417, 'won': 50.393049234588325}),\n",
       " ('24', {'picked': 4664, 'won': 50.32161234991423}),\n",
       " ('157', {'picked': 5453, 'won': 50.284247203374285}),\n",
       " ('58', {'picked': 2724, 'won': 50.25697503671071}),\n",
       " ('80', {'picked': 1877, 'won': 50.23974427277571}),\n",
       " ('498', {'picked': 5484, 'won': 50.23705324580598}),\n",
       " ('36', {'picked': 1112, 'won': 50.17985611510791}),\n",
       " ('114', {'picked': 2150, 'won': 50.13953488372093}),\n",
       " ('84', {'picked': 2081, 'won': 50.12013455069678}),\n",
       " ('154', {'picked': 1765, 'won': 50.08498583569405}),\n",
       " ('14', {'picked': 1471, 'won': 50.03399048266486}),\n",
       " ('54', {'picked': 1735, 'won': 49.971181556195965}),\n",
       " ('143', {'picked': 1643, 'won': 49.969567863664025}),\n",
       " ('96', {'picked': 2218, 'won': 49.95491433724076}),\n",
       " ('61', {'picked': 4599, 'won': 49.945640356599256}),\n",
       " ('92', {'picked': 4321, 'won': 49.94214302244851}),\n",
       " ('126', {'picked': 2185, 'won': 49.88558352402746}),\n",
       " ('12', {'picked': 2443, 'won': 49.8567335243553}),\n",
       " ('9', {'picked': 1211, 'won': 49.793559042113955}),\n",
       " ('141', {'picked': 6843, 'won': 49.75887768522578}),\n",
       " ('119', {'picked': 3488, 'won': 49.62729357798165}),\n",
       " ('245', {'picked': 3388, 'won': 49.616292798110976}),\n",
       " ('106', {'picked': 839, 'won': 49.582836710369484}),\n",
       " ('38', {'picked': 2136, 'won': 49.43820224719101}),\n",
       " ('68', {'picked': 1111, 'won': 49.41494149414942}),\n",
       " ('26', {'picked': 1008, 'won': 49.404761904761905}),\n",
       " ('41', {'picked': 2936, 'won': 49.38692098092643}),\n",
       " ('91', {'picked': 2242, 'won': 49.37555753791258}),\n",
       " ('421', {'picked': 1013, 'won': 49.3583415597236}),\n",
       " ('99', {'picked': 5007, 'won': 49.29099261034552}),\n",
       " ('45', {'picked': 2766, 'won': 49.240780911062906}),\n",
       " ('77', {'picked': 778, 'won': 49.228791773778916}),\n",
       " ('150', {'picked': 2784, 'won': 49.20977011494253}),\n",
       " ('60', {'picked': 1794, 'won': 49.163879598662206}),\n",
       " ('85', {'picked': 1326, 'won': 49.01960784313725}),\n",
       " ('202', {'picked': 5609, 'won': 48.92137635942236}),\n",
       " ('238', {'picked': 4541, 'won': 48.90993173309844}),\n",
       " ('20', {'picked': 898, 'won': 48.88641425389755}),\n",
       " ('69', {'picked': 1921, 'won': 48.880791254554914}),\n",
       " ('79', {'picked': 4439, 'won': 48.704663212435236}),\n",
       " ('105', {'picked': 2410, 'won': 48.63070539419087}),\n",
       " ('2', {'picked': 1092, 'won': 48.53479853479853}),\n",
       " ('98', {'picked': 2191, 'won': 48.51665905979005}),\n",
       " ('104', {'picked': 1039, 'won': 48.508180943214626}),\n",
       " ('203', {'picked': 827, 'won': 48.48851269649335}),\n",
       " ('429', {'picked': 2495, 'won': 48.41683366733467}),\n",
       " ('164', {'picked': 1322, 'won': 48.41149773071105}),\n",
       " ('8', {'picked': 2259, 'won': 48.3842408145197}),\n",
       " ('121', {'picked': 3069, 'won': 48.256761159986965}),\n",
       " ('35', {'picked': 1799, 'won': 48.249027237354085}),\n",
       " ('112', {'picked': 1209, 'won': 47.97353184449958}),\n",
       " ('420', {'picked': 1019, 'won': 47.8900883218842}),\n",
       " ('107', {'picked': 1472, 'won': 47.75815217391305}),\n",
       " ('22', {'picked': 3808, 'won': 47.715336134453786}),\n",
       " ('25', {'picked': 4227, 'won': 47.66974213390111}),\n",
       " ('7', {'picked': 1550, 'won': 47.41935483870968}),\n",
       " ('111', {'picked': 1500, 'won': 47.4}),\n",
       " ('412', {'picked': 9110, 'won': 47.321624588364436}),\n",
       " ('432', {'picked': 2662, 'won': 47.257700976709245}),\n",
       " ('74', {'picked': 1175, 'won': 47.14893617021277}),\n",
       " ('6', {'picked': 1673, 'won': 47.10101613867304}),\n",
       " ('48', {'picked': 1371, 'won': 47.04595185995623}),\n",
       " ('72', {'picked': 396, 'won': 46.96969696969697}),\n",
       " ('127', {'picked': 773, 'won': 46.95989650711513}),\n",
       " ('236', {'picked': 5780, 'won': 46.937716262975776}),\n",
       " ('266', {'picked': 531, 'won': 46.89265536723164}),\n",
       " ('51', {'picked': 4736, 'won': 46.875}),\n",
       " ('134', {'picked': 2646, 'won': 46.71201814058957}),\n",
       " ('42', {'picked': 1728, 'won': 46.70138888888889}),\n",
       " ('28', {'picked': 1135, 'won': 46.6079295154185}),\n",
       " ('64', {'picked': 6416, 'won': 46.47755610972569}),\n",
       " ('163', {'picked': 1361, 'won': 46.28949301983835}),\n",
       " ('81', {'picked': 3744, 'won': 46.12713675213676}),\n",
       " ('427', {'picked': 779, 'won': 46.08472400513479}),\n",
       " ('3', {'picked': 1942, 'won': 45.62306900102986}),\n",
       " ('78', {'picked': 1273, 'won': 45.16889238020424}),\n",
       " ('76', {'picked': 1152, 'won': 44.87847222222222}),\n",
       " ('43', {'picked': 2206, 'won': 44.60562103354488}),\n",
       " ('223', {'picked': 1162, 'won': 43.97590361445783}),\n",
       " ('268', {'picked': 928, 'won': 43.64224137931034}),\n",
       " ('516', {'picked': 3339, 'won': 40.88050314465409}),\n",
       " ('13', {'picked': 739, 'won': 39.783491204330176})]"
      ]
     },
     "execution_count": 61,
     "metadata": {},
     "output_type": "execute_result"
    }
   ],
   "source": [
    "sorted_champs_win"
   ]
  },
  {
   "cell_type": "code",
   "execution_count": 62,
   "metadata": {},
   "outputs": [],
   "source": [
    "sorted_champs_picked = sorted(champion_dict.items(),key=lambda x: x[1]['picked'],reverse = True)"
   ]
  },
  {
   "cell_type": "code",
   "execution_count": 63,
   "metadata": {},
   "outputs": [
    {
     "data": {
      "text/plain": [
       "[('18', {'picked': 9188, 'won': 52.0461471484545}),\n",
       " ('412', {'picked': 9110, 'won': 47.321624588364436}),\n",
       " ('67', {'picked': 7503, 'won': 51.77928828468612}),\n",
       " ('141', {'picked': 6843, 'won': 49.75887768522578}),\n",
       " ('64', {'picked': 6416, 'won': 46.47755610972569}),\n",
       " ('29', {'picked': 6213, 'won': 52.53500724287784}),\n",
       " ('40', {'picked': 6097, 'won': 54.97785796293259}),\n",
       " ('236', {'picked': 5780, 'won': 46.937716262975776}),\n",
       " ('202', {'picked': 5609, 'won': 48.92137635942236}),\n",
       " ('222', {'picked': 5545, 'won': 50.9287646528404}),\n",
       " ('498', {'picked': 5484, 'won': 50.23705324580598}),\n",
       " ('157', {'picked': 5453, 'won': 50.284247203374285}),\n",
       " ('99', {'picked': 5007, 'won': 49.29099261034552}),\n",
       " ('497', {'picked': 4820, 'won': 51.203319502074685}),\n",
       " ('53', {'picked': 4770, 'won': 51.36268343815513}),\n",
       " ('51', {'picked': 4736, 'won': 46.875}),\n",
       " ('24', {'picked': 4664, 'won': 50.32161234991423}),\n",
       " ('117', {'picked': 4636, 'won': 50.431406384814494}),\n",
       " ('61', {'picked': 4599, 'won': 49.945640356599256}),\n",
       " ('238', {'picked': 4541, 'won': 48.90993173309844}),\n",
       " ('79', {'picked': 4439, 'won': 48.704663212435236}),\n",
       " ('103', {'picked': 4432, 'won': 52.414259927797836}),\n",
       " ('92', {'picked': 4321, 'won': 49.94214302244851}),\n",
       " ('16', {'picked': 4287, 'won': 52.69419174247726}),\n",
       " ('21', {'picked': 4275, 'won': 52.91228070175439}),\n",
       " ('59', {'picked': 4236, 'won': 52.5731822474032}),\n",
       " ('25', {'picked': 4227, 'won': 47.66974213390111}),\n",
       " ('11', {'picked': 4192, 'won': 51.168893129770986}),\n",
       " ('19', {'picked': 4123, 'won': 51.32185301964589}),\n",
       " ('22', {'picked': 3808, 'won': 47.715336134453786}),\n",
       " ('81', {'picked': 3744, 'won': 46.12713675213676}),\n",
       " ('37', {'picked': 3733, 'won': 53.97803375301366}),\n",
       " ('119', {'picked': 3488, 'won': 49.62729357798165}),\n",
       " ('89', {'picked': 3464, 'won': 51.443418013856814}),\n",
       " ('245', {'picked': 3388, 'won': 49.616292798110976}),\n",
       " ('516', {'picked': 3339, 'won': 40.88050314465409}),\n",
       " ('267', {'picked': 3302, 'won': 52.241066020593586}),\n",
       " ('121', {'picked': 3069, 'won': 48.256761159986965}),\n",
       " ('75', {'picked': 3054, 'won': 51.637197118533074}),\n",
       " ('57', {'picked': 3042, 'won': 51.742274819197895}),\n",
       " ('41', {'picked': 2936, 'won': 49.38692098092643}),\n",
       " ('31', {'picked': 2926, 'won': 52.76828434723172}),\n",
       " ('17', {'picked': 2884, 'won': 51.69902912621359}),\n",
       " ('23', {'picked': 2880, 'won': 52.29166666666667}),\n",
       " ('15', {'picked': 2784, 'won': 50.646551724137936}),\n",
       " ('150', {'picked': 2784, 'won': 49.20977011494253}),\n",
       " ('45', {'picked': 2766, 'won': 49.240780911062906}),\n",
       " ('86', {'picked': 2752, 'won': 52.979651162790695}),\n",
       " ('63', {'picked': 2740, 'won': 50.83941605839416}),\n",
       " ('58', {'picked': 2724, 'won': 50.25697503671071}),\n",
       " ('122', {'picked': 2710, 'won': 52.54612546125461}),\n",
       " ('113', {'picked': 2695, 'won': 53.246753246753244}),\n",
       " ('432', {'picked': 2662, 'won': 47.257700976709245}),\n",
       " ('134', {'picked': 2646, 'won': 46.71201814058957}),\n",
       " ('201', {'picked': 2635, 'won': 51.00569259962049}),\n",
       " ('90', {'picked': 2624, 'won': 52.400914634146346}),\n",
       " ('429', {'picked': 2495, 'won': 48.41683366733467}),\n",
       " ('4', {'picked': 2481, 'won': 51.914550584441756}),\n",
       " ('12', {'picked': 2443, 'won': 49.8567335243553}),\n",
       " ('55', {'picked': 2417, 'won': 50.393049234588325}),\n",
       " ('105', {'picked': 2410, 'won': 48.63070539419087}),\n",
       " ('1', {'picked': 2309, 'won': 50.41143352100477}),\n",
       " ('5', {'picked': 2269, 'won': 51.65271044513001}),\n",
       " ('8', {'picked': 2259, 'won': 48.3842408145197}),\n",
       " ('91', {'picked': 2242, 'won': 49.37555753791258}),\n",
       " ('96', {'picked': 2218, 'won': 49.95491433724076}),\n",
       " ('161', {'picked': 2215, 'won': 51.286681715575625}),\n",
       " ('43', {'picked': 2206, 'won': 44.60562103354488}),\n",
       " ('98', {'picked': 2191, 'won': 48.51665905979005}),\n",
       " ('126', {'picked': 2185, 'won': 49.88558352402746}),\n",
       " ('131', {'picked': 2163, 'won': 51.7799352750809}),\n",
       " ('114', {'picked': 2150, 'won': 50.13953488372093}),\n",
       " ('254', {'picked': 2139, 'won': 50.86489013557737}),\n",
       " ('38', {'picked': 2136, 'won': 49.43820224719101}),\n",
       " ('84', {'picked': 2081, 'won': 50.12013455069678}),\n",
       " ('33', {'picked': 2060, 'won': 55.00000000000001}),\n",
       " ('110', {'picked': 2006, 'won': 50.3988035892323}),\n",
       " ('3', {'picked': 1942, 'won': 45.62306900102986}),\n",
       " ('69', {'picked': 1921, 'won': 48.880791254554914}),\n",
       " ('80', {'picked': 1877, 'won': 50.23974427277571}),\n",
       " ('44', {'picked': 1801, 'won': 52.58189894503054}),\n",
       " ('35', {'picked': 1799, 'won': 48.249027237354085}),\n",
       " ('60', {'picked': 1794, 'won': 49.163879598662206}),\n",
       " ('154', {'picked': 1765, 'won': 50.08498583569405}),\n",
       " ('54', {'picked': 1735, 'won': 49.971181556195965}),\n",
       " ('42', {'picked': 1728, 'won': 46.70138888888889}),\n",
       " ('102', {'picked': 1682, 'won': 52.85374554102259}),\n",
       " ('6', {'picked': 1673, 'won': 47.10101613867304}),\n",
       " ('143', {'picked': 1643, 'won': 49.969567863664025}),\n",
       " ('115', {'picked': 1613, 'won': 52.3248605083695}),\n",
       " ('32', {'picked': 1603, 'won': 51.46600124766063}),\n",
       " ('39', {'picked': 1588, 'won': 51.385390428211586}),\n",
       " ('34', {'picked': 1582, 'won': 54.171934260429836}),\n",
       " ('7', {'picked': 1550, 'won': 47.41935483870968}),\n",
       " ('62', {'picked': 1544, 'won': 51.813471502590666}),\n",
       " ('111', {'picked': 1500, 'won': 47.4}),\n",
       " ('107', {'picked': 1472, 'won': 47.75815217391305}),\n",
       " ('14', {'picked': 1471, 'won': 50.03399048266486}),\n",
       " ('120', {'picked': 1409, 'won': 50.46132008516678}),\n",
       " ('48', {'picked': 1371, 'won': 47.04595185995623}),\n",
       " ('10', {'picked': 1364, 'won': 51.09970674486804}),\n",
       " ('163', {'picked': 1361, 'won': 46.28949301983835}),\n",
       " ('85', {'picked': 1326, 'won': 49.01960784313725}),\n",
       " ('164', {'picked': 1322, 'won': 48.41149773071105}),\n",
       " ('78', {'picked': 1273, 'won': 45.16889238020424}),\n",
       " ('240', {'picked': 1233, 'won': 50.93268450932684}),\n",
       " ('9', {'picked': 1211, 'won': 49.793559042113955}),\n",
       " ('112', {'picked': 1209, 'won': 47.97353184449958}),\n",
       " ('56', {'picked': 1192, 'won': 51.258389261744966}),\n",
       " ('101', {'picked': 1187, 'won': 53.49620893007582}),\n",
       " ('74', {'picked': 1175, 'won': 47.14893617021277}),\n",
       " ('223', {'picked': 1162, 'won': 43.97590361445783}),\n",
       " ('76', {'picked': 1152, 'won': 44.87847222222222}),\n",
       " ('28', {'picked': 1135, 'won': 46.6079295154185}),\n",
       " ('36', {'picked': 1112, 'won': 50.17985611510791}),\n",
       " ('68', {'picked': 1111, 'won': 49.41494149414942}),\n",
       " ('2', {'picked': 1092, 'won': 48.53479853479853}),\n",
       " ('104', {'picked': 1039, 'won': 48.508180943214626}),\n",
       " ('50', {'picked': 1021, 'won': 52.693437806072474}),\n",
       " ('420', {'picked': 1019, 'won': 47.8900883218842}),\n",
       " ('421', {'picked': 1013, 'won': 49.3583415597236}),\n",
       " ('26', {'picked': 1008, 'won': 49.404761904761905}),\n",
       " ('83', {'picked': 1000, 'won': 54.400000000000006}),\n",
       " ('27', {'picked': 992, 'won': 54.43548387096774}),\n",
       " ('268', {'picked': 928, 'won': 43.64224137931034}),\n",
       " ('20', {'picked': 898, 'won': 48.88641425389755}),\n",
       " ('133', {'picked': 885, 'won': 50.73446327683616}),\n",
       " ('106', {'picked': 839, 'won': 49.582836710369484}),\n",
       " ('203', {'picked': 827, 'won': 48.48851269649335}),\n",
       " ('82', {'picked': 821, 'won': 50.42630937880633}),\n",
       " ('427', {'picked': 779, 'won': 46.08472400513479}),\n",
       " ('77', {'picked': 778, 'won': 49.228791773778916}),\n",
       " ('127', {'picked': 773, 'won': 46.95989650711513}),\n",
       " ('13', {'picked': 739, 'won': 39.783491204330176}),\n",
       " ('30', {'picked': 662, 'won': 51.20845921450151}),\n",
       " ('136', {'picked': 602, 'won': 53.156146179402}),\n",
       " ('266', {'picked': 531, 'won': 46.89265536723164}),\n",
       " ('72', {'picked': 396, 'won': 46.96969696969697})]"
      ]
     },
     "execution_count": 63,
     "metadata": {},
     "output_type": "execute_result"
    }
   ],
   "source": [
    "sorted_champs_picked"
   ]
  },
  {
   "cell_type": "markdown",
   "metadata": {},
   "source": [
    "Champion name along with champion id data was scraped and stored as a .json file which is imported below."
   ]
  },
  {
   "cell_type": "code",
   "execution_count": 64,
   "metadata": {},
   "outputs": [],
   "source": [
    "import json\n",
    "\n",
    "with open('ChampionIDs.json') as json_file:\n",
    "    champion_names = json.loads(json_file.read())"
   ]
  },
  {
   "cell_type": "code",
   "execution_count": 65,
   "metadata": {},
   "outputs": [],
   "source": [
    "champion_names = {int(k):v for k,v in champion_names.items()}"
   ]
  },
  {
   "cell_type": "code",
   "execution_count": 66,
   "metadata": {
    "scrolled": true
   },
   "outputs": [
    {
     "data": {
      "text/plain": [
       "{266: 'Aatrox',\n",
       " 103: 'Ahri',\n",
       " 84: 'Akali',\n",
       " 166: 'Akshan',\n",
       " 12: 'Alistar',\n",
       " 32: 'Amumu',\n",
       " 34: 'Anivia',\n",
       " 1: 'Annie',\n",
       " 523: 'Aphelios',\n",
       " 22: 'Ashe',\n",
       " 136: 'Aurelion Sol',\n",
       " 268: 'Azir',\n",
       " 432: 'Bard',\n",
       " 53: 'Blitzcrank',\n",
       " 63: 'Brand',\n",
       " 201: 'Braum',\n",
       " 51: 'Caitlyn',\n",
       " 164: 'Camille',\n",
       " 69: 'Cassiopeia',\n",
       " 31: \"Cho'Gath\",\n",
       " 42: 'Corki',\n",
       " 122: 'Darius',\n",
       " 131: 'Diana',\n",
       " 119: 'Draven',\n",
       " 36: 'Dr. Mundo',\n",
       " 245: 'Ekko',\n",
       " 60: 'Elise',\n",
       " 28: 'Evelynn',\n",
       " 81: 'Ezreal',\n",
       " 9: 'Fiddlesticks',\n",
       " 114: 'Fiora',\n",
       " 105: 'Fizz',\n",
       " 3: 'Galio',\n",
       " 41: 'Gangplank',\n",
       " 86: 'Garen',\n",
       " 150: 'Gnar',\n",
       " 79: 'Gragas',\n",
       " 104: 'Graves',\n",
       " 887: 'Gwen',\n",
       " 120: 'Hecarim',\n",
       " 74: 'Heimerdinger',\n",
       " 420: 'Illaoi',\n",
       " 39: 'Irelia',\n",
       " 427: 'Ivern',\n",
       " 40: 'Janna',\n",
       " 59: 'Jarvan IV',\n",
       " 24: 'Jax',\n",
       " 126: 'Jayce',\n",
       " 202: 'Jhin',\n",
       " 222: 'Jinx',\n",
       " 145: \"Kai'Sa\",\n",
       " 429: 'Kalista',\n",
       " 43: 'Karma',\n",
       " 30: 'Karthus',\n",
       " 38: 'Kassadin',\n",
       " 55: 'Katarina',\n",
       " 10: 'Kayle',\n",
       " 141: 'Kayn',\n",
       " 85: 'Kennen',\n",
       " 121: \"Kha'Zix\",\n",
       " 203: 'Kindred',\n",
       " 240: 'Kled',\n",
       " 96: \"Kog'Maw\",\n",
       " 7: 'LeBlanc',\n",
       " 64: 'Lee Sin',\n",
       " 89: 'Leona',\n",
       " 876: 'Lillia',\n",
       " 127: 'Lissandra',\n",
       " 236: 'Lucian',\n",
       " 117: 'Lulu',\n",
       " 99: 'Lux',\n",
       " 54: 'Malphite',\n",
       " 90: 'Malzahar',\n",
       " 57: 'Maokai',\n",
       " 11: 'Master Yi',\n",
       " 21: 'Miss Fortune',\n",
       " 62: 'Wukong',\n",
       " 82: 'Mordekaiser',\n",
       " 25: 'Morgana',\n",
       " 267: 'Nami',\n",
       " 75: 'Nasus',\n",
       " 111: 'Nautilus',\n",
       " 518: 'Neeko',\n",
       " 76: 'Nidalee',\n",
       " 56: 'Nocturne',\n",
       " 20: 'Nunu & Willump',\n",
       " 2: 'Olaf',\n",
       " 61: 'Orianna',\n",
       " 516: 'Ornn',\n",
       " 80: 'Pantheon',\n",
       " 78: 'Poppy',\n",
       " 555: 'Pyke',\n",
       " 246: 'Qiyana',\n",
       " 133: 'Quinn',\n",
       " 497: 'Rakan',\n",
       " 33: 'Rammus',\n",
       " 421: \"Rek'Sai\",\n",
       " 526: 'Rell',\n",
       " 58: 'Renekton',\n",
       " 107: 'Rengar',\n",
       " 92: 'Riven',\n",
       " 68: 'Rumble',\n",
       " 13: 'Ryze',\n",
       " 360: 'Samira',\n",
       " 113: 'Sejuani',\n",
       " 235: 'Senna',\n",
       " 147: 'Seraphine',\n",
       " 875: 'Sett',\n",
       " 35: 'Shaco',\n",
       " 98: 'Shen',\n",
       " 102: 'Shyvana',\n",
       " 27: 'Singed',\n",
       " 14: 'Sion',\n",
       " 15: 'Sivir',\n",
       " 72: 'Skarner',\n",
       " 37: 'Sona',\n",
       " 16: 'Soraka',\n",
       " 50: 'Swain',\n",
       " 517: 'Sylas',\n",
       " 134: 'Syndra',\n",
       " 223: 'Tahm Kench',\n",
       " 163: 'Taliyah',\n",
       " 91: 'Talon',\n",
       " 44: 'Taric',\n",
       " 17: 'Teemo',\n",
       " 412: 'Thresh',\n",
       " 18: 'Tristana',\n",
       " 48: 'Trundle',\n",
       " 23: 'Tryndamere',\n",
       " 4: 'Twisted Fate',\n",
       " 29: 'Twitch',\n",
       " 77: 'Udyr',\n",
       " 6: 'Urgot',\n",
       " 110: 'Varus',\n",
       " 67: 'Vayne',\n",
       " 45: 'Veigar',\n",
       " 161: \"Vel'Koz\",\n",
       " 711: 'Vex',\n",
       " 254: 'Vi',\n",
       " 234: 'Viego',\n",
       " 112: 'Viktor',\n",
       " 8: 'Vladimir',\n",
       " 106: 'Volibear',\n",
       " 19: 'Warwick',\n",
       " 498: 'Xayah',\n",
       " 101: 'Xerath',\n",
       " 5: 'Xin Zhao',\n",
       " 157: 'Yasuo',\n",
       " 777: 'Yone',\n",
       " 83: 'Yorick',\n",
       " 350: 'Yuumi',\n",
       " 154: 'Zac',\n",
       " 238: 'Zed',\n",
       " 221: 'Zeri',\n",
       " 115: 'Ziggs',\n",
       " 26: 'Zilean',\n",
       " 142: 'Zoe',\n",
       " 143: 'Zyra'}"
      ]
     },
     "execution_count": 66,
     "metadata": {},
     "output_type": "execute_result"
    }
   ],
   "source": [
    "champion_names"
   ]
  },
  {
   "cell_type": "code",
   "execution_count": 67,
   "metadata": {
    "scrolled": false
   },
   "outputs": [
    {
     "data": {
      "image/png": "[encoded data removed]",
      "text/plain": [
       "<Figure size 1800x720 with 1 Axes>"
      ]
     },
     "metadata": {
      "needs_background": "light"
     },
     "output_type": "display_data"
    }
   ],
   "source": [
    "#Visualizing the win rates of top 20 champions\n",
    "\n",
    "fig,ax = plt.subplots(figsize=(25,10))\n",
    "plt.ylim(0,65)\n",
    "plt.xticks(np.arange(0, 20, step=1))\n",
    "for i in range(20):\n",
    "    champ_id = int(sorted_champs_win[i][0])\n",
    "    #plot the ith value with the x-axis being the champion, y is the win % and annotate the picked\n",
    "    ax.bar(champion_names[champ_id],sorted_champs_win[i][1]['won'])\n",
    "    #ax.annotate(sorted_champs_win[i][1]['picked'],xy=(sorted_champs_win[i][0],sorted_champs_win[i][1]['won']))\n",
    "    ax.text(champion_names[champ_id],(sorted_champs_win[i][1]['won'] + 3),sorted_champs_win[i][1]['picked'],rotation=90)\n",
    "    #replace the number with the champion name from the list of champions"
   ]
  },
  {
   "cell_type": "markdown",
   "metadata": {},
   "source": [
    "Many of the champions don’t have a high pick rate besides Janna and Twitch. This suggests that the people who picked these champions might specialize in them. This provides the individual players with an edge because they have a mastery of a champion that is not used very often."
   ]
  },
  {
   "cell_type": "code",
   "execution_count": 68,
   "metadata": {
    "scrolled": false
   },
   "outputs": [
    {
     "data": {
      "image/png": "[encoded data removed]",
      "text/plain": [
       "<Figure size 1800x720 with 1 Axes>"
      ]
     },
     "metadata": {
      "needs_background": "light"
     },
     "output_type": "display_data"
    }
   ],
   "source": [
    "#visualizing the win rates of most picked champions\n",
    "fig,ax = plt.subplots(figsize=(25,10))\n",
    "plt.ylim(0,65)\n",
    "plt.xticks(np.arange(0, 20, step=1))\n",
    "for i in range(20):\n",
    "    champ_id = int(sorted_champs_picked[i][0])\n",
    "    #plot the ith value with the x-axis being the champion, y is the win % and annotate the picked\n",
    "    ax.bar(champion_names[champ_id],sorted_champs_picked[i][1]['won'])\n",
    "    \n",
    "    #ax.annotate(sorted_champs_win[i][1]['picked'],xy=(sorted_champs_win[i][0],sorted_champs_win[i][1]['won']))\n",
    "    ax.text(champion_names[champ_id],(sorted_champs_picked[i][1]['won'] + 3),sorted_champs_picked[i][1]['picked'],rotation=90)\n",
    "    "
   ]
  },
  {
   "cell_type": "markdown",
   "metadata": {},
   "source": [
    "It is observed that the most picked champions are in the role ADC(Attack Damage Carry) because they’re usually fun to play and are important toward carrying games. "
   ]
  },
  {
   "cell_type": "code",
   "execution_count": 71,
   "metadata": {},
   "outputs": [],
   "source": [
    "games_full.drop(columns=['gameId','creationTime','seasonId'],inplace=True)"
   ]
  },
  {
   "cell_type": "code",
   "execution_count": 72,
   "metadata": {},
   "outputs": [],
   "source": [
    "corr =games_full.corr()"
   ]
  },
  {
   "cell_type": "code",
   "execution_count": 73,
   "metadata": {
    "scrolled": true
   },
   "outputs": [
    {
     "data": {
      "text/html": [
       "<div>\n",
       "<style scoped>\n",
       "    .dataframe tbody tr th:only-of-type {\n",
       "        vertical-align: middle;\n",
       "    }\n",
       "\n",
       "    .dataframe tbody tr th {\n",
       "        vertical-align: top;\n",
       "    }\n",
       "\n",
       "    .dataframe thead th {\n",
       "        text-align: right;\n",
       "    }\n",
       "</style>\n",
       "<table border=\"1\" class=\"dataframe\">\n",
       "  <thead>\n",
       "    <tr style=\"text-align: right;\">\n",
       "      <th></th>\n",
       "      <th>gameDuration</th>\n",
       "      <th>winner</th>\n",
       "      <th>firstBlood</th>\n",
       "      <th>firstTower</th>\n",
       "      <th>firstInhibitor</th>\n",
       "      <th>firstBaron</th>\n",
       "      <th>firstDragon</th>\n",
       "      <th>firstRiftHerald</th>\n",
       "      <th>t1_champ1id</th>\n",
       "      <th>t1_champ1_sum1</th>\n",
       "      <th>...</th>\n",
       "      <th>t2_towerKills</th>\n",
       "      <th>t2_inhibitorKills</th>\n",
       "      <th>t2_baronKills</th>\n",
       "      <th>t2_dragonKills</th>\n",
       "      <th>t2_riftHeraldKills</th>\n",
       "      <th>t2_ban1</th>\n",
       "      <th>t2_ban2</th>\n",
       "      <th>t2_ban3</th>\n",
       "      <th>t2_ban4</th>\n",
       "      <th>t2_ban5</th>\n",
       "    </tr>\n",
       "  </thead>\n",
       "  <tbody>\n",
       "    <tr>\n",
       "      <th>gameDuration</th>\n",
       "      <td>1.000000</td>\n",
       "      <td>0.024187</td>\n",
       "      <td>0.105022</td>\n",
       "      <td>0.216842</td>\n",
       "      <td>0.379996</td>\n",
       "      <td>0.487788</td>\n",
       "      <td>0.255563</td>\n",
       "      <td>0.011690</td>\n",
       "      <td>0.000607</td>\n",
       "      <td>-0.002973</td>\n",
       "      <td>...</td>\n",
       "      <td>0.396769</td>\n",
       "      <td>0.319451</td>\n",
       "      <td>0.429793</td>\n",
       "      <td>0.416995</td>\n",
       "      <td>0.007818</td>\n",
       "      <td>0.004853</td>\n",
       "      <td>-0.001518</td>\n",
       "      <td>0.009548</td>\n",
       "      <td>0.009976</td>\n",
       "      <td>0.008206</td>\n",
       "    </tr>\n",
       "    <tr>\n",
       "      <th>winner</th>\n",
       "      <td>0.024187</td>\n",
       "      <td>1.000000</td>\n",
       "      <td>0.174770</td>\n",
       "      <td>0.375697</td>\n",
       "      <td>0.536437</td>\n",
       "      <td>0.261888</td>\n",
       "      <td>0.310386</td>\n",
       "      <td>0.119813</td>\n",
       "      <td>0.019132</td>\n",
       "      <td>0.000519</td>\n",
       "      <td>...</td>\n",
       "      <td>0.785813</td>\n",
       "      <td>0.660452</td>\n",
       "      <td>0.399249</td>\n",
       "      <td>0.497206</td>\n",
       "      <td>0.226102</td>\n",
       "      <td>-0.003714</td>\n",
       "      <td>0.000322</td>\n",
       "      <td>0.000046</td>\n",
       "      <td>-0.003010</td>\n",
       "      <td>-0.002691</td>\n",
       "    </tr>\n",
       "    <tr>\n",
       "      <th>firstBlood</th>\n",
       "      <td>0.105022</td>\n",
       "      <td>0.174770</td>\n",
       "      <td>1.000000</td>\n",
       "      <td>0.263866</td>\n",
       "      <td>0.169761</td>\n",
       "      <td>0.077293</td>\n",
       "      <td>0.189092</td>\n",
       "      <td>0.084062</td>\n",
       "      <td>0.004885</td>\n",
       "      <td>0.000699</td>\n",
       "      <td>...</td>\n",
       "      <td>0.223657</td>\n",
       "      <td>0.151111</td>\n",
       "      <td>0.076395</td>\n",
       "      <td>0.161045</td>\n",
       "      <td>0.122195</td>\n",
       "      <td>0.005265</td>\n",
       "      <td>-0.003818</td>\n",
       "      <td>0.004698</td>\n",
       "      <td>0.001483</td>\n",
       "      <td>0.005577</td>\n",
       "    </tr>\n",
       "    <tr>\n",
       "      <th>firstTower</th>\n",
       "      <td>0.216842</td>\n",
       "      <td>0.375697</td>\n",
       "      <td>0.263866</td>\n",
       "      <td>1.000000</td>\n",
       "      <td>0.380326</td>\n",
       "      <td>0.165028</td>\n",
       "      <td>0.403552</td>\n",
       "      <td>0.185989</td>\n",
       "      <td>0.005394</td>\n",
       "      <td>-0.008436</td>\n",
       "      <td>...</td>\n",
       "      <td>0.511296</td>\n",
       "      <td>0.347641</td>\n",
       "      <td>0.161308</td>\n",
       "      <td>0.364361</td>\n",
       "      <td>0.274713</td>\n",
       "      <td>-0.003668</td>\n",
       "      <td>-0.005956</td>\n",
       "      <td>0.002348</td>\n",
       "      <td>0.000878</td>\n",
       "      <td>-0.001758</td>\n",
       "    </tr>\n",
       "    <tr>\n",
       "      <th>firstInhibitor</th>\n",
       "      <td>0.379996</td>\n",
       "      <td>0.536437</td>\n",
       "      <td>0.169761</td>\n",
       "      <td>0.380326</td>\n",
       "      <td>1.000000</td>\n",
       "      <td>0.417848</td>\n",
       "      <td>0.352760</td>\n",
       "      <td>0.166521</td>\n",
       "      <td>0.004425</td>\n",
       "      <td>-0.011808</td>\n",
       "      <td>...</td>\n",
       "      <td>0.755335</td>\n",
       "      <td>0.699832</td>\n",
       "      <td>0.400133</td>\n",
       "      <td>0.487373</td>\n",
       "      <td>0.211380</td>\n",
       "      <td>-0.004185</td>\n",
       "      <td>-0.011025</td>\n",
       "      <td>-0.007650</td>\n",
       "      <td>-0.008131</td>\n",
       "      <td>-0.002049</td>\n",
       "    </tr>\n",
       "    <tr>\n",
       "      <th>firstBaron</th>\n",
       "      <td>0.487788</td>\n",
       "      <td>0.261888</td>\n",
       "      <td>0.077293</td>\n",
       "      <td>0.165028</td>\n",
       "      <td>0.417848</td>\n",
       "      <td>1.000000</td>\n",
       "      <td>0.201065</td>\n",
       "      <td>0.120714</td>\n",
       "      <td>0.009642</td>\n",
       "      <td>-0.009815</td>\n",
       "      <td>...</td>\n",
       "      <td>0.460115</td>\n",
       "      <td>0.385864</td>\n",
       "      <td>0.793114</td>\n",
       "      <td>0.393952</td>\n",
       "      <td>0.121126</td>\n",
       "      <td>-0.008986</td>\n",
       "      <td>-0.012893</td>\n",
       "      <td>-0.008572</td>\n",
       "      <td>-0.005207</td>\n",
       "      <td>-0.007266</td>\n",
       "    </tr>\n",
       "    <tr>\n",
       "      <th>firstDragon</th>\n",
       "      <td>0.255563</td>\n",
       "      <td>0.310386</td>\n",
       "      <td>0.189092</td>\n",
       "      <td>0.403552</td>\n",
       "      <td>0.352760</td>\n",
       "      <td>0.201065</td>\n",
       "      <td>1.000000</td>\n",
       "      <td>0.159429</td>\n",
       "      <td>-0.003235</td>\n",
       "      <td>-0.005986</td>\n",
       "      <td>...</td>\n",
       "      <td>0.427092</td>\n",
       "      <td>0.299977</td>\n",
       "      <td>0.195352</td>\n",
       "      <td>0.629794</td>\n",
       "      <td>0.205444</td>\n",
       "      <td>-0.000779</td>\n",
       "      <td>-0.007619</td>\n",
       "      <td>-0.004045</td>\n",
       "      <td>0.002753</td>\n",
       "      <td>0.000162</td>\n",
       "    </tr>\n",
       "    <tr>\n",
       "      <th>firstRiftHerald</th>\n",
       "      <td>0.011690</td>\n",
       "      <td>0.119813</td>\n",
       "      <td>0.084062</td>\n",
       "      <td>0.185989</td>\n",
       "      <td>0.166521</td>\n",
       "      <td>0.120714</td>\n",
       "      <td>0.159429</td>\n",
       "      <td>1.000000</td>\n",
       "      <td>-0.003121</td>\n",
       "      <td>-0.009917</td>\n",
       "      <td>...</td>\n",
       "      <td>0.188240</td>\n",
       "      <td>0.141677</td>\n",
       "      <td>0.101231</td>\n",
       "      <td>0.150173</td>\n",
       "      <td>0.866779</td>\n",
       "      <td>0.001247</td>\n",
       "      <td>-0.010029</td>\n",
       "      <td>-0.008588</td>\n",
       "      <td>-0.009826</td>\n",
       "      <td>-0.004224</td>\n",
       "    </tr>\n",
       "    <tr>\n",
       "      <th>t1_champ1id</th>\n",
       "      <td>0.000607</td>\n",
       "      <td>0.019132</td>\n",
       "      <td>0.004885</td>\n",
       "      <td>0.005394</td>\n",
       "      <td>0.004425</td>\n",
       "      <td>0.009642</td>\n",
       "      <td>-0.003235</td>\n",
       "      <td>-0.003121</td>\n",
       "      <td>1.000000</td>\n",
       "      <td>-0.052492</td>\n",
       "      <td>...</td>\n",
       "      <td>0.014693</td>\n",
       "      <td>0.006122</td>\n",
       "      <td>0.009844</td>\n",
       "      <td>-0.001838</td>\n",
       "      <td>0.003255</td>\n",
       "      <td>-0.012999</td>\n",
       "      <td>-0.018180</td>\n",
       "      <td>-0.006068</td>\n",
       "      <td>-0.015866</td>\n",
       "      <td>-0.006765</td>\n",
       "    </tr>\n",
       "    <tr>\n",
       "      <th>t1_champ1_sum1</th>\n",
       "      <td>-0.002973</td>\n",
       "      <td>0.000519</td>\n",
       "      <td>0.000699</td>\n",
       "      <td>-0.008436</td>\n",
       "      <td>-0.011808</td>\n",
       "      <td>-0.009815</td>\n",
       "      <td>-0.005986</td>\n",
       "      <td>-0.009917</td>\n",
       "      <td>-0.052492</td>\n",
       "      <td>1.000000</td>\n",
       "      <td>...</td>\n",
       "      <td>-0.001398</td>\n",
       "      <td>-0.001612</td>\n",
       "      <td>-0.007154</td>\n",
       "      <td>-0.002552</td>\n",
       "      <td>-0.005341</td>\n",
       "      <td>0.003986</td>\n",
       "      <td>0.006030</td>\n",
       "      <td>0.004057</td>\n",
       "      <td>-0.005801</td>\n",
       "      <td>0.002071</td>\n",
       "    </tr>\n",
       "    <tr>\n",
       "      <th>t1_champ1_sum2</th>\n",
       "      <td>0.004480</td>\n",
       "      <td>-0.001474</td>\n",
       "      <td>-0.008520</td>\n",
       "      <td>-0.002564</td>\n",
       "      <td>0.003012</td>\n",
       "      <td>0.007948</td>\n",
       "      <td>0.000646</td>\n",
       "      <td>-0.001584</td>\n",
       "      <td>-0.048490</td>\n",
       "      <td>-0.463698</td>\n",
       "      <td>...</td>\n",
       "      <td>-0.002311</td>\n",
       "      <td>0.000706</td>\n",
       "      <td>0.009275</td>\n",
       "      <td>0.000185</td>\n",
       "      <td>-0.002743</td>\n",
       "      <td>-0.002088</td>\n",
       "      <td>-0.004053</td>\n",
       "      <td>-0.000148</td>\n",
       "      <td>0.008235</td>\n",
       "      <td>-0.004187</td>\n",
       "    </tr>\n",
       "    <tr>\n",
       "      <th>t1_champ2id</th>\n",
       "      <td>-0.007822</td>\n",
       "      <td>0.016178</td>\n",
       "      <td>0.002287</td>\n",
       "      <td>-0.006122</td>\n",
       "      <td>0.007299</td>\n",
       "      <td>-0.003110</td>\n",
       "      <td>0.003292</td>\n",
       "      <td>-0.001615</td>\n",
       "      <td>0.037926</td>\n",
       "      <td>-0.003220</td>\n",
       "      <td>...</td>\n",
       "      <td>0.011722</td>\n",
       "      <td>0.008123</td>\n",
       "      <td>-0.005506</td>\n",
       "      <td>-0.000792</td>\n",
       "      <td>0.003371</td>\n",
       "      <td>-0.003526</td>\n",
       "      <td>-0.007486</td>\n",
       "      <td>-0.012162</td>\n",
       "      <td>-0.009824</td>\n",
       "      <td>-0.009495</td>\n",
       "    </tr>\n",
       "    <tr>\n",
       "      <th>t1_champ2_sum1</th>\n",
       "      <td>-0.000030</td>\n",
       "      <td>0.002682</td>\n",
       "      <td>-0.005442</td>\n",
       "      <td>-0.008004</td>\n",
       "      <td>-0.003797</td>\n",
       "      <td>-0.001120</td>\n",
       "      <td>-0.003870</td>\n",
       "      <td>-0.000306</td>\n",
       "      <td>0.007149</td>\n",
       "      <td>0.002641</td>\n",
       "      <td>...</td>\n",
       "      <td>-0.002927</td>\n",
       "      <td>0.002752</td>\n",
       "      <td>0.001378</td>\n",
       "      <td>-0.005306</td>\n",
       "      <td>-0.000176</td>\n",
       "      <td>0.004066</td>\n",
       "      <td>0.001148</td>\n",
       "      <td>-0.008048</td>\n",
       "      <td>-0.002941</td>\n",
       "      <td>0.003517</td>\n",
       "    </tr>\n",
       "    <tr>\n",
       "      <th>t1_champ2_sum2</th>\n",
       "      <td>0.002113</td>\n",
       "      <td>-0.004894</td>\n",
       "      <td>0.000547</td>\n",
       "      <td>-0.003635</td>\n",
       "      <td>-0.000254</td>\n",
       "      <td>0.002191</td>\n",
       "      <td>-0.004644</td>\n",
       "      <td>-0.005744</td>\n",
       "      <td>0.003161</td>\n",
       "      <td>-0.027560</td>\n",
       "      <td>...</td>\n",
       "      <td>-0.003395</td>\n",
       "      <td>-0.002671</td>\n",
       "      <td>0.001147</td>\n",
       "      <td>-0.004555</td>\n",
       "      <td>-0.007336</td>\n",
       "      <td>-0.008518</td>\n",
       "      <td>0.000627</td>\n",
       "      <td>0.006270</td>\n",
       "      <td>0.002975</td>\n",
       "      <td>-0.003646</td>\n",
       "    </tr>\n",
       "    <tr>\n",
       "      <th>t1_champ3id</th>\n",
       "      <td>-0.005342</td>\n",
       "      <td>0.020014</td>\n",
       "      <td>0.004356</td>\n",
       "      <td>-0.002660</td>\n",
       "      <td>0.003116</td>\n",
       "      <td>-0.001389</td>\n",
       "      <td>-0.001493</td>\n",
       "      <td>-0.005101</td>\n",
       "      <td>-0.008577</td>\n",
       "      <td>0.021073</td>\n",
       "      <td>...</td>\n",
       "      <td>0.010549</td>\n",
       "      <td>0.002374</td>\n",
       "      <td>-0.002637</td>\n",
       "      <td>-0.004048</td>\n",
       "      <td>0.001246</td>\n",
       "      <td>-0.009734</td>\n",
       "      <td>-0.013375</td>\n",
       "      <td>-0.008714</td>\n",
       "      <td>-0.015396</td>\n",
       "      <td>-0.007996</td>\n",
       "    </tr>\n",
       "    <tr>\n",
       "      <th>t1_champ3_sum1</th>\n",
       "      <td>0.007458</td>\n",
       "      <td>-0.000666</td>\n",
       "      <td>-0.000287</td>\n",
       "      <td>0.003080</td>\n",
       "      <td>-0.000931</td>\n",
       "      <td>-0.007565</td>\n",
       "      <td>-0.005184</td>\n",
       "      <td>-0.009078</td>\n",
       "      <td>0.024380</td>\n",
       "      <td>-0.022101</td>\n",
       "      <td>...</td>\n",
       "      <td>-0.002853</td>\n",
       "      <td>-0.005299</td>\n",
       "      <td>-0.003438</td>\n",
       "      <td>0.000169</td>\n",
       "      <td>-0.006250</td>\n",
       "      <td>0.007341</td>\n",
       "      <td>0.000654</td>\n",
       "      <td>0.004611</td>\n",
       "      <td>0.005108</td>\n",
       "      <td>-0.000580</td>\n",
       "    </tr>\n",
       "    <tr>\n",
       "      <th>t1_champ3_sum2</th>\n",
       "      <td>0.002012</td>\n",
       "      <td>-0.003377</td>\n",
       "      <td>-0.010881</td>\n",
       "      <td>-0.015173</td>\n",
       "      <td>-0.002169</td>\n",
       "      <td>0.003378</td>\n",
       "      <td>-0.004056</td>\n",
       "      <td>0.001617</td>\n",
       "      <td>0.023969</td>\n",
       "      <td>-0.035018</td>\n",
       "      <td>...</td>\n",
       "      <td>-0.004165</td>\n",
       "      <td>-0.001916</td>\n",
       "      <td>0.002119</td>\n",
       "      <td>-0.007000</td>\n",
       "      <td>-0.003697</td>\n",
       "      <td>-0.007448</td>\n",
       "      <td>0.002476</td>\n",
       "      <td>-0.001511</td>\n",
       "      <td>-0.002973</td>\n",
       "      <td>-0.006179</td>\n",
       "    </tr>\n",
       "    <tr>\n",
       "      <th>t1_champ4id</th>\n",
       "      <td>-0.011403</td>\n",
       "      <td>0.017236</td>\n",
       "      <td>-0.000839</td>\n",
       "      <td>0.001760</td>\n",
       "      <td>0.001468</td>\n",
       "      <td>-0.003316</td>\n",
       "      <td>0.000158</td>\n",
       "      <td>-0.000277</td>\n",
       "      <td>-0.006324</td>\n",
       "      <td>0.018316</td>\n",
       "      <td>...</td>\n",
       "      <td>0.007640</td>\n",
       "      <td>0.005395</td>\n",
       "      <td>0.004906</td>\n",
       "      <td>-0.004792</td>\n",
       "      <td>0.001986</td>\n",
       "      <td>-0.014604</td>\n",
       "      <td>-0.010966</td>\n",
       "      <td>-0.007694</td>\n",
       "      <td>-0.014260</td>\n",
       "      <td>-0.016844</td>\n",
       "    </tr>\n",
       "    <tr>\n",
       "      <th>t1_champ4_sum1</th>\n",
       "      <td>0.001438</td>\n",
       "      <td>-0.000018</td>\n",
       "      <td>-0.009317</td>\n",
       "      <td>-0.006103</td>\n",
       "      <td>0.002806</td>\n",
       "      <td>-0.006563</td>\n",
       "      <td>-0.012336</td>\n",
       "      <td>0.001027</td>\n",
       "      <td>0.026042</td>\n",
       "      <td>-0.033529</td>\n",
       "      <td>...</td>\n",
       "      <td>0.001044</td>\n",
       "      <td>-0.003031</td>\n",
       "      <td>-0.009071</td>\n",
       "      <td>-0.009490</td>\n",
       "      <td>0.000473</td>\n",
       "      <td>0.003534</td>\n",
       "      <td>-0.000758</td>\n",
       "      <td>0.003548</td>\n",
       "      <td>0.002317</td>\n",
       "      <td>0.002706</td>\n",
       "    </tr>\n",
       "    <tr>\n",
       "      <th>t1_champ4_sum2</th>\n",
       "      <td>0.006646</td>\n",
       "      <td>-0.000096</td>\n",
       "      <td>-0.000508</td>\n",
       "      <td>0.001559</td>\n",
       "      <td>-0.001945</td>\n",
       "      <td>0.002224</td>\n",
       "      <td>0.000989</td>\n",
       "      <td>0.002078</td>\n",
       "      <td>0.016938</td>\n",
       "      <td>-0.039235</td>\n",
       "      <td>...</td>\n",
       "      <td>0.001052</td>\n",
       "      <td>0.000918</td>\n",
       "      <td>0.008703</td>\n",
       "      <td>0.008395</td>\n",
       "      <td>0.000753</td>\n",
       "      <td>-0.002545</td>\n",
       "      <td>0.003154</td>\n",
       "      <td>-0.003049</td>\n",
       "      <td>-0.008783</td>\n",
       "      <td>-0.003225</td>\n",
       "    </tr>\n",
       "    <tr>\n",
       "      <th>t1_champ5id</th>\n",
       "      <td>-0.011919</td>\n",
       "      <td>0.026408</td>\n",
       "      <td>0.006672</td>\n",
       "      <td>0.002205</td>\n",
       "      <td>0.006194</td>\n",
       "      <td>0.000463</td>\n",
       "      <td>-0.002769</td>\n",
       "      <td>-0.008879</td>\n",
       "      <td>0.000385</td>\n",
       "      <td>0.020447</td>\n",
       "      <td>...</td>\n",
       "      <td>0.011412</td>\n",
       "      <td>0.005729</td>\n",
       "      <td>0.004589</td>\n",
       "      <td>0.001597</td>\n",
       "      <td>-0.004447</td>\n",
       "      <td>-0.009093</td>\n",
       "      <td>-0.018941</td>\n",
       "      <td>-0.016055</td>\n",
       "      <td>-0.013163</td>\n",
       "      <td>-0.012483</td>\n",
       "    </tr>\n",
       "    <tr>\n",
       "      <th>t1_champ5_sum1</th>\n",
       "      <td>0.002430</td>\n",
       "      <td>-0.001298</td>\n",
       "      <td>-0.005822</td>\n",
       "      <td>-0.001022</td>\n",
       "      <td>-0.004969</td>\n",
       "      <td>-0.011798</td>\n",
       "      <td>-0.001756</td>\n",
       "      <td>-0.002266</td>\n",
       "      <td>0.011204</td>\n",
       "      <td>-0.035367</td>\n",
       "      <td>...</td>\n",
       "      <td>-0.005871</td>\n",
       "      <td>-0.001534</td>\n",
       "      <td>-0.012708</td>\n",
       "      <td>-0.002293</td>\n",
       "      <td>-0.002736</td>\n",
       "      <td>-0.001989</td>\n",
       "      <td>-0.002920</td>\n",
       "      <td>0.000700</td>\n",
       "      <td>0.001539</td>\n",
       "      <td>0.005564</td>\n",
       "    </tr>\n",
       "    <tr>\n",
       "      <th>t1_champ5_sum2</th>\n",
       "      <td>0.000829</td>\n",
       "      <td>-0.001467</td>\n",
       "      <td>-0.007245</td>\n",
       "      <td>-0.008289</td>\n",
       "      <td>0.005611</td>\n",
       "      <td>0.006921</td>\n",
       "      <td>-0.002981</td>\n",
       "      <td>-0.003587</td>\n",
       "      <td>0.020222</td>\n",
       "      <td>-0.026006</td>\n",
       "      <td>...</td>\n",
       "      <td>-0.000866</td>\n",
       "      <td>-0.001022</td>\n",
       "      <td>0.006815</td>\n",
       "      <td>-0.005168</td>\n",
       "      <td>-0.009939</td>\n",
       "      <td>0.000069</td>\n",
       "      <td>0.001492</td>\n",
       "      <td>-0.008429</td>\n",
       "      <td>0.003619</td>\n",
       "      <td>-0.001276</td>\n",
       "    </tr>\n",
       "    <tr>\n",
       "      <th>t1_towerKills</th>\n",
       "      <td>0.369478</td>\n",
       "      <td>-0.771541</td>\n",
       "      <td>-0.128116</td>\n",
       "      <td>-0.316477</td>\n",
       "      <td>-0.276349</td>\n",
       "      <td>-0.003740</td>\n",
       "      <td>-0.190550</td>\n",
       "      <td>-0.083813</td>\n",
       "      <td>-0.019993</td>\n",
       "      <td>-0.005974</td>\n",
       "      <td>...</td>\n",
       "      <td>-0.549123</td>\n",
       "      <td>-0.469600</td>\n",
       "      <td>-0.158556</td>\n",
       "      <td>-0.313789</td>\n",
       "      <td>-0.224888</td>\n",
       "      <td>0.001656</td>\n",
       "      <td>-0.003360</td>\n",
       "      <td>0.001467</td>\n",
       "      <td>-0.000002</td>\n",
       "      <td>0.003796</td>\n",
       "    </tr>\n",
       "    <tr>\n",
       "      <th>t1_inhibitorKills</th>\n",
       "      <td>0.301616</td>\n",
       "      <td>-0.649405</td>\n",
       "      <td>-0.098918</td>\n",
       "      <td>-0.240035</td>\n",
       "      <td>-0.269425</td>\n",
       "      <td>-0.026035</td>\n",
       "      <td>-0.164399</td>\n",
       "      <td>-0.059551</td>\n",
       "      <td>-0.015444</td>\n",
       "      <td>-0.006681</td>\n",
       "      <td>...</td>\n",
       "      <td>-0.467867</td>\n",
       "      <td>-0.408924</td>\n",
       "      <td>-0.153026</td>\n",
       "      <td>-0.279089</td>\n",
       "      <td>-0.164355</td>\n",
       "      <td>-0.003595</td>\n",
       "      <td>-0.004045</td>\n",
       "      <td>-0.003094</td>\n",
       "      <td>-0.001502</td>\n",
       "      <td>0.003415</td>\n",
       "    </tr>\n",
       "    <tr>\n",
       "      <th>t1_baronKills</th>\n",
       "      <td>0.397987</td>\n",
       "      <td>-0.369472</td>\n",
       "      <td>-0.030571</td>\n",
       "      <td>-0.056867</td>\n",
       "      <td>-0.076762</td>\n",
       "      <td>0.134069</td>\n",
       "      <td>-0.045496</td>\n",
       "      <td>0.008027</td>\n",
       "      <td>-0.007589</td>\n",
       "      <td>-0.009589</td>\n",
       "      <td>...</td>\n",
       "      <td>-0.144271</td>\n",
       "      <td>-0.146382</td>\n",
       "      <td>-0.189526</td>\n",
       "      <td>-0.027525</td>\n",
       "      <td>-0.053148</td>\n",
       "      <td>-0.007767</td>\n",
       "      <td>-0.011481</td>\n",
       "      <td>-0.007348</td>\n",
       "      <td>-0.011326</td>\n",
       "      <td>-0.008913</td>\n",
       "    </tr>\n",
       "    <tr>\n",
       "      <th>t1_dragonKills</th>\n",
       "      <td>0.409414</td>\n",
       "      <td>-0.472483</td>\n",
       "      <td>-0.082820</td>\n",
       "      <td>-0.201023</td>\n",
       "      <td>-0.161124</td>\n",
       "      <td>0.082034</td>\n",
       "      <td>-0.386488</td>\n",
       "      <td>-0.058104</td>\n",
       "      <td>-0.002646</td>\n",
       "      <td>-0.002152</td>\n",
       "      <td>...</td>\n",
       "      <td>-0.303139</td>\n",
       "      <td>-0.269714</td>\n",
       "      <td>-0.033048</td>\n",
       "      <td>-0.486093</td>\n",
       "      <td>-0.159509</td>\n",
       "      <td>0.009653</td>\n",
       "      <td>0.001432</td>\n",
       "      <td>0.007162</td>\n",
       "      <td>0.009990</td>\n",
       "      <td>0.005439</td>\n",
       "    </tr>\n",
       "    <tr>\n",
       "      <th>t1_riftHeraldKills</th>\n",
       "      <td>0.006769</td>\n",
       "      <td>-0.218066</td>\n",
       "      <td>-0.081243</td>\n",
       "      <td>-0.188326</td>\n",
       "      <td>-0.100527</td>\n",
       "      <td>-0.009653</td>\n",
       "      <td>-0.102283</td>\n",
       "      <td>0.189081</td>\n",
       "      <td>-0.012327</td>\n",
       "      <td>-0.008284</td>\n",
       "      <td>...</td>\n",
       "      <td>-0.214717</td>\n",
       "      <td>-0.157812</td>\n",
       "      <td>-0.053136</td>\n",
       "      <td>-0.149586</td>\n",
       "      <td>-0.325805</td>\n",
       "      <td>0.000839</td>\n",
       "      <td>0.003098</td>\n",
       "      <td>-0.003385</td>\n",
       "      <td>-0.004171</td>\n",
       "      <td>-0.005713</td>\n",
       "    </tr>\n",
       "    <tr>\n",
       "      <th>t1_ban1</th>\n",
       "      <td>0.003924</td>\n",
       "      <td>0.007557</td>\n",
       "      <td>0.002564</td>\n",
       "      <td>0.005704</td>\n",
       "      <td>0.000305</td>\n",
       "      <td>-0.006967</td>\n",
       "      <td>0.004042</td>\n",
       "      <td>-0.003643</td>\n",
       "      <td>-0.017350</td>\n",
       "      <td>-0.005157</td>\n",
       "      <td>...</td>\n",
       "      <td>0.004382</td>\n",
       "      <td>0.008955</td>\n",
       "      <td>-0.008153</td>\n",
       "      <td>0.003908</td>\n",
       "      <td>-0.004975</td>\n",
       "      <td>0.012006</td>\n",
       "      <td>0.012280</td>\n",
       "      <td>0.010258</td>\n",
       "      <td>0.007530</td>\n",
       "      <td>0.006872</td>\n",
       "    </tr>\n",
       "    <tr>\n",
       "      <th>t1_ban2</th>\n",
       "      <td>0.003825</td>\n",
       "      <td>0.001080</td>\n",
       "      <td>-0.000136</td>\n",
       "      <td>0.000400</td>\n",
       "      <td>-0.002513</td>\n",
       "      <td>-0.010858</td>\n",
       "      <td>-0.003400</td>\n",
       "      <td>-0.004787</td>\n",
       "      <td>-0.016229</td>\n",
       "      <td>-0.005727</td>\n",
       "      <td>...</td>\n",
       "      <td>-0.001519</td>\n",
       "      <td>0.000789</td>\n",
       "      <td>-0.012712</td>\n",
       "      <td>-0.002550</td>\n",
       "      <td>-0.004034</td>\n",
       "      <td>0.010096</td>\n",
       "      <td>0.010492</td>\n",
       "      <td>0.002154</td>\n",
       "      <td>0.007170</td>\n",
       "      <td>0.009696</td>\n",
       "    </tr>\n",
       "    <tr>\n",
       "      <th>t1_ban3</th>\n",
       "      <td>0.011106</td>\n",
       "      <td>0.003610</td>\n",
       "      <td>-0.006733</td>\n",
       "      <td>0.001109</td>\n",
       "      <td>-0.004868</td>\n",
       "      <td>-0.000100</td>\n",
       "      <td>-0.006282</td>\n",
       "      <td>-0.007977</td>\n",
       "      <td>-0.013850</td>\n",
       "      <td>-0.006359</td>\n",
       "      <td>...</td>\n",
       "      <td>0.005425</td>\n",
       "      <td>0.008297</td>\n",
       "      <td>0.003578</td>\n",
       "      <td>0.002939</td>\n",
       "      <td>-0.008023</td>\n",
       "      <td>0.004935</td>\n",
       "      <td>0.005824</td>\n",
       "      <td>0.006451</td>\n",
       "      <td>0.011907</td>\n",
       "      <td>0.007721</td>\n",
       "    </tr>\n",
       "    <tr>\n",
       "      <th>t1_ban4</th>\n",
       "      <td>0.005506</td>\n",
       "      <td>0.003036</td>\n",
       "      <td>-0.007125</td>\n",
       "      <td>0.002428</td>\n",
       "      <td>-0.006991</td>\n",
       "      <td>-0.009745</td>\n",
       "      <td>0.000277</td>\n",
       "      <td>-0.011940</td>\n",
       "      <td>-0.018890</td>\n",
       "      <td>0.005381</td>\n",
       "      <td>...</td>\n",
       "      <td>0.000762</td>\n",
       "      <td>0.001641</td>\n",
       "      <td>-0.010620</td>\n",
       "      <td>0.001664</td>\n",
       "      <td>-0.007431</td>\n",
       "      <td>0.005456</td>\n",
       "      <td>0.011597</td>\n",
       "      <td>0.004350</td>\n",
       "      <td>0.009281</td>\n",
       "      <td>0.007795</td>\n",
       "    </tr>\n",
       "    <tr>\n",
       "      <th>t1_ban5</th>\n",
       "      <td>0.002925</td>\n",
       "      <td>-0.002656</td>\n",
       "      <td>-0.004955</td>\n",
       "      <td>-0.004672</td>\n",
       "      <td>-0.017132</td>\n",
       "      <td>-0.016943</td>\n",
       "      <td>-0.005564</td>\n",
       "      <td>-0.006325</td>\n",
       "      <td>-0.014209</td>\n",
       "      <td>-0.005757</td>\n",
       "      <td>...</td>\n",
       "      <td>-0.004707</td>\n",
       "      <td>-0.004061</td>\n",
       "      <td>-0.006420</td>\n",
       "      <td>-0.003549</td>\n",
       "      <td>-0.005975</td>\n",
       "      <td>0.001303</td>\n",
       "      <td>-0.002247</td>\n",
       "      <td>0.013977</td>\n",
       "      <td>0.010259</td>\n",
       "      <td>0.010004</td>\n",
       "    </tr>\n",
       "    <tr>\n",
       "      <th>t2_champ1id</th>\n",
       "      <td>-0.004493</td>\n",
       "      <td>-0.013352</td>\n",
       "      <td>-0.001816</td>\n",
       "      <td>0.002865</td>\n",
       "      <td>-0.011941</td>\n",
       "      <td>-0.006359</td>\n",
       "      <td>-0.002750</td>\n",
       "      <td>-0.004719</td>\n",
       "      <td>-0.009843</td>\n",
       "      <td>0.005836</td>\n",
       "      <td>...</td>\n",
       "      <td>-0.013770</td>\n",
       "      <td>-0.010956</td>\n",
       "      <td>-0.006622</td>\n",
       "      <td>-0.005597</td>\n",
       "      <td>-0.005355</td>\n",
       "      <td>-0.017779</td>\n",
       "      <td>-0.018789</td>\n",
       "      <td>-0.009598</td>\n",
       "      <td>-0.019622</td>\n",
       "      <td>-0.016983</td>\n",
       "    </tr>\n",
       "    <tr>\n",
       "      <th>t2_champ1_sum1</th>\n",
       "      <td>0.004512</td>\n",
       "      <td>-0.001942</td>\n",
       "      <td>0.000906</td>\n",
       "      <td>0.001449</td>\n",
       "      <td>-0.002440</td>\n",
       "      <td>-0.000078</td>\n",
       "      <td>-0.003402</td>\n",
       "      <td>-0.008598</td>\n",
       "      <td>0.006735</td>\n",
       "      <td>-0.004061</td>\n",
       "      <td>...</td>\n",
       "      <td>-0.000240</td>\n",
       "      <td>0.000323</td>\n",
       "      <td>-0.000745</td>\n",
       "      <td>0.003055</td>\n",
       "      <td>-0.003851</td>\n",
       "      <td>0.002357</td>\n",
       "      <td>0.001240</td>\n",
       "      <td>0.000942</td>\n",
       "      <td>-0.001991</td>\n",
       "      <td>-0.003259</td>\n",
       "    </tr>\n",
       "    <tr>\n",
       "      <th>t2_champ1_sum2</th>\n",
       "      <td>-0.002965</td>\n",
       "      <td>0.002064</td>\n",
       "      <td>0.013520</td>\n",
       "      <td>0.011003</td>\n",
       "      <td>0.004672</td>\n",
       "      <td>0.001870</td>\n",
       "      <td>0.009572</td>\n",
       "      <td>-0.000843</td>\n",
       "      <td>0.002938</td>\n",
       "      <td>-0.001991</td>\n",
       "      <td>...</td>\n",
       "      <td>0.004422</td>\n",
       "      <td>0.002270</td>\n",
       "      <td>-0.001360</td>\n",
       "      <td>0.001986</td>\n",
       "      <td>-0.002574</td>\n",
       "      <td>0.000295</td>\n",
       "      <td>0.005179</td>\n",
       "      <td>0.003481</td>\n",
       "      <td>0.006378</td>\n",
       "      <td>0.009854</td>\n",
       "    </tr>\n",
       "    <tr>\n",
       "      <th>t2_champ2id</th>\n",
       "      <td>-0.012179</td>\n",
       "      <td>-0.017974</td>\n",
       "      <td>-0.004545</td>\n",
       "      <td>-0.003822</td>\n",
       "      <td>-0.019249</td>\n",
       "      <td>-0.008096</td>\n",
       "      <td>-0.009179</td>\n",
       "      <td>-0.006331</td>\n",
       "      <td>-0.005581</td>\n",
       "      <td>0.010934</td>\n",
       "      <td>...</td>\n",
       "      <td>-0.018608</td>\n",
       "      <td>-0.021833</td>\n",
       "      <td>-0.007193</td>\n",
       "      <td>-0.011954</td>\n",
       "      <td>-0.005637</td>\n",
       "      <td>-0.017358</td>\n",
       "      <td>-0.015561</td>\n",
       "      <td>-0.013918</td>\n",
       "      <td>-0.012212</td>\n",
       "      <td>-0.021525</td>\n",
       "    </tr>\n",
       "    <tr>\n",
       "      <th>t2_champ2_sum1</th>\n",
       "      <td>0.005815</td>\n",
       "      <td>0.002476</td>\n",
       "      <td>-0.004196</td>\n",
       "      <td>0.003801</td>\n",
       "      <td>0.003007</td>\n",
       "      <td>0.003154</td>\n",
       "      <td>0.000470</td>\n",
       "      <td>0.000868</td>\n",
       "      <td>0.003196</td>\n",
       "      <td>-0.003138</td>\n",
       "      <td>...</td>\n",
       "      <td>0.003800</td>\n",
       "      <td>0.007366</td>\n",
       "      <td>0.009717</td>\n",
       "      <td>0.008139</td>\n",
       "      <td>0.004219</td>\n",
       "      <td>0.005068</td>\n",
       "      <td>-0.000056</td>\n",
       "      <td>0.003383</td>\n",
       "      <td>-0.006027</td>\n",
       "      <td>0.005068</td>\n",
       "    </tr>\n",
       "    <tr>\n",
       "      <th>t2_champ2_sum2</th>\n",
       "      <td>0.000704</td>\n",
       "      <td>0.004098</td>\n",
       "      <td>0.013753</td>\n",
       "      <td>0.005545</td>\n",
       "      <td>0.007644</td>\n",
       "      <td>-0.000918</td>\n",
       "      <td>0.006382</td>\n",
       "      <td>0.007508</td>\n",
       "      <td>0.011202</td>\n",
       "      <td>-0.007959</td>\n",
       "      <td>...</td>\n",
       "      <td>0.006620</td>\n",
       "      <td>0.006396</td>\n",
       "      <td>0.004879</td>\n",
       "      <td>-0.001848</td>\n",
       "      <td>0.010028</td>\n",
       "      <td>-0.005265</td>\n",
       "      <td>-0.005685</td>\n",
       "      <td>0.001958</td>\n",
       "      <td>0.004551</td>\n",
       "      <td>-0.004162</td>\n",
       "    </tr>\n",
       "    <tr>\n",
       "      <th>t2_champ3id</th>\n",
       "      <td>-0.006773</td>\n",
       "      <td>-0.011203</td>\n",
       "      <td>0.005735</td>\n",
       "      <td>0.004334</td>\n",
       "      <td>-0.008209</td>\n",
       "      <td>0.000575</td>\n",
       "      <td>0.003732</td>\n",
       "      <td>-0.005544</td>\n",
       "      <td>-0.012405</td>\n",
       "      <td>0.001538</td>\n",
       "      <td>...</td>\n",
       "      <td>-0.009762</td>\n",
       "      <td>-0.008710</td>\n",
       "      <td>-0.000568</td>\n",
       "      <td>-0.001780</td>\n",
       "      <td>0.000706</td>\n",
       "      <td>-0.005956</td>\n",
       "      <td>-0.017561</td>\n",
       "      <td>-0.008569</td>\n",
       "      <td>-0.016029</td>\n",
       "      <td>-0.011769</td>\n",
       "    </tr>\n",
       "    <tr>\n",
       "      <th>t2_champ3_sum1</th>\n",
       "      <td>0.000414</td>\n",
       "      <td>0.005309</td>\n",
       "      <td>0.011199</td>\n",
       "      <td>0.005543</td>\n",
       "      <td>0.000964</td>\n",
       "      <td>0.002364</td>\n",
       "      <td>0.003907</td>\n",
       "      <td>0.006534</td>\n",
       "      <td>0.002834</td>\n",
       "      <td>-0.001289</td>\n",
       "      <td>...</td>\n",
       "      <td>0.005854</td>\n",
       "      <td>0.001194</td>\n",
       "      <td>-0.002108</td>\n",
       "      <td>0.002581</td>\n",
       "      <td>0.011003</td>\n",
       "      <td>-0.004459</td>\n",
       "      <td>-0.002886</td>\n",
       "      <td>0.000904</td>\n",
       "      <td>-0.013458</td>\n",
       "      <td>0.000177</td>\n",
       "    </tr>\n",
       "    <tr>\n",
       "      <th>t2_champ3_sum2</th>\n",
       "      <td>0.004542</td>\n",
       "      <td>-0.004510</td>\n",
       "      <td>0.004989</td>\n",
       "      <td>0.001535</td>\n",
       "      <td>-0.001949</td>\n",
       "      <td>0.002266</td>\n",
       "      <td>0.004145</td>\n",
       "      <td>0.001567</td>\n",
       "      <td>0.001171</td>\n",
       "      <td>-0.003516</td>\n",
       "      <td>...</td>\n",
       "      <td>-0.002338</td>\n",
       "      <td>0.003774</td>\n",
       "      <td>0.007075</td>\n",
       "      <td>0.007383</td>\n",
       "      <td>0.002967</td>\n",
       "      <td>-0.008265</td>\n",
       "      <td>0.006042</td>\n",
       "      <td>-0.006231</td>\n",
       "      <td>0.004363</td>\n",
       "      <td>-0.009693</td>\n",
       "    </tr>\n",
       "    <tr>\n",
       "      <th>t2_champ4id</th>\n",
       "      <td>-0.005760</td>\n",
       "      <td>-0.011686</td>\n",
       "      <td>0.003546</td>\n",
       "      <td>0.006547</td>\n",
       "      <td>-0.009869</td>\n",
       "      <td>0.000038</td>\n",
       "      <td>-0.006015</td>\n",
       "      <td>-0.005863</td>\n",
       "      <td>-0.012458</td>\n",
       "      <td>-0.003230</td>\n",
       "      <td>...</td>\n",
       "      <td>-0.010096</td>\n",
       "      <td>-0.008631</td>\n",
       "      <td>-0.000600</td>\n",
       "      <td>-0.008410</td>\n",
       "      <td>-0.001316</td>\n",
       "      <td>-0.020342</td>\n",
       "      <td>-0.008415</td>\n",
       "      <td>-0.007932</td>\n",
       "      <td>-0.015214</td>\n",
       "      <td>-0.009821</td>\n",
       "    </tr>\n",
       "    <tr>\n",
       "      <th>t2_champ4_sum1</th>\n",
       "      <td>0.003889</td>\n",
       "      <td>0.000914</td>\n",
       "      <td>0.010528</td>\n",
       "      <td>0.005241</td>\n",
       "      <td>0.000415</td>\n",
       "      <td>-0.003384</td>\n",
       "      <td>0.005320</td>\n",
       "      <td>0.003279</td>\n",
       "      <td>-0.007628</td>\n",
       "      <td>0.003197</td>\n",
       "      <td>...</td>\n",
       "      <td>0.004299</td>\n",
       "      <td>0.003356</td>\n",
       "      <td>-0.004221</td>\n",
       "      <td>0.007844</td>\n",
       "      <td>0.003173</td>\n",
       "      <td>0.000485</td>\n",
       "      <td>-0.002673</td>\n",
       "      <td>-0.001457</td>\n",
       "      <td>-0.006536</td>\n",
       "      <td>-0.004119</td>\n",
       "    </tr>\n",
       "    <tr>\n",
       "      <th>t2_champ4_sum2</th>\n",
       "      <td>-0.000979</td>\n",
       "      <td>0.002815</td>\n",
       "      <td>0.000932</td>\n",
       "      <td>0.003389</td>\n",
       "      <td>0.001633</td>\n",
       "      <td>0.001839</td>\n",
       "      <td>0.000542</td>\n",
       "      <td>0.002412</td>\n",
       "      <td>-0.008268</td>\n",
       "      <td>0.002465</td>\n",
       "      <td>...</td>\n",
       "      <td>0.003481</td>\n",
       "      <td>0.003200</td>\n",
       "      <td>0.001924</td>\n",
       "      <td>-0.000033</td>\n",
       "      <td>0.003695</td>\n",
       "      <td>-0.006558</td>\n",
       "      <td>0.001375</td>\n",
       "      <td>-0.003245</td>\n",
       "      <td>0.001992</td>\n",
       "      <td>-0.003507</td>\n",
       "    </tr>\n",
       "    <tr>\n",
       "      <th>t2_champ5id</th>\n",
       "      <td>0.000793</td>\n",
       "      <td>-0.012032</td>\n",
       "      <td>-0.004620</td>\n",
       "      <td>0.005671</td>\n",
       "      <td>-0.009452</td>\n",
       "      <td>-0.002238</td>\n",
       "      <td>0.000755</td>\n",
       "      <td>-0.005629</td>\n",
       "      <td>-0.004071</td>\n",
       "      <td>-0.016956</td>\n",
       "      <td>...</td>\n",
       "      <td>-0.011150</td>\n",
       "      <td>-0.014101</td>\n",
       "      <td>-0.000700</td>\n",
       "      <td>-0.002798</td>\n",
       "      <td>-0.005236</td>\n",
       "      <td>-0.019552</td>\n",
       "      <td>-0.012756</td>\n",
       "      <td>-0.014049</td>\n",
       "      <td>-0.014099</td>\n",
       "      <td>-0.021290</td>\n",
       "    </tr>\n",
       "    <tr>\n",
       "      <th>t2_champ5_sum1</th>\n",
       "      <td>0.004945</td>\n",
       "      <td>-0.004502</td>\n",
       "      <td>0.007868</td>\n",
       "      <td>0.010358</td>\n",
       "      <td>-0.004952</td>\n",
       "      <td>-0.010269</td>\n",
       "      <td>-0.004020</td>\n",
       "      <td>-0.005873</td>\n",
       "      <td>-0.006886</td>\n",
       "      <td>0.008163</td>\n",
       "      <td>...</td>\n",
       "      <td>0.000162</td>\n",
       "      <td>-0.000969</td>\n",
       "      <td>-0.013330</td>\n",
       "      <td>-0.003247</td>\n",
       "      <td>-0.004187</td>\n",
       "      <td>0.002151</td>\n",
       "      <td>-0.007480</td>\n",
       "      <td>-0.002331</td>\n",
       "      <td>0.005051</td>\n",
       "      <td>-0.000620</td>\n",
       "    </tr>\n",
       "    <tr>\n",
       "      <th>t2_champ5_sum2</th>\n",
       "      <td>-0.013496</td>\n",
       "      <td>0.005113</td>\n",
       "      <td>0.000027</td>\n",
       "      <td>0.000039</td>\n",
       "      <td>-0.000938</td>\n",
       "      <td>-0.001032</td>\n",
       "      <td>0.000997</td>\n",
       "      <td>0.003079</td>\n",
       "      <td>-0.014486</td>\n",
       "      <td>0.011387</td>\n",
       "      <td>...</td>\n",
       "      <td>0.001644</td>\n",
       "      <td>-0.000811</td>\n",
       "      <td>0.002400</td>\n",
       "      <td>0.001232</td>\n",
       "      <td>0.004492</td>\n",
       "      <td>0.000511</td>\n",
       "      <td>-0.001249</td>\n",
       "      <td>0.008602</td>\n",
       "      <td>0.000382</td>\n",
       "      <td>-0.001728</td>\n",
       "    </tr>\n",
       "    <tr>\n",
       "      <th>t2_towerKills</th>\n",
       "      <td>0.396769</td>\n",
       "      <td>0.785813</td>\n",
       "      <td>0.223657</td>\n",
       "      <td>0.511296</td>\n",
       "      <td>0.755335</td>\n",
       "      <td>0.460115</td>\n",
       "      <td>0.427092</td>\n",
       "      <td>0.188240</td>\n",
       "      <td>0.014693</td>\n",
       "      <td>-0.001398</td>\n",
       "      <td>...</td>\n",
       "      <td>1.000000</td>\n",
       "      <td>0.825834</td>\n",
       "      <td>0.522166</td>\n",
       "      <td>0.648020</td>\n",
       "      <td>0.290283</td>\n",
       "      <td>-0.003555</td>\n",
       "      <td>-0.005946</td>\n",
       "      <td>0.000329</td>\n",
       "      <td>-0.001870</td>\n",
       "      <td>-0.000788</td>\n",
       "    </tr>\n",
       "    <tr>\n",
       "      <th>t2_inhibitorKills</th>\n",
       "      <td>0.319451</td>\n",
       "      <td>0.660452</td>\n",
       "      <td>0.151111</td>\n",
       "      <td>0.347641</td>\n",
       "      <td>0.699832</td>\n",
       "      <td>0.385864</td>\n",
       "      <td>0.299977</td>\n",
       "      <td>0.141677</td>\n",
       "      <td>0.006122</td>\n",
       "      <td>-0.001612</td>\n",
       "      <td>...</td>\n",
       "      <td>0.825834</td>\n",
       "      <td>1.000000</td>\n",
       "      <td>0.499613</td>\n",
       "      <td>0.548134</td>\n",
       "      <td>0.216553</td>\n",
       "      <td>-0.001794</td>\n",
       "      <td>-0.003955</td>\n",
       "      <td>0.003024</td>\n",
       "      <td>-0.006311</td>\n",
       "      <td>0.005532</td>\n",
       "    </tr>\n",
       "    <tr>\n",
       "      <th>t2_baronKills</th>\n",
       "      <td>0.429793</td>\n",
       "      <td>0.399249</td>\n",
       "      <td>0.076395</td>\n",
       "      <td>0.161308</td>\n",
       "      <td>0.400133</td>\n",
       "      <td>0.793114</td>\n",
       "      <td>0.195352</td>\n",
       "      <td>0.101231</td>\n",
       "      <td>0.009844</td>\n",
       "      <td>-0.007154</td>\n",
       "      <td>...</td>\n",
       "      <td>0.522166</td>\n",
       "      <td>0.499613</td>\n",
       "      <td>1.000000</td>\n",
       "      <td>0.444655</td>\n",
       "      <td>0.124451</td>\n",
       "      <td>-0.001642</td>\n",
       "      <td>-0.007644</td>\n",
       "      <td>-0.002151</td>\n",
       "      <td>-0.001956</td>\n",
       "      <td>-0.004612</td>\n",
       "    </tr>\n",
       "    <tr>\n",
       "      <th>t2_dragonKills</th>\n",
       "      <td>0.416995</td>\n",
       "      <td>0.497206</td>\n",
       "      <td>0.161045</td>\n",
       "      <td>0.364361</td>\n",
       "      <td>0.487373</td>\n",
       "      <td>0.393952</td>\n",
       "      <td>0.629794</td>\n",
       "      <td>0.150173</td>\n",
       "      <td>-0.001838</td>\n",
       "      <td>-0.002552</td>\n",
       "      <td>...</td>\n",
       "      <td>0.648020</td>\n",
       "      <td>0.548134</td>\n",
       "      <td>0.444655</td>\n",
       "      <td>1.000000</td>\n",
       "      <td>0.220556</td>\n",
       "      <td>-0.003744</td>\n",
       "      <td>-0.007808</td>\n",
       "      <td>0.000146</td>\n",
       "      <td>-0.000680</td>\n",
       "      <td>-0.003762</td>\n",
       "    </tr>\n",
       "    <tr>\n",
       "      <th>t2_riftHeraldKills</th>\n",
       "      <td>0.007818</td>\n",
       "      <td>0.226102</td>\n",
       "      <td>0.122195</td>\n",
       "      <td>0.274713</td>\n",
       "      <td>0.211380</td>\n",
       "      <td>0.121126</td>\n",
       "      <td>0.205444</td>\n",
       "      <td>0.866779</td>\n",
       "      <td>0.003255</td>\n",
       "      <td>-0.005341</td>\n",
       "      <td>...</td>\n",
       "      <td>0.290283</td>\n",
       "      <td>0.216553</td>\n",
       "      <td>0.124451</td>\n",
       "      <td>0.220556</td>\n",
       "      <td>1.000000</td>\n",
       "      <td>0.000775</td>\n",
       "      <td>-0.011229</td>\n",
       "      <td>-0.006550</td>\n",
       "      <td>-0.007342</td>\n",
       "      <td>-0.001166</td>\n",
       "    </tr>\n",
       "    <tr>\n",
       "      <th>t2_ban1</th>\n",
       "      <td>0.004853</td>\n",
       "      <td>-0.003714</td>\n",
       "      <td>0.005265</td>\n",
       "      <td>-0.003668</td>\n",
       "      <td>-0.004185</td>\n",
       "      <td>-0.008986</td>\n",
       "      <td>-0.000779</td>\n",
       "      <td>0.001247</td>\n",
       "      <td>-0.012999</td>\n",
       "      <td>0.003986</td>\n",
       "      <td>...</td>\n",
       "      <td>-0.003555</td>\n",
       "      <td>-0.001794</td>\n",
       "      <td>-0.001642</td>\n",
       "      <td>-0.003744</td>\n",
       "      <td>0.000775</td>\n",
       "      <td>1.000000</td>\n",
       "      <td>-0.010048</td>\n",
       "      <td>-0.007541</td>\n",
       "      <td>-0.005309</td>\n",
       "      <td>-0.005866</td>\n",
       "    </tr>\n",
       "    <tr>\n",
       "      <th>t2_ban2</th>\n",
       "      <td>-0.001518</td>\n",
       "      <td>0.000322</td>\n",
       "      <td>-0.003818</td>\n",
       "      <td>-0.005956</td>\n",
       "      <td>-0.011025</td>\n",
       "      <td>-0.012893</td>\n",
       "      <td>-0.007619</td>\n",
       "      <td>-0.010029</td>\n",
       "      <td>-0.018180</td>\n",
       "      <td>0.006030</td>\n",
       "      <td>...</td>\n",
       "      <td>-0.005946</td>\n",
       "      <td>-0.003955</td>\n",
       "      <td>-0.007644</td>\n",
       "      <td>-0.007808</td>\n",
       "      <td>-0.011229</td>\n",
       "      <td>-0.010048</td>\n",
       "      <td>1.000000</td>\n",
       "      <td>-0.012252</td>\n",
       "      <td>-0.018309</td>\n",
       "      <td>-0.004804</td>\n",
       "    </tr>\n",
       "    <tr>\n",
       "      <th>t2_ban3</th>\n",
       "      <td>0.009548</td>\n",
       "      <td>0.000046</td>\n",
       "      <td>0.004698</td>\n",
       "      <td>0.002348</td>\n",
       "      <td>-0.007650</td>\n",
       "      <td>-0.008572</td>\n",
       "      <td>-0.004045</td>\n",
       "      <td>-0.008588</td>\n",
       "      <td>-0.006068</td>\n",
       "      <td>0.004057</td>\n",
       "      <td>...</td>\n",
       "      <td>0.000329</td>\n",
       "      <td>0.003024</td>\n",
       "      <td>-0.002151</td>\n",
       "      <td>0.000146</td>\n",
       "      <td>-0.006550</td>\n",
       "      <td>-0.007541</td>\n",
       "      <td>-0.012252</td>\n",
       "      <td>1.000000</td>\n",
       "      <td>-0.018183</td>\n",
       "      <td>-0.005805</td>\n",
       "    </tr>\n",
       "    <tr>\n",
       "      <th>t2_ban4</th>\n",
       "      <td>0.009976</td>\n",
       "      <td>-0.003010</td>\n",
       "      <td>0.001483</td>\n",
       "      <td>0.000878</td>\n",
       "      <td>-0.008131</td>\n",
       "      <td>-0.005207</td>\n",
       "      <td>0.002753</td>\n",
       "      <td>-0.009826</td>\n",
       "      <td>-0.015866</td>\n",
       "      <td>-0.005801</td>\n",
       "      <td>...</td>\n",
       "      <td>-0.001870</td>\n",
       "      <td>-0.006311</td>\n",
       "      <td>-0.001956</td>\n",
       "      <td>-0.000680</td>\n",
       "      <td>-0.007342</td>\n",
       "      <td>-0.005309</td>\n",
       "      <td>-0.018309</td>\n",
       "      <td>-0.018183</td>\n",
       "      <td>1.000000</td>\n",
       "      <td>-0.016506</td>\n",
       "    </tr>\n",
       "    <tr>\n",
       "      <th>t2_ban5</th>\n",
       "      <td>0.008206</td>\n",
       "      <td>-0.002691</td>\n",
       "      <td>0.005577</td>\n",
       "      <td>-0.001758</td>\n",
       "      <td>-0.002049</td>\n",
       "      <td>-0.007266</td>\n",
       "      <td>0.000162</td>\n",
       "      <td>-0.004224</td>\n",
       "      <td>-0.006765</td>\n",
       "      <td>0.002071</td>\n",
       "      <td>...</td>\n",
       "      <td>-0.000788</td>\n",
       "      <td>0.005532</td>\n",
       "      <td>-0.004612</td>\n",
       "      <td>-0.003762</td>\n",
       "      <td>-0.001166</td>\n",
       "      <td>-0.005866</td>\n",
       "      <td>-0.004804</td>\n",
       "      <td>-0.005805</td>\n",
       "      <td>-0.016506</td>\n",
       "      <td>1.000000</td>\n",
       "    </tr>\n",
       "  </tbody>\n",
       "</table>\n",
       "<p>58 rows × 58 columns</p>\n",
       "</div>"
      ],
      "text/plain": [
       "                    gameDuration    winner  firstBlood  firstTower  \\\n",
       "gameDuration            1.000000  0.024187    0.105022    0.216842   \n",
       "winner                  0.024187  1.000000    0.174770    0.375697   \n",
       "firstBlood              0.105022  0.174770    1.000000    0.263866   \n",
       "firstTower              0.216842  0.375697    0.263866    1.000000   \n",
       "firstInhibitor          0.379996  0.536437    0.169761    0.380326   \n",
       "firstBaron              0.487788  0.261888    0.077293    0.165028   \n",
       "firstDragon             0.255563  0.310386    0.189092    0.403552   \n",
       "firstRiftHerald         0.011690  0.119813    0.084062    0.185989   \n",
       "t1_champ1id             0.000607  0.019132    0.004885    0.005394   \n",
       "t1_champ1_sum1         -0.002973  0.000519    0.000699   -0.008436   \n",
       "t1_champ1_sum2          0.004480 -0.001474   -0.008520   -0.002564   \n",
       "t1_champ2id            -0.007822  0.016178    0.002287   -0.006122   \n",
       "t1_champ2_sum1         -0.000030  0.002682   -0.005442   -0.008004   \n",
       "t1_champ2_sum2          0.002113 -0.004894    0.000547   -0.003635   \n",
       "t1_champ3id            -0.005342  0.020014    0.004356   -0.002660   \n",
       "t1_champ3_sum1          0.007458 -0.000666   -0.000287    0.003080   \n",
       "t1_champ3_sum2          0.002012 -0.003377   -0.010881   -0.015173   \n",
       "t1_champ4id            -0.011403  0.017236   -0.000839    0.001760   \n",
       "t1_champ4_sum1          0.001438 -0.000018   -0.009317   -0.006103   \n",
       "t1_champ4_sum2          0.006646 -0.000096   -0.000508    0.001559   \n",
       "t1_champ5id            -0.011919  0.026408    0.006672    0.002205   \n",
       "t1_champ5_sum1          0.002430 -0.001298   -0.005822   -0.001022   \n",
       "t1_champ5_sum2          0.000829 -0.001467   -0.007245   -0.008289   \n",
       "t1_towerKills           0.369478 -0.771541   -0.128116   -0.316477   \n",
       "t1_inhibitorKills       0.301616 -0.649405   -0.098918   -0.240035   \n",
       "t1_baronKills           0.397987 -0.369472   -0.030571   -0.056867   \n",
       "t1_dragonKills          0.409414 -0.472483   -0.082820   -0.201023   \n",
       "t1_riftHeraldKills      0.006769 -0.218066   -0.081243   -0.188326   \n",
       "t1_ban1                 0.003924  0.007557    0.002564    0.005704   \n",
       "t1_ban2                 0.003825  0.001080   -0.000136    0.000400   \n",
       "t1_ban3                 0.011106  0.003610   -0.006733    0.001109   \n",
       "t1_ban4                 0.005506  0.003036   -0.007125    0.002428   \n",
       "t1_ban5                 0.002925 -0.002656   -0.004955   -0.004672   \n",
       "t2_champ1id            -0.004493 -0.013352   -0.001816    0.002865   \n",
       "t2_champ1_sum1          0.004512 -0.001942    0.000906    0.001449   \n",
       "t2_champ1_sum2         -0.002965  0.002064    0.013520    0.011003   \n",
       "t2_champ2id            -0.012179 -0.017974   -0.004545   -0.003822   \n",
       "t2_champ2_sum1          0.005815  0.002476   -0.004196    0.003801   \n",
       "t2_champ2_sum2          0.000704  0.004098    0.013753    0.005545   \n",
       "t2_champ3id            -0.006773 -0.011203    0.005735    0.004334   \n",
       "t2_champ3_sum1          0.000414  0.005309    0.011199    0.005543   \n",
       "t2_champ3_sum2          0.004542 -0.004510    0.004989    0.001535   \n",
       "t2_champ4id            -0.005760 -0.011686    0.003546    0.006547   \n",
       "t2_champ4_sum1          0.003889  0.000914    0.010528    0.005241   \n",
       "t2_champ4_sum2         -0.000979  0.002815    0.000932    0.003389   \n",
       "t2_champ5id             0.000793 -0.012032   -0.004620    0.005671   \n",
       "t2_champ5_sum1          0.004945 -0.004502    0.007868    0.010358   \n",
       "t2_champ5_sum2         -0.013496  0.005113    0.000027    0.000039   \n",
       "t2_towerKills           0.396769  0.785813    0.223657    0.511296   \n",
       "t2_inhibitorKills       0.319451  0.660452    0.151111    0.347641   \n",
       "t2_baronKills           0.429793  0.399249    0.076395    0.161308   \n",
       "t2_dragonKills          0.416995  0.497206    0.161045    0.364361   \n",
       "t2_riftHeraldKills      0.007818  0.226102    0.122195    0.274713   \n",
       "t2_ban1                 0.004853 -0.003714    0.005265   -0.003668   \n",
       "t2_ban2                -0.001518  0.000322   -0.003818   -0.005956   \n",
       "t2_ban3                 0.009548  0.000046    0.004698    0.002348   \n",
       "t2_ban4                 0.009976 -0.003010    0.001483    0.000878   \n",
       "t2_ban5                 0.008206 -0.002691    0.005577   -0.001758   \n",
       "\n",
       "                    firstInhibitor  firstBaron  firstDragon  firstRiftHerald  \\\n",
       "gameDuration              0.379996    0.487788     0.255563         0.011690   \n",
       "winner                    0.536437    0.261888     0.310386         0.119813   \n",
       "firstBlood                0.169761    0.077293     0.189092         0.084062   \n",
       "firstTower                0.380326    0.165028     0.403552         0.185989   \n",
       "firstInhibitor            1.000000    0.417848     0.352760         0.166521   \n",
       "firstBaron                0.417848    1.000000     0.201065         0.120714   \n",
       "firstDragon               0.352760    0.201065     1.000000         0.159429   \n",
       "firstRiftHerald           0.166521    0.120714     0.159429         1.000000   \n",
       "t1_champ1id               0.004425    0.009642    -0.003235        -0.003121   \n",
       "t1_champ1_sum1           -0.011808   -0.009815    -0.005986        -0.009917   \n",
       "t1_champ1_sum2            0.003012    0.007948     0.000646        -0.001584   \n",
       "t1_champ2id               0.007299   -0.003110     0.003292        -0.001615   \n",
       "t1_champ2_sum1           -0.003797   -0.001120    -0.003870        -0.000306   \n",
       "t1_champ2_sum2           -0.000254    0.002191    -0.004644        -0.005744   \n",
       "t1_champ3id               0.003116   -0.001389    -0.001493        -0.005101   \n",
       "t1_champ3_sum1           -0.000931   -0.007565    -0.005184        -0.009078   \n",
       "t1_champ3_sum2           -0.002169    0.003378    -0.004056         0.001617   \n",
       "t1_champ4id               0.001468   -0.003316     0.000158        -0.000277   \n",
       "t1_champ4_sum1            0.002806   -0.006563    -0.012336         0.001027   \n",
       "t1_champ4_sum2           -0.001945    0.002224     0.000989         0.002078   \n",
       "t1_champ5id               0.006194    0.000463    -0.002769        -0.008879   \n",
       "t1_champ5_sum1           -0.004969   -0.011798    -0.001756        -0.002266   \n",
       "t1_champ5_sum2            0.005611    0.006921    -0.002981        -0.003587   \n",
       "t1_towerKills            -0.276349   -0.003740    -0.190550        -0.083813   \n",
       "t1_inhibitorKills        -0.269425   -0.026035    -0.164399        -0.059551   \n",
       "t1_baronKills            -0.076762    0.134069    -0.045496         0.008027   \n",
       "t1_dragonKills           -0.161124    0.082034    -0.386488        -0.058104   \n",
       "t1_riftHeraldKills       -0.100527   -0.009653    -0.102283         0.189081   \n",
       "t1_ban1                   0.000305   -0.006967     0.004042        -0.003643   \n",
       "t1_ban2                  -0.002513   -0.010858    -0.003400        -0.004787   \n",
       "t1_ban3                  -0.004868   -0.000100    -0.006282        -0.007977   \n",
       "t1_ban4                  -0.006991   -0.009745     0.000277        -0.011940   \n",
       "t1_ban5                  -0.017132   -0.016943    -0.005564        -0.006325   \n",
       "t2_champ1id              -0.011941   -0.006359    -0.002750        -0.004719   \n",
       "t2_champ1_sum1           -0.002440   -0.000078    -0.003402        -0.008598   \n",
       "t2_champ1_sum2            0.004672    0.001870     0.009572        -0.000843   \n",
       "t2_champ2id              -0.019249   -0.008096    -0.009179        -0.006331   \n",
       "t2_champ2_sum1            0.003007    0.003154     0.000470         0.000868   \n",
       "t2_champ2_sum2            0.007644   -0.000918     0.006382         0.007508   \n",
       "t2_champ3id              -0.008209    0.000575     0.003732        -0.005544   \n",
       "t2_champ3_sum1            0.000964    0.002364     0.003907         0.006534   \n",
       "t2_champ3_sum2           -0.001949    0.002266     0.004145         0.001567   \n",
       "t2_champ4id              -0.009869    0.000038    -0.006015        -0.005863   \n",
       "t2_champ4_sum1            0.000415   -0.003384     0.005320         0.003279   \n",
       "t2_champ4_sum2            0.001633    0.001839     0.000542         0.002412   \n",
       "t2_champ5id              -0.009452   -0.002238     0.000755        -0.005629   \n",
       "t2_champ5_sum1           -0.004952   -0.010269    -0.004020        -0.005873   \n",
       "t2_champ5_sum2           -0.000938   -0.001032     0.000997         0.003079   \n",
       "t2_towerKills             0.755335    0.460115     0.427092         0.188240   \n",
       "t2_inhibitorKills         0.699832    0.385864     0.299977         0.141677   \n",
       "t2_baronKills             0.400133    0.793114     0.195352         0.101231   \n",
       "t2_dragonKills            0.487373    0.393952     0.629794         0.150173   \n",
       "t2_riftHeraldKills        0.211380    0.121126     0.205444         0.866779   \n",
       "t2_ban1                  -0.004185   -0.008986    -0.000779         0.001247   \n",
       "t2_ban2                  -0.011025   -0.012893    -0.007619        -0.010029   \n",
       "t2_ban3                  -0.007650   -0.008572    -0.004045        -0.008588   \n",
       "t2_ban4                  -0.008131   -0.005207     0.002753        -0.009826   \n",
       "t2_ban5                  -0.002049   -0.007266     0.000162        -0.004224   \n",
       "\n",
       "                    t1_champ1id  t1_champ1_sum1  ...  t2_towerKills  \\\n",
       "gameDuration           0.000607       -0.002973  ...       0.396769   \n",
       "winner                 0.019132        0.000519  ...       0.785813   \n",
       "firstBlood             0.004885        0.000699  ...       0.223657   \n",
       "firstTower             0.005394       -0.008436  ...       0.511296   \n",
       "firstInhibitor         0.004425       -0.011808  ...       0.755335   \n",
       "firstBaron             0.009642       -0.009815  ...       0.460115   \n",
       "firstDragon           -0.003235       -0.005986  ...       0.427092   \n",
       "firstRiftHerald       -0.003121       -0.009917  ...       0.188240   \n",
       "t1_champ1id            1.000000       -0.052492  ...       0.014693   \n",
       "t1_champ1_sum1        -0.052492        1.000000  ...      -0.001398   \n",
       "t1_champ1_sum2        -0.048490       -0.463698  ...      -0.002311   \n",
       "t1_champ2id            0.037926       -0.003220  ...       0.011722   \n",
       "t1_champ2_sum1         0.007149        0.002641  ...      -0.002927   \n",
       "t1_champ2_sum2         0.003161       -0.027560  ...      -0.003395   \n",
       "t1_champ3id           -0.008577        0.021073  ...       0.010549   \n",
       "t1_champ3_sum1         0.024380       -0.022101  ...      -0.002853   \n",
       "t1_champ3_sum2         0.023969       -0.035018  ...      -0.004165   \n",
       "t1_champ4id           -0.006324        0.018316  ...       0.007640   \n",
       "t1_champ4_sum1         0.026042       -0.033529  ...       0.001044   \n",
       "t1_champ4_sum2         0.016938       -0.039235  ...       0.001052   \n",
       "t1_champ5id            0.000385        0.020447  ...       0.011412   \n",
       "t1_champ5_sum1         0.011204       -0.035367  ...      -0.005871   \n",
       "t1_champ5_sum2         0.020222       -0.026006  ...      -0.000866   \n",
       "t1_towerKills         -0.019993       -0.005974  ...      -0.549123   \n",
       "t1_inhibitorKills     -0.015444       -0.006681  ...      -0.467867   \n",
       "t1_baronKills         -0.007589       -0.009589  ...      -0.144271   \n",
       "t1_dragonKills        -0.002646       -0.002152  ...      -0.303139   \n",
       "t1_riftHeraldKills    -0.012327       -0.008284  ...      -0.214717   \n",
       "t1_ban1               -0.017350       -0.005157  ...       0.004382   \n",
       "t1_ban2               -0.016229       -0.005727  ...      -0.001519   \n",
       "t1_ban3               -0.013850       -0.006359  ...       0.005425   \n",
       "t1_ban4               -0.018890        0.005381  ...       0.000762   \n",
       "t1_ban5               -0.014209       -0.005757  ...      -0.004707   \n",
       "t2_champ1id           -0.009843        0.005836  ...      -0.013770   \n",
       "t2_champ1_sum1         0.006735       -0.004061  ...      -0.000240   \n",
       "t2_champ1_sum2         0.002938       -0.001991  ...       0.004422   \n",
       "t2_champ2id           -0.005581        0.010934  ...      -0.018608   \n",
       "t2_champ2_sum1         0.003196       -0.003138  ...       0.003800   \n",
       "t2_champ2_sum2         0.011202       -0.007959  ...       0.006620   \n",
       "t2_champ3id           -0.012405        0.001538  ...      -0.009762   \n",
       "t2_champ3_sum1         0.002834       -0.001289  ...       0.005854   \n",
       "t2_champ3_sum2         0.001171       -0.003516  ...      -0.002338   \n",
       "t2_champ4id           -0.012458       -0.003230  ...      -0.010096   \n",
       "t2_champ4_sum1        -0.007628        0.003197  ...       0.004299   \n",
       "t2_champ4_sum2        -0.008268        0.002465  ...       0.003481   \n",
       "t2_champ5id           -0.004071       -0.016956  ...      -0.011150   \n",
       "t2_champ5_sum1        -0.006886        0.008163  ...       0.000162   \n",
       "t2_champ5_sum2        -0.014486        0.011387  ...       0.001644   \n",
       "t2_towerKills          0.014693       -0.001398  ...       1.000000   \n",
       "t2_inhibitorKills      0.006122       -0.001612  ...       0.825834   \n",
       "t2_baronKills          0.009844       -0.007154  ...       0.522166   \n",
       "t2_dragonKills        -0.001838       -0.002552  ...       0.648020   \n",
       "t2_riftHeraldKills     0.003255       -0.005341  ...       0.290283   \n",
       "t2_ban1               -0.012999        0.003986  ...      -0.003555   \n",
       "t2_ban2               -0.018180        0.006030  ...      -0.005946   \n",
       "t2_ban3               -0.006068        0.004057  ...       0.000329   \n",
       "t2_ban4               -0.015866       -0.005801  ...      -0.001870   \n",
       "t2_ban5               -0.006765        0.002071  ...      -0.000788   \n",
       "\n",
       "                    t2_inhibitorKills  t2_baronKills  t2_dragonKills  \\\n",
       "gameDuration                 0.319451       0.429793        0.416995   \n",
       "winner                       0.660452       0.399249        0.497206   \n",
       "firstBlood                   0.151111       0.076395        0.161045   \n",
       "firstTower                   0.347641       0.161308        0.364361   \n",
       "firstInhibitor               0.699832       0.400133        0.487373   \n",
       "firstBaron                   0.385864       0.793114        0.393952   \n",
       "firstDragon                  0.299977       0.195352        0.629794   \n",
       "firstRiftHerald              0.141677       0.101231        0.150173   \n",
       "t1_champ1id                  0.006122       0.009844       -0.001838   \n",
       "t1_champ1_sum1              -0.001612      -0.007154       -0.002552   \n",
       "t1_champ1_sum2               0.000706       0.009275        0.000185   \n",
       "t1_champ2id                  0.008123      -0.005506       -0.000792   \n",
       "t1_champ2_sum1               0.002752       0.001378       -0.005306   \n",
       "t1_champ2_sum2              -0.002671       0.001147       -0.004555   \n",
       "t1_champ3id                  0.002374      -0.002637       -0.004048   \n",
       "t1_champ3_sum1              -0.005299      -0.003438        0.000169   \n",
       "t1_champ3_sum2              -0.001916       0.002119       -0.007000   \n",
       "t1_champ4id                  0.005395       0.004906       -0.004792   \n",
       "t1_champ4_sum1              -0.003031      -0.009071       -0.009490   \n",
       "t1_champ4_sum2               0.000918       0.008703        0.008395   \n",
       "t1_champ5id                  0.005729       0.004589        0.001597   \n",
       "t1_champ5_sum1              -0.001534      -0.012708       -0.002293   \n",
       "t1_champ5_sum2              -0.001022       0.006815       -0.005168   \n",
       "t1_towerKills               -0.469600      -0.158556       -0.313789   \n",
       "t1_inhibitorKills           -0.408924      -0.153026       -0.279089   \n",
       "t1_baronKills               -0.146382      -0.189526       -0.027525   \n",
       "t1_dragonKills              -0.269714      -0.033048       -0.486093   \n",
       "t1_riftHeraldKills          -0.157812      -0.053136       -0.149586   \n",
       "t1_ban1                      0.008955      -0.008153        0.003908   \n",
       "t1_ban2                      0.000789      -0.012712       -0.002550   \n",
       "t1_ban3                      0.008297       0.003578        0.002939   \n",
       "t1_ban4                      0.001641      -0.010620        0.001664   \n",
       "t1_ban5                     -0.004061      -0.006420       -0.003549   \n",
       "t2_champ1id                 -0.010956      -0.006622       -0.005597   \n",
       "t2_champ1_sum1               0.000323      -0.000745        0.003055   \n",
       "t2_champ1_sum2               0.002270      -0.001360        0.001986   \n",
       "t2_champ2id                 -0.021833      -0.007193       -0.011954   \n",
       "t2_champ2_sum1               0.007366       0.009717        0.008139   \n",
       "t2_champ2_sum2               0.006396       0.004879       -0.001848   \n",
       "t2_champ3id                 -0.008710      -0.000568       -0.001780   \n",
       "t2_champ3_sum1               0.001194      -0.002108        0.002581   \n",
       "t2_champ3_sum2               0.003774       0.007075        0.007383   \n",
       "t2_champ4id                 -0.008631      -0.000600       -0.008410   \n",
       "t2_champ4_sum1               0.003356      -0.004221        0.007844   \n",
       "t2_champ4_sum2               0.003200       0.001924       -0.000033   \n",
       "t2_champ5id                 -0.014101      -0.000700       -0.002798   \n",
       "t2_champ5_sum1              -0.000969      -0.013330       -0.003247   \n",
       "t2_champ5_sum2              -0.000811       0.002400        0.001232   \n",
       "t2_towerKills                0.825834       0.522166        0.648020   \n",
       "t2_inhibitorKills            1.000000       0.499613        0.548134   \n",
       "t2_baronKills                0.499613       1.000000        0.444655   \n",
       "t2_dragonKills               0.548134       0.444655        1.000000   \n",
       "t2_riftHeraldKills           0.216553       0.124451        0.220556   \n",
       "t2_ban1                     -0.001794      -0.001642       -0.003744   \n",
       "t2_ban2                     -0.003955      -0.007644       -0.007808   \n",
       "t2_ban3                      0.003024      -0.002151        0.000146   \n",
       "t2_ban4                     -0.006311      -0.001956       -0.000680   \n",
       "t2_ban5                      0.005532      -0.004612       -0.003762   \n",
       "\n",
       "                    t2_riftHeraldKills   t2_ban1   t2_ban2   t2_ban3  \\\n",
       "gameDuration                  0.007818  0.004853 -0.001518  0.009548   \n",
       "winner                        0.226102 -0.003714  0.000322  0.000046   \n",
       "firstBlood                    0.122195  0.005265 -0.003818  0.004698   \n",
       "firstTower                    0.274713 -0.003668 -0.005956  0.002348   \n",
       "firstInhibitor                0.211380 -0.004185 -0.011025 -0.007650   \n",
       "firstBaron                    0.121126 -0.008986 -0.012893 -0.008572   \n",
       "firstDragon                   0.205444 -0.000779 -0.007619 -0.004045   \n",
       "firstRiftHerald               0.866779  0.001247 -0.010029 -0.008588   \n",
       "t1_champ1id                   0.003255 -0.012999 -0.018180 -0.006068   \n",
       "t1_champ1_sum1               -0.005341  0.003986  0.006030  0.004057   \n",
       "t1_champ1_sum2               -0.002743 -0.002088 -0.004053 -0.000148   \n",
       "t1_champ2id                   0.003371 -0.003526 -0.007486 -0.012162   \n",
       "t1_champ2_sum1               -0.000176  0.004066  0.001148 -0.008048   \n",
       "t1_champ2_sum2               -0.007336 -0.008518  0.000627  0.006270   \n",
       "t1_champ3id                   0.001246 -0.009734 -0.013375 -0.008714   \n",
       "t1_champ3_sum1               -0.006250  0.007341  0.000654  0.004611   \n",
       "t1_champ3_sum2               -0.003697 -0.007448  0.002476 -0.001511   \n",
       "t1_champ4id                   0.001986 -0.014604 -0.010966 -0.007694   \n",
       "t1_champ4_sum1                0.000473  0.003534 -0.000758  0.003548   \n",
       "t1_champ4_sum2                0.000753 -0.002545  0.003154 -0.003049   \n",
       "t1_champ5id                  -0.004447 -0.009093 -0.018941 -0.016055   \n",
       "t1_champ5_sum1               -0.002736 -0.001989 -0.002920  0.000700   \n",
       "t1_champ5_sum2               -0.009939  0.000069  0.001492 -0.008429   \n",
       "t1_towerKills                -0.224888  0.001656 -0.003360  0.001467   \n",
       "t1_inhibitorKills            -0.164355 -0.003595 -0.004045 -0.003094   \n",
       "t1_baronKills                -0.053148 -0.007767 -0.011481 -0.007348   \n",
       "t1_dragonKills               -0.159509  0.009653  0.001432  0.007162   \n",
       "t1_riftHeraldKills           -0.325805  0.000839  0.003098 -0.003385   \n",
       "t1_ban1                      -0.004975  0.012006  0.012280  0.010258   \n",
       "t1_ban2                      -0.004034  0.010096  0.010492  0.002154   \n",
       "t1_ban3                      -0.008023  0.004935  0.005824  0.006451   \n",
       "t1_ban4                      -0.007431  0.005456  0.011597  0.004350   \n",
       "t1_ban5                      -0.005975  0.001303 -0.002247  0.013977   \n",
       "t2_champ1id                  -0.005355 -0.017779 -0.018789 -0.009598   \n",
       "t2_champ1_sum1               -0.003851  0.002357  0.001240  0.000942   \n",
       "t2_champ1_sum2               -0.002574  0.000295  0.005179  0.003481   \n",
       "t2_champ2id                  -0.005637 -0.017358 -0.015561 -0.013918   \n",
       "t2_champ2_sum1                0.004219  0.005068 -0.000056  0.003383   \n",
       "t2_champ2_sum2                0.010028 -0.005265 -0.005685  0.001958   \n",
       "t2_champ3id                   0.000706 -0.005956 -0.017561 -0.008569   \n",
       "t2_champ3_sum1                0.011003 -0.004459 -0.002886  0.000904   \n",
       "t2_champ3_sum2                0.002967 -0.008265  0.006042 -0.006231   \n",
       "t2_champ4id                  -0.001316 -0.020342 -0.008415 -0.007932   \n",
       "t2_champ4_sum1                0.003173  0.000485 -0.002673 -0.001457   \n",
       "t2_champ4_sum2                0.003695 -0.006558  0.001375 -0.003245   \n",
       "t2_champ5id                  -0.005236 -0.019552 -0.012756 -0.014049   \n",
       "t2_champ5_sum1               -0.004187  0.002151 -0.007480 -0.002331   \n",
       "t2_champ5_sum2                0.004492  0.000511 -0.001249  0.008602   \n",
       "t2_towerKills                 0.290283 -0.003555 -0.005946  0.000329   \n",
       "t2_inhibitorKills             0.216553 -0.001794 -0.003955  0.003024   \n",
       "t2_baronKills                 0.124451 -0.001642 -0.007644 -0.002151   \n",
       "t2_dragonKills                0.220556 -0.003744 -0.007808  0.000146   \n",
       "t2_riftHeraldKills            1.000000  0.000775 -0.011229 -0.006550   \n",
       "t2_ban1                       0.000775  1.000000 -0.010048 -0.007541   \n",
       "t2_ban2                      -0.011229 -0.010048  1.000000 -0.012252   \n",
       "t2_ban3                      -0.006550 -0.007541 -0.012252  1.000000   \n",
       "t2_ban4                      -0.007342 -0.005309 -0.018309 -0.018183   \n",
       "t2_ban5                      -0.001166 -0.005866 -0.004804 -0.005805   \n",
       "\n",
       "                     t2_ban4   t2_ban5  \n",
       "gameDuration        0.009976  0.008206  \n",
       "winner             -0.003010 -0.002691  \n",
       "firstBlood          0.001483  0.005577  \n",
       "firstTower          0.000878 -0.001758  \n",
       "firstInhibitor     -0.008131 -0.002049  \n",
       "firstBaron         -0.005207 -0.007266  \n",
       "firstDragon         0.002753  0.000162  \n",
       "firstRiftHerald    -0.009826 -0.004224  \n",
       "t1_champ1id        -0.015866 -0.006765  \n",
       "t1_champ1_sum1     -0.005801  0.002071  \n",
       "t1_champ1_sum2      0.008235 -0.004187  \n",
       "t1_champ2id        -0.009824 -0.009495  \n",
       "t1_champ2_sum1     -0.002941  0.003517  \n",
       "t1_champ2_sum2      0.002975 -0.003646  \n",
       "t1_champ3id        -0.015396 -0.007996  \n",
       "t1_champ3_sum1      0.005108 -0.000580  \n",
       "t1_champ3_sum2     -0.002973 -0.006179  \n",
       "t1_champ4id        -0.014260 -0.016844  \n",
       "t1_champ4_sum1      0.002317  0.002706  \n",
       "t1_champ4_sum2     -0.008783 -0.003225  \n",
       "t1_champ5id        -0.013163 -0.012483  \n",
       "t1_champ5_sum1      0.001539  0.005564  \n",
       "t1_champ5_sum2      0.003619 -0.001276  \n",
       "t1_towerKills      -0.000002  0.003796  \n",
       "t1_inhibitorKills  -0.001502  0.003415  \n",
       "t1_baronKills      -0.011326 -0.008913  \n",
       "t1_dragonKills      0.009990  0.005439  \n",
       "t1_riftHeraldKills -0.004171 -0.005713  \n",
       "t1_ban1             0.007530  0.006872  \n",
       "t1_ban2             0.007170  0.009696  \n",
       "t1_ban3             0.011907  0.007721  \n",
       "t1_ban4             0.009281  0.007795  \n",
       "t1_ban5             0.010259  0.010004  \n",
       "t2_champ1id        -0.019622 -0.016983  \n",
       "t2_champ1_sum1     -0.001991 -0.003259  \n",
       "t2_champ1_sum2      0.006378  0.009854  \n",
       "t2_champ2id        -0.012212 -0.021525  \n",
       "t2_champ2_sum1     -0.006027  0.005068  \n",
       "t2_champ2_sum2      0.004551 -0.004162  \n",
       "t2_champ3id        -0.016029 -0.011769  \n",
       "t2_champ3_sum1     -0.013458  0.000177  \n",
       "t2_champ3_sum2      0.004363 -0.009693  \n",
       "t2_champ4id        -0.015214 -0.009821  \n",
       "t2_champ4_sum1     -0.006536 -0.004119  \n",
       "t2_champ4_sum2      0.001992 -0.003507  \n",
       "t2_champ5id        -0.014099 -0.021290  \n",
       "t2_champ5_sum1      0.005051 -0.000620  \n",
       "t2_champ5_sum2      0.000382 -0.001728  \n",
       "t2_towerKills      -0.001870 -0.000788  \n",
       "t2_inhibitorKills  -0.006311  0.005532  \n",
       "t2_baronKills      -0.001956 -0.004612  \n",
       "t2_dragonKills     -0.000680 -0.003762  \n",
       "t2_riftHeraldKills -0.007342 -0.001166  \n",
       "t2_ban1            -0.005309 -0.005866  \n",
       "t2_ban2            -0.018309 -0.004804  \n",
       "t2_ban3            -0.018183 -0.005805  \n",
       "t2_ban4             1.000000 -0.016506  \n",
       "t2_ban5            -0.016506  1.000000  \n",
       "\n",
       "[58 rows x 58 columns]"
      ]
     },
     "execution_count": 73,
     "metadata": {},
     "output_type": "execute_result"
    }
   ],
   "source": [
    "corr"
   ]
  },
  {
   "cell_type": "code",
   "execution_count": 75,
   "metadata": {},
   "outputs": [
    {
     "data": {
      "image/png": "[encoded data removed]",
      "text/plain": [
       "<Figure size 1440x576 with 1 Axes>"
      ]
     },
     "metadata": {
      "needs_background": "light"
     },
     "output_type": "display_data"
    }
   ],
   "source": [
    "plt.figure(figsize = (20,8))\n",
    "games_full.corr()['winner'].sort_values(ascending = False).drop(['winner']).plot(kind='bar',color = 'c')\n",
    "plt.xlabel('Features',fontsize=15)\n",
    "plt.ylabel('winner',fontsize=15)\n",
    "plt.title('correlation',fontsize = 18)\n",
    "plt.show()"
   ]
  },
  {
   "cell_type": "markdown",
   "metadata": {},
   "source": [
    "##### From the Above Graphs the following observations are made:\n",
    "\n",
    "In League of Legends global objectives are extremely important. They increase the chances of winning by providing buffs or gold to the entire team. \n",
    "Team 1 and 2 won 80% of the games that they took the first inhibitor and 70% of the games when they took the first tower.\n",
    "\n",
    "The champions that a person picks is also important. The highest win rates are among champions that were not picked often. This could be due to specific people playing these lesser known champions and showing mastery within that role. This could throw the enemy team off because they don’t commonly encounter certain champions.\n",
    "\n",
    "In contrast, the champions that were picked the most had fluctuating win rates. These champions are picked the most because they are currently strong in team compositions. However, because they are picked at a high rate it will be easier for the enemy team to understand how to counter certain champions.\n",
    "\n",
    "Features relating to towerkills, inhibitors,baron kills,rift herald kills have the highest correlation with Target variable (winner)"
   ]
  },
  {
   "cell_type": "markdown",
   "metadata": {},
   "source": [
    "### Building Machine Learning Models for Match winner Prediction"
   ]
  },
  {
   "cell_type": "markdown",
   "metadata": {},
   "source": [
    "### Feature Selection"
   ]
  },
  {
   "cell_type": "code",
   "execution_count": 77,
   "metadata": {},
   "outputs": [],
   "source": [
    "from sklearn.preprocessing import StandardScaler"
   ]
  },
  {
   "cell_type": "code",
   "execution_count": 78,
   "metadata": {},
   "outputs": [],
   "source": [
    "X = games_full.drop(columns = ['winner'])\n",
    "y = games_full['winner']"
   ]
  },
  {
   "cell_type": "code",
   "execution_count": 79,
   "metadata": {},
   "outputs": [],
   "source": [
    "scaler= StandardScaler()\n",
    "scaled_X = scaler.fit_transform(X)"
   ]
  },
  {
   "cell_type": "markdown",
   "metadata": {},
   "source": [
    "### Checking for Multicollinearity using Variance Inflation Factor"
   ]
  },
  {
   "cell_type": "code",
   "execution_count": 80,
   "metadata": {},
   "outputs": [],
   "source": [
    "from statsmodels.stats.outliers_influence import variance_inflation_factor"
   ]
  },
  {
   "cell_type": "code",
   "execution_count": 81,
   "metadata": {},
   "outputs": [],
   "source": [
    "vif = pd.DataFrame()"
   ]
  },
  {
   "cell_type": "code",
   "execution_count": 82,
   "metadata": {},
   "outputs": [],
   "source": [
    "vif[\"Features\"] = X.columns\n",
    "vif['vif'] = [variance_inflation_factor(scaled_X,i) for i in range(scaled_X.shape[1])]"
   ]
  },
  {
   "cell_type": "code",
   "execution_count": 83,
   "metadata": {},
   "outputs": [
    {
     "data": {
      "text/html": [
       "<div>\n",
       "<style scoped>\n",
       "    .dataframe tbody tr th:only-of-type {\n",
       "        vertical-align: middle;\n",
       "    }\n",
       "\n",
       "    .dataframe tbody tr th {\n",
       "        vertical-align: top;\n",
       "    }\n",
       "\n",
       "    .dataframe thead th {\n",
       "        text-align: right;\n",
       "    }\n",
       "</style>\n",
       "<table border=\"1\" class=\"dataframe\">\n",
       "  <thead>\n",
       "    <tr style=\"text-align: right;\">\n",
       "      <th></th>\n",
       "      <th>Features</th>\n",
       "      <th>vif</th>\n",
       "    </tr>\n",
       "  </thead>\n",
       "  <tbody>\n",
       "    <tr>\n",
       "      <th>0</th>\n",
       "      <td>gameDuration</td>\n",
       "      <td>5.177708</td>\n",
       "    </tr>\n",
       "    <tr>\n",
       "      <th>1</th>\n",
       "      <td>firstBlood</td>\n",
       "      <td>1.098630</td>\n",
       "    </tr>\n",
       "    <tr>\n",
       "      <th>2</th>\n",
       "      <td>firstTower</td>\n",
       "      <td>1.581462</td>\n",
       "    </tr>\n",
       "    <tr>\n",
       "      <th>3</th>\n",
       "      <td>firstInhibitor</td>\n",
       "      <td>2.793347</td>\n",
       "    </tr>\n",
       "    <tr>\n",
       "      <th>4</th>\n",
       "      <td>firstBaron</td>\n",
       "      <td>3.823133</td>\n",
       "    </tr>\n",
       "    <tr>\n",
       "      <th>5</th>\n",
       "      <td>firstDragon</td>\n",
       "      <td>1.908832</td>\n",
       "    </tr>\n",
       "    <tr>\n",
       "      <th>6</th>\n",
       "      <td>firstRiftHerald</td>\n",
       "      <td>inf</td>\n",
       "    </tr>\n",
       "    <tr>\n",
       "      <th>7</th>\n",
       "      <td>t1_champ1id</td>\n",
       "      <td>1.018866</td>\n",
       "    </tr>\n",
       "    <tr>\n",
       "      <th>8</th>\n",
       "      <td>t1_champ1_sum1</td>\n",
       "      <td>1.354838</td>\n",
       "    </tr>\n",
       "    <tr>\n",
       "      <th>9</th>\n",
       "      <td>t1_champ1_sum2</td>\n",
       "      <td>1.360477</td>\n",
       "    </tr>\n",
       "    <tr>\n",
       "      <th>10</th>\n",
       "      <td>t1_champ2id</td>\n",
       "      <td>1.020063</td>\n",
       "    </tr>\n",
       "    <tr>\n",
       "      <th>11</th>\n",
       "      <td>t1_champ2_sum1</td>\n",
       "      <td>1.337611</td>\n",
       "    </tr>\n",
       "    <tr>\n",
       "      <th>12</th>\n",
       "      <td>t1_champ2_sum2</td>\n",
       "      <td>1.350945</td>\n",
       "    </tr>\n",
       "    <tr>\n",
       "      <th>13</th>\n",
       "      <td>t1_champ3id</td>\n",
       "      <td>1.018193</td>\n",
       "    </tr>\n",
       "    <tr>\n",
       "      <th>14</th>\n",
       "      <td>t1_champ3_sum1</td>\n",
       "      <td>1.322735</td>\n",
       "    </tr>\n",
       "    <tr>\n",
       "      <th>15</th>\n",
       "      <td>t1_champ3_sum2</td>\n",
       "      <td>1.332312</td>\n",
       "    </tr>\n",
       "    <tr>\n",
       "      <th>16</th>\n",
       "      <td>t1_champ4id</td>\n",
       "      <td>1.020851</td>\n",
       "    </tr>\n",
       "    <tr>\n",
       "      <th>17</th>\n",
       "      <td>t1_champ4_sum1</td>\n",
       "      <td>1.327994</td>\n",
       "    </tr>\n",
       "    <tr>\n",
       "      <th>18</th>\n",
       "      <td>t1_champ4_sum2</td>\n",
       "      <td>1.339449</td>\n",
       "    </tr>\n",
       "    <tr>\n",
       "      <th>19</th>\n",
       "      <td>t1_champ5id</td>\n",
       "      <td>1.017115</td>\n",
       "    </tr>\n",
       "    <tr>\n",
       "      <th>20</th>\n",
       "      <td>t1_champ5_sum1</td>\n",
       "      <td>1.349025</td>\n",
       "    </tr>\n",
       "    <tr>\n",
       "      <th>21</th>\n",
       "      <td>t1_champ5_sum2</td>\n",
       "      <td>1.356614</td>\n",
       "    </tr>\n",
       "    <tr>\n",
       "      <th>22</th>\n",
       "      <td>t1_towerKills</td>\n",
       "      <td>6.219889</td>\n",
       "    </tr>\n",
       "    <tr>\n",
       "      <th>23</th>\n",
       "      <td>t1_inhibitorKills</td>\n",
       "      <td>3.277668</td>\n",
       "    </tr>\n",
       "    <tr>\n",
       "      <th>24</th>\n",
       "      <td>t1_baronKills</td>\n",
       "      <td>2.083709</td>\n",
       "    </tr>\n",
       "    <tr>\n",
       "      <th>25</th>\n",
       "      <td>t1_dragonKills</td>\n",
       "      <td>3.692913</td>\n",
       "    </tr>\n",
       "    <tr>\n",
       "      <th>26</th>\n",
       "      <td>t1_riftHeraldKills</td>\n",
       "      <td>inf</td>\n",
       "    </tr>\n",
       "    <tr>\n",
       "      <th>27</th>\n",
       "      <td>t1_ban1</td>\n",
       "      <td>1.004136</td>\n",
       "    </tr>\n",
       "    <tr>\n",
       "      <th>28</th>\n",
       "      <td>t1_ban2</td>\n",
       "      <td>1.004435</td>\n",
       "    </tr>\n",
       "    <tr>\n",
       "      <th>29</th>\n",
       "      <td>t1_ban3</td>\n",
       "      <td>1.003701</td>\n",
       "    </tr>\n",
       "    <tr>\n",
       "      <th>30</th>\n",
       "      <td>t1_ban4</td>\n",
       "      <td>1.004037</td>\n",
       "    </tr>\n",
       "    <tr>\n",
       "      <th>31</th>\n",
       "      <td>t1_ban5</td>\n",
       "      <td>1.004404</td>\n",
       "    </tr>\n",
       "    <tr>\n",
       "      <th>32</th>\n",
       "      <td>t2_champ1id</td>\n",
       "      <td>1.021070</td>\n",
       "    </tr>\n",
       "    <tr>\n",
       "      <th>33</th>\n",
       "      <td>t2_champ1_sum1</td>\n",
       "      <td>1.346855</td>\n",
       "    </tr>\n",
       "    <tr>\n",
       "      <th>34</th>\n",
       "      <td>t2_champ1_sum2</td>\n",
       "      <td>1.354743</td>\n",
       "    </tr>\n",
       "    <tr>\n",
       "      <th>35</th>\n",
       "      <td>t2_champ2id</td>\n",
       "      <td>1.019039</td>\n",
       "    </tr>\n",
       "    <tr>\n",
       "      <th>36</th>\n",
       "      <td>t2_champ2_sum1</td>\n",
       "      <td>1.334244</td>\n",
       "    </tr>\n",
       "    <tr>\n",
       "      <th>37</th>\n",
       "      <td>t2_champ2_sum2</td>\n",
       "      <td>1.344837</td>\n",
       "    </tr>\n",
       "    <tr>\n",
       "      <th>38</th>\n",
       "      <td>t2_champ3id</td>\n",
       "      <td>1.019311</td>\n",
       "    </tr>\n",
       "    <tr>\n",
       "      <th>39</th>\n",
       "      <td>t2_champ3_sum1</td>\n",
       "      <td>1.322725</td>\n",
       "    </tr>\n",
       "    <tr>\n",
       "      <th>40</th>\n",
       "      <td>t2_champ3_sum2</td>\n",
       "      <td>1.334167</td>\n",
       "    </tr>\n",
       "    <tr>\n",
       "      <th>41</th>\n",
       "      <td>t2_champ4id</td>\n",
       "      <td>1.022893</td>\n",
       "    </tr>\n",
       "    <tr>\n",
       "      <th>42</th>\n",
       "      <td>t2_champ4_sum1</td>\n",
       "      <td>1.324495</td>\n",
       "    </tr>\n",
       "    <tr>\n",
       "      <th>43</th>\n",
       "      <td>t2_champ4_sum2</td>\n",
       "      <td>1.336308</td>\n",
       "    </tr>\n",
       "    <tr>\n",
       "      <th>44</th>\n",
       "      <td>t2_champ5id</td>\n",
       "      <td>1.018680</td>\n",
       "    </tr>\n",
       "    <tr>\n",
       "      <th>45</th>\n",
       "      <td>t2_champ5_sum1</td>\n",
       "      <td>1.347001</td>\n",
       "    </tr>\n",
       "    <tr>\n",
       "      <th>46</th>\n",
       "      <td>t2_champ5_sum2</td>\n",
       "      <td>1.351874</td>\n",
       "    </tr>\n",
       "    <tr>\n",
       "      <th>47</th>\n",
       "      <td>t2_towerKills</td>\n",
       "      <td>7.961181</td>\n",
       "    </tr>\n",
       "    <tr>\n",
       "      <th>48</th>\n",
       "      <td>t2_inhibitorKills</td>\n",
       "      <td>3.636154</td>\n",
       "    </tr>\n",
       "    <tr>\n",
       "      <th>49</th>\n",
       "      <td>t2_baronKills</td>\n",
       "      <td>4.546622</td>\n",
       "    </tr>\n",
       "    <tr>\n",
       "      <th>50</th>\n",
       "      <td>t2_dragonKills</td>\n",
       "      <td>4.099363</td>\n",
       "    </tr>\n",
       "    <tr>\n",
       "      <th>51</th>\n",
       "      <td>t2_riftHeraldKills</td>\n",
       "      <td>inf</td>\n",
       "    </tr>\n",
       "    <tr>\n",
       "      <th>52</th>\n",
       "      <td>t2_ban1</td>\n",
       "      <td>1.003695</td>\n",
       "    </tr>\n",
       "    <tr>\n",
       "      <th>53</th>\n",
       "      <td>t2_ban2</td>\n",
       "      <td>1.004492</td>\n",
       "    </tr>\n",
       "    <tr>\n",
       "      <th>54</th>\n",
       "      <td>t2_ban3</td>\n",
       "      <td>1.003608</td>\n",
       "    </tr>\n",
       "    <tr>\n",
       "      <th>55</th>\n",
       "      <td>t2_ban4</td>\n",
       "      <td>1.005563</td>\n",
       "    </tr>\n",
       "    <tr>\n",
       "      <th>56</th>\n",
       "      <td>t2_ban5</td>\n",
       "      <td>1.004173</td>\n",
       "    </tr>\n",
       "  </tbody>\n",
       "</table>\n",
       "</div>"
      ],
      "text/plain": [
       "              Features       vif\n",
       "0         gameDuration  5.177708\n",
       "1           firstBlood  1.098630\n",
       "2           firstTower  1.581462\n",
       "3       firstInhibitor  2.793347\n",
       "4           firstBaron  3.823133\n",
       "5          firstDragon  1.908832\n",
       "6      firstRiftHerald       inf\n",
       "7          t1_champ1id  1.018866\n",
       "8       t1_champ1_sum1  1.354838\n",
       "9       t1_champ1_sum2  1.360477\n",
       "10         t1_champ2id  1.020063\n",
       "11      t1_champ2_sum1  1.337611\n",
       "12      t1_champ2_sum2  1.350945\n",
       "13         t1_champ3id  1.018193\n",
       "14      t1_champ3_sum1  1.322735\n",
       "15      t1_champ3_sum2  1.332312\n",
       "16         t1_champ4id  1.020851\n",
       "17      t1_champ4_sum1  1.327994\n",
       "18      t1_champ4_sum2  1.339449\n",
       "19         t1_champ5id  1.017115\n",
       "20      t1_champ5_sum1  1.349025\n",
       "21      t1_champ5_sum2  1.356614\n",
       "22       t1_towerKills  6.219889\n",
       "23   t1_inhibitorKills  3.277668\n",
       "24       t1_baronKills  2.083709\n",
       "25      t1_dragonKills  3.692913\n",
       "26  t1_riftHeraldKills       inf\n",
       "27             t1_ban1  1.004136\n",
       "28             t1_ban2  1.004435\n",
       "29             t1_ban3  1.003701\n",
       "30             t1_ban4  1.004037\n",
       "31             t1_ban5  1.004404\n",
       "32         t2_champ1id  1.021070\n",
       "33      t2_champ1_sum1  1.346855\n",
       "34      t2_champ1_sum2  1.354743\n",
       "35         t2_champ2id  1.019039\n",
       "36      t2_champ2_sum1  1.334244\n",
       "37      t2_champ2_sum2  1.344837\n",
       "38         t2_champ3id  1.019311\n",
       "39      t2_champ3_sum1  1.322725\n",
       "40      t2_champ3_sum2  1.334167\n",
       "41         t2_champ4id  1.022893\n",
       "42      t2_champ4_sum1  1.324495\n",
       "43      t2_champ4_sum2  1.336308\n",
       "44         t2_champ5id  1.018680\n",
       "45      t2_champ5_sum1  1.347001\n",
       "46      t2_champ5_sum2  1.351874\n",
       "47       t2_towerKills  7.961181\n",
       "48   t2_inhibitorKills  3.636154\n",
       "49       t2_baronKills  4.546622\n",
       "50      t2_dragonKills  4.099363\n",
       "51  t2_riftHeraldKills       inf\n",
       "52             t2_ban1  1.003695\n",
       "53             t2_ban2  1.004492\n",
       "54             t2_ban3  1.003608\n",
       "55             t2_ban4  1.005563\n",
       "56             t2_ban5  1.004173"
      ]
     },
     "execution_count": 83,
     "metadata": {},
     "output_type": "execute_result"
    }
   ],
   "source": [
    "vif"
   ]
  },
  {
   "cell_type": "markdown",
   "metadata": {},
   "source": [
    "### Principle Component Analysis"
   ]
  },
  {
   "cell_type": "code",
   "execution_count": 86,
   "metadata": {},
   "outputs": [],
   "source": [
    "from sklearn.decomposition import PCA"
   ]
  },
  {
   "cell_type": "code",
   "execution_count": 87,
   "metadata": {},
   "outputs": [
    {
     "data": {
      "image/png": "[encoded data removed]",
      "text/plain": [
       "<Figure size 432x288 with 1 Axes>"
      ]
     },
     "metadata": {
      "needs_background": "light"
     },
     "output_type": "display_data"
    }
   ],
   "source": [
    "pca = PCA()\n",
    "principleComponents = pca.fit_transform(scaled_X)\n",
    "plt.figure()\n",
    "plt.plot(np.cumsum(pca.explained_variance_ratio_))\n",
    "plt.xlabel('Number of Components')\n",
    "plt.ylabel('Variance %')\n",
    "plt.title('Explained Variance')\n",
    "plt.show()"
   ]
  },
  {
   "cell_type": "markdown",
   "metadata": {},
   "source": [
    "55 components explain around 95% variance in Data"
   ]
  },
  {
   "cell_type": "markdown",
   "metadata": {},
   "source": [
    "### Selecting Kbest Features"
   ]
  },
  {
   "cell_type": "code",
   "execution_count": 88,
   "metadata": {},
   "outputs": [],
   "source": [
    "from sklearn.feature_selection import SelectKBest, f_classif"
   ]
  },
  {
   "cell_type": "code",
   "execution_count": 89,
   "metadata": {},
   "outputs": [],
   "source": [
    "bestfeat = SelectKBest(score_func = f_classif, k = 'all')\n",
    "fit = bestfeat.fit(X,y)\n",
    "dfscores = pd.DataFrame(fit.scores_)\n",
    "dfcolumns = pd.DataFrame(X.columns)"
   ]
  },
  {
   "cell_type": "code",
   "execution_count": 90,
   "metadata": {
    "scrolled": false
   },
   "outputs": [
    {
     "name": "stdout",
     "output_type": "stream",
     "text": [
      "               Feature         Score\n",
      "47       t2_towerKills  83121.654422\n",
      "22       t1_towerKills  75729.435053\n",
      "48   t2_inhibitorKills  39834.681652\n",
      "23   t1_inhibitorKills  37549.604170\n",
      "3       firstInhibitor  20802.707271\n",
      "50      t2_dragonKills  16908.612958\n",
      "25      t1_dragonKills  14797.581972\n",
      "49       t2_baronKills   9763.453044\n",
      "2           firstTower   8461.787669\n",
      "24       t1_baronKills   8139.777481\n",
      "5          firstDragon   5489.132085\n",
      "4           firstBaron   3791.338175\n",
      "51  t2_riftHeraldKills   2773.989513\n",
      "26  t1_riftHeraldKills   2570.640670\n",
      "1           firstBlood   1622.236578\n",
      "6      firstRiftHerald    749.882900\n",
      "19         t1_champ5id     35.932333\n",
      "0         gameDuration     30.138497\n",
      "13         t1_champ3id     20.632660\n",
      "7          t1_champ1id     18.853923\n",
      "35         t2_champ2id     16.638574\n",
      "16         t1_champ4id     15.300743\n",
      "10         t1_champ2id     13.479182\n",
      "32         t2_champ1id      9.180693\n",
      "44         t2_champ5id      7.454534\n",
      "41         t2_champ4id      7.032069\n",
      "38         t2_champ3id      6.463048\n",
      "27             t1_ban1      2.940627\n",
      "39      t2_champ3_sum1      1.451217\n",
      "46      t2_champ5_sum2      1.346323\n",
      "12      t1_champ2_sum2      1.233350\n",
      "40      t2_champ3_sum2      1.047195\n",
      "45      t2_champ5_sum1      1.043380\n",
      "37      t2_champ2_sum2      0.864839\n",
      "52             t2_ban1      0.710067\n",
      "29             t1_ban3      0.671145\n",
      "15      t1_champ3_sum2      0.587246\n",
      "30             t1_ban4      0.474509\n",
      "55             t2_ban4      0.466466\n",
      "43      t2_champ4_sum2      0.407994\n",
      "56             t2_ban5      0.372814\n",
      "11      t1_champ2_sum1      0.370458\n",
      "31             t1_ban5      0.363095\n",
      "36      t2_champ2_sum1      0.315686\n",
      "34      t2_champ1_sum2      0.219304\n",
      "33      t2_champ1_sum1      0.194131\n",
      "9       t1_champ1_sum2      0.111836\n",
      "21      t1_champ5_sum2      0.110789\n",
      "20      t1_champ5_sum1      0.086793\n",
      "28             t1_ban2      0.060012\n",
      "42      t2_champ4_sum1      0.043025\n",
      "14      t1_champ3_sum1      0.022813\n",
      "8       t1_champ1_sum1      0.013874\n",
      "53             t2_ban2      0.005351\n",
      "18      t1_champ4_sum2      0.000474\n",
      "54             t2_ban3      0.000110\n",
      "17      t1_champ4_sum1      0.000017\n"
     ]
    }
   ],
   "source": [
    "fit = bestfeat.fit(X,y)\n",
    "dfscores = pd.DataFrame(fit.scores_)\n",
    "dfcolumns = pd.DataFrame(X.columns)\n",
    "dfcolumns.head()\n",
    "featureScores = pd.concat([dfcolumns,dfscores],axis = 1)\n",
    "featureScores.columns = ['Feature', 'Score']\n",
    "print(featureScores.nlargest(60,'Score'))"
   ]
  },
  {
   "cell_type": "markdown",
   "metadata": {},
   "source": [
    "#### Selecting best features based on their scores:"
   ]
  },
  {
   "cell_type": "code",
   "execution_count": 91,
   "metadata": {},
   "outputs": [],
   "source": [
    "x_best = X.drop(columns=['t1_champ5_sum1','t1_ban2','t2_champ4_sum1','t1_champ3_sum1','t1_champ1_sum1','t2_ban2','t1_champ4_sum2','t2_ban3','t1_champ4_sum1','t2_champ4_sum2','t2_ban5','t1_champ2_sum1','t1_ban5','t2_champ2_sum1','t2_champ1_sum2','t2_champ1_sum1','t1_champ1_sum2','t1_champ5_sum2','t1_ban1','t2_champ3_sum1','gameDuration','t1_champ4_sum1','t2_ban3','t1_champ4_sum2','t1_champ1id','t1_champ2id','t1_champ3id','t1_champ4id','t1_champ5id','t2_champ1id','t2_champ2id','t2_champ3id','t2_champ4id','t2_champ5id','t2_champ5_sum2','t1_champ2_sum2','t2_champ3_sum2','t2_champ5_sum1','t2_champ2_sum2','t2_ban1','t1_ban3','t1_champ3_sum2','t1_ban4','t2_ban4']).copy()"
   ]
  },
  {
   "cell_type": "code",
   "execution_count": 92,
   "metadata": {},
   "outputs": [],
   "source": [
    "scaled_x_best = scaler.fit_transform(x_best)"
   ]
  },
  {
   "cell_type": "markdown",
   "metadata": {},
   "source": [
    "#### Analyzing the Target Classes"
   ]
  },
  {
   "cell_type": "code",
   "execution_count": 94,
   "metadata": {},
   "outputs": [
    {
     "data": {
      "text/plain": [
       "<AxesSubplot:xlabel='winner', ylabel='count'>"
      ]
     },
     "execution_count": 94,
     "metadata": {},
     "output_type": "execute_result"
    },
    {
     "data": {
      "image/png": "[encoded data removed]",
      "text/plain": [
       "<Figure size 432x288 with 1 Axes>"
      ]
     },
     "metadata": {
      "needs_background": "light"
     },
     "output_type": "display_data"
    }
   ],
   "source": [
    "sns.countplot(games_full['winner'], palette=\"Set1\")"
   ]
  },
  {
   "cell_type": "markdown",
   "metadata": {},
   "source": [
    "The classes are fairly balanced"
   ]
  },
  {
   "cell_type": "code",
   "execution_count": 95,
   "metadata": {},
   "outputs": [],
   "source": [
    "from sklearn.model_selection import train_test_split\n",
    "from sklearn.metrics import accuracy_score\n",
    "from sklearn.ensemble import RandomForestClassifier\n",
    "maxAcc = 0\n",
    "maxRS=0\n",
    "for i in range(1,100):\n",
    "    x_train,x_test,y_train,y_test = train_test_split(scaled_x_best,y,test_size = .31, random_state = i)\n",
    "    modRF =  RandomForestClassifier()\n",
    "    modRF.fit(x_train,y_train)\n",
    "    pred = modRF.predict(x_test)\n",
    "    acc  = accuracy_score(y_test,pred)\n",
    "    if acc>maxAcc:\n",
    "        maxAcc=acc"
   ]
  },
  {
   "cell_type": "code",
   "execution_count": 96,
   "metadata": {},
   "outputs": [
    {
     "name": "stdout",
     "output_type": "stream",
     "text": [
      "Best Accuracy is: 0.9738754542037339 on random_state: 0\n"
     ]
    }
   ],
   "source": [
    "print(f\"Best Accuracy is: {maxAcc} on random_state: {maxRS}\")"
   ]
  },
  {
   "cell_type": "code",
   "execution_count": 98,
   "metadata": {},
   "outputs": [],
   "source": [
    "x_train,x_test,y_train,y_test = train_test_split(scaled_x_best,y,test_size = .31, random_state =  0)"
   ]
  },
  {
   "cell_type": "code",
   "execution_count": 99,
   "metadata": {},
   "outputs": [],
   "source": [
    "from sklearn.ensemble import AdaBoostClassifier, RandomForestClassifier\n",
    "from sklearn.model_selection import train_test_split\n",
    "from sklearn.metrics import accuracy_score, confusion_matrix, roc_curve, roc_auc_score\n",
    "from sklearn.metrics import classification_report\n",
    "from sklearn.metrics import plot_roc_curve"
   ]
  },
  {
   "cell_type": "code",
   "execution_count": 100,
   "metadata": {},
   "outputs": [],
   "source": [
    "from sklearn.linear_model import LogisticRegression\n",
    "from sklearn.tree import DecisionTreeClassifier\n",
    "from xgboost import XGBClassifier\n",
    "from sklearn.svm import SVC\n",
    "from sklearn.neighbors import KNeighborsClassifier"
   ]
  },
  {
   "cell_type": "code",
   "execution_count": 101,
   "metadata": {},
   "outputs": [],
   "source": [
    "RFC = RandomForestClassifier()\n",
    "DTC = DecisionTreeClassifier()\n",
    "XGBC= XGBClassifier()\n",
    "adbc = AdaBoostClassifier()\n",
    "LOGR= LogisticRegression(solver='liblinear')\n",
    "SV =  SVC()\n",
    "KNN = KNeighborsClassifier()"
   ]
  },
  {
   "cell_type": "markdown",
   "metadata": {},
   "source": [
    "### Training the Models"
   ]
  },
  {
   "cell_type": "code",
   "execution_count": 102,
   "metadata": {},
   "outputs": [
    {
     "name": "stdout",
     "output_type": "stream",
     "text": [
      "[03:52:49] WARNING: C:/Users/Administrator/workspace/xgboost-win64_release_1.4.0/src/learner.cc:1095: Starting in XGBoost 1.3.0, the default evaluation metric used with the objective 'binary:logistic' was changed from 'error' to 'logloss'. Explicitly set eval_metric if you'd like to restore the old behavior.\n"
     ]
    },
    {
     "data": {
      "text/plain": [
       "KNeighborsClassifier()"
      ]
     },
     "execution_count": 102,
     "metadata": {},
     "output_type": "execute_result"
    }
   ],
   "source": [
    "RFC.fit(x_train,y_train.ravel())\n",
    "XGBC.fit(x_train,y_train.ravel())\n",
    "DTC.fit(x_train,y_train)\n",
    "adbc.fit(x_train,y_train.ravel())\n",
    "SV.fit(x_train,y_train.ravel())\n",
    "LOGR.fit(x_train,y_train.ravel())\n",
    "KNN.fit(x_train,y_train.ravel())"
   ]
  },
  {
   "cell_type": "markdown",
   "metadata": {},
   "source": [
    "All Models have been trained."
   ]
  },
  {
   "cell_type": "markdown",
   "metadata": {},
   "source": [
    "### Logistic Regression Model Accuracy"
   ]
  },
  {
   "cell_type": "code",
   "execution_count": 103,
   "metadata": {},
   "outputs": [],
   "source": [
    "LOGRpred = LOGR.predict(x_test)\n",
    "accu = classification_report(y_test,LOGRpred)\n"
   ]
  },
  {
   "cell_type": "code",
   "execution_count": 104,
   "metadata": {},
   "outputs": [
    {
     "data": {
      "text/plain": [
       "array([[7570,  411],\n",
       "       [ 206, 7775]], dtype=int64)"
      ]
     },
     "execution_count": 104,
     "metadata": {},
     "output_type": "execute_result"
    }
   ],
   "source": [
    "conf_matrx = confusion_matrix(y_test,LOGRpred)\n",
    "conf_matrx"
   ]
  },
  {
   "cell_type": "code",
   "execution_count": 105,
   "metadata": {},
   "outputs": [
    {
     "name": "stdout",
     "output_type": "stream",
     "text": [
      "              precision    recall  f1-score   support\n",
      "\n",
      "           1       0.97      0.95      0.96      7981\n",
      "           2       0.95      0.97      0.96      7981\n",
      "\n",
      "    accuracy                           0.96     15962\n",
      "   macro avg       0.96      0.96      0.96     15962\n",
      "weighted avg       0.96      0.96      0.96     15962\n",
      "\n"
     ]
    }
   ],
   "source": [
    "print(accu)"
   ]
  },
  {
   "cell_type": "markdown",
   "metadata": {},
   "source": [
    "### Random Forest Classifier Model Accuracy"
   ]
  },
  {
   "cell_type": "code",
   "execution_count": 106,
   "metadata": {},
   "outputs": [],
   "source": [
    "RFCpred = RFC.predict(x_test)\n",
    "accu = classification_report(y_test,RFCpred)"
   ]
  },
  {
   "cell_type": "code",
   "execution_count": 107,
   "metadata": {},
   "outputs": [
    {
     "data": {
      "text/plain": [
       "array([[7771,  210],\n",
       "       [ 267, 7714]], dtype=int64)"
      ]
     },
     "execution_count": 107,
     "metadata": {},
     "output_type": "execute_result"
    }
   ],
   "source": [
    "conf_matrx = confusion_matrix(y_test,RFCpred)\n",
    "conf_matrx"
   ]
  },
  {
   "cell_type": "code",
   "execution_count": 108,
   "metadata": {},
   "outputs": [
    {
     "name": "stdout",
     "output_type": "stream",
     "text": [
      "              precision    recall  f1-score   support\n",
      "\n",
      "           1       0.97      0.97      0.97      7981\n",
      "           2       0.97      0.97      0.97      7981\n",
      "\n",
      "    accuracy                           0.97     15962\n",
      "   macro avg       0.97      0.97      0.97     15962\n",
      "weighted avg       0.97      0.97      0.97     15962\n",
      "\n"
     ]
    }
   ],
   "source": [
    "print(accu)"
   ]
  },
  {
   "cell_type": "markdown",
   "metadata": {},
   "source": [
    "### Decision Tree Classifier Model Accuracy"
   ]
  },
  {
   "cell_type": "code",
   "execution_count": 109,
   "metadata": {},
   "outputs": [],
   "source": [
    "DTCpred = DTC.predict(x_test)\n",
    "accu = classification_report(y_test,DTCpred)"
   ]
  },
  {
   "cell_type": "code",
   "execution_count": 110,
   "metadata": {},
   "outputs": [],
   "source": [
    "conf_matrx = confusion_matrix(y_test,DTCpred)"
   ]
  },
  {
   "cell_type": "code",
   "execution_count": 111,
   "metadata": {},
   "outputs": [
    {
     "data": {
      "text/plain": [
       "array([[7702,  279],\n",
       "       [ 331, 7650]], dtype=int64)"
      ]
     },
     "execution_count": 111,
     "metadata": {},
     "output_type": "execute_result"
    }
   ],
   "source": [
    "conf_matrx"
   ]
  },
  {
   "cell_type": "code",
   "execution_count": 112,
   "metadata": {},
   "outputs": [
    {
     "name": "stdout",
     "output_type": "stream",
     "text": [
      "              precision    recall  f1-score   support\n",
      "\n",
      "           1       0.96      0.97      0.96      7981\n",
      "           2       0.96      0.96      0.96      7981\n",
      "\n",
      "    accuracy                           0.96     15962\n",
      "   macro avg       0.96      0.96      0.96     15962\n",
      "weighted avg       0.96      0.96      0.96     15962\n",
      "\n"
     ]
    }
   ],
   "source": [
    "print(accu)"
   ]
  },
  {
   "cell_type": "markdown",
   "metadata": {},
   "source": [
    "### XGB Classifier Model Accuracy"
   ]
  },
  {
   "cell_type": "code",
   "execution_count": 113,
   "metadata": {},
   "outputs": [],
   "source": [
    "XGBCpred = XGBC.predict(x_test)\n",
    "accu = classification_report(y_test,XGBCpred)"
   ]
  },
  {
   "cell_type": "code",
   "execution_count": 114,
   "metadata": {},
   "outputs": [
    {
     "data": {
      "text/plain": [
       "array([[7770,  211],\n",
       "       [ 262, 7719]], dtype=int64)"
      ]
     },
     "execution_count": 114,
     "metadata": {},
     "output_type": "execute_result"
    }
   ],
   "source": [
    "conf_matrx = confusion_matrix(y_test,XGBCpred)\n",
    "conf_matrx"
   ]
  },
  {
   "cell_type": "code",
   "execution_count": 115,
   "metadata": {},
   "outputs": [
    {
     "name": "stdout",
     "output_type": "stream",
     "text": [
      "              precision    recall  f1-score   support\n",
      "\n",
      "           1       0.97      0.97      0.97      7981\n",
      "           2       0.97      0.97      0.97      7981\n",
      "\n",
      "    accuracy                           0.97     15962\n",
      "   macro avg       0.97      0.97      0.97     15962\n",
      "weighted avg       0.97      0.97      0.97     15962\n",
      "\n"
     ]
    }
   ],
   "source": [
    "print(accu)"
   ]
  },
  {
   "cell_type": "markdown",
   "metadata": {},
   "source": [
    "### AdaBoost Classifier Model Accuracy"
   ]
  },
  {
   "cell_type": "code",
   "execution_count": 116,
   "metadata": {},
   "outputs": [],
   "source": [
    "adbcpred = adbc.predict(x_test)\n",
    "accu = classification_report(y_test,adbcpred)"
   ]
  },
  {
   "cell_type": "code",
   "execution_count": 117,
   "metadata": {},
   "outputs": [
    {
     "data": {
      "text/plain": [
       "array([[7789,  192],\n",
       "       [ 322, 7659]], dtype=int64)"
      ]
     },
     "execution_count": 117,
     "metadata": {},
     "output_type": "execute_result"
    }
   ],
   "source": [
    "conf_matrx = confusion_matrix(y_test,adbcpred)\n",
    "conf_matrx"
   ]
  },
  {
   "cell_type": "code",
   "execution_count": 118,
   "metadata": {},
   "outputs": [
    {
     "name": "stdout",
     "output_type": "stream",
     "text": [
      "              precision    recall  f1-score   support\n",
      "\n",
      "           1       0.96      0.98      0.97      7981\n",
      "           2       0.98      0.96      0.97      7981\n",
      "\n",
      "    accuracy                           0.97     15962\n",
      "   macro avg       0.97      0.97      0.97     15962\n",
      "weighted avg       0.97      0.97      0.97     15962\n",
      "\n"
     ]
    }
   ],
   "source": [
    "print(accu)"
   ]
  },
  {
   "cell_type": "markdown",
   "metadata": {},
   "source": [
    "### SV Classifier Model Accuracy"
   ]
  },
  {
   "cell_type": "code",
   "execution_count": 119,
   "metadata": {},
   "outputs": [
    {
     "data": {
      "text/plain": [
       "array([[7769,  212],\n",
       "       [ 278, 7703]], dtype=int64)"
      ]
     },
     "execution_count": 119,
     "metadata": {},
     "output_type": "execute_result"
    }
   ],
   "source": [
    "SVpred = SV.predict(x_test)\n",
    "accu = classification_report(y_test,SVpred)\n",
    "conf_matrx = confusion_matrix(y_test,SVpred)\n",
    "conf_matrx\n"
   ]
  },
  {
   "cell_type": "code",
   "execution_count": 120,
   "metadata": {},
   "outputs": [
    {
     "name": "stdout",
     "output_type": "stream",
     "text": [
      "              precision    recall  f1-score   support\n",
      "\n",
      "           1       0.97      0.97      0.97      7981\n",
      "           2       0.97      0.97      0.97      7981\n",
      "\n",
      "    accuracy                           0.97     15962\n",
      "   macro avg       0.97      0.97      0.97     15962\n",
      "weighted avg       0.97      0.97      0.97     15962\n",
      "\n"
     ]
    }
   ],
   "source": [
    "print(accu)"
   ]
  },
  {
   "cell_type": "markdown",
   "metadata": {},
   "source": [
    "### K Nearest Neighbours Classifier Model Accuracy"
   ]
  },
  {
   "cell_type": "code",
   "execution_count": 121,
   "metadata": {},
   "outputs": [],
   "source": [
    "KNNpred = KNN.predict(x_test)\n",
    "accu = classification_report(y_test,KNNpred)\n",
    "\n"
   ]
  },
  {
   "cell_type": "code",
   "execution_count": 122,
   "metadata": {},
   "outputs": [
    {
     "data": {
      "text/plain": [
       "array([[7594,  387],\n",
       "       [ 300, 7681]], dtype=int64)"
      ]
     },
     "execution_count": 122,
     "metadata": {},
     "output_type": "execute_result"
    }
   ],
   "source": [
    "conf_matrx = confusion_matrix(y_test,KNNpred)\n",
    "conf_matrx"
   ]
  },
  {
   "cell_type": "code",
   "execution_count": 123,
   "metadata": {
    "scrolled": true
   },
   "outputs": [
    {
     "name": "stdout",
     "output_type": "stream",
     "text": [
      "              precision    recall  f1-score   support\n",
      "\n",
      "           1       0.96      0.95      0.96      7981\n",
      "           2       0.95      0.96      0.96      7981\n",
      "\n",
      "    accuracy                           0.96     15962\n",
      "   macro avg       0.96      0.96      0.96     15962\n",
      "weighted avg       0.96      0.96      0.96     15962\n",
      "\n"
     ]
    }
   ],
   "source": [
    "print(accu)"
   ]
  },
  {
   "cell_type": "markdown",
   "metadata": {},
   "source": [
    "### Model Cross Validation"
   ]
  },
  {
   "cell_type": "code",
   "execution_count": 127,
   "metadata": {},
   "outputs": [],
   "source": [
    "from sklearn.model_selection import cross_val_score as cvs"
   ]
  },
  {
   "cell_type": "markdown",
   "metadata": {},
   "source": [
    "#### Decision Tree Classifier"
   ]
  },
  {
   "cell_type": "code",
   "execution_count": 128,
   "metadata": {},
   "outputs": [
    {
     "name": "stdout",
     "output_type": "stream",
     "text": [
      "0.9631967372305302\n"
     ]
    }
   ],
   "source": [
    "print(cvs(DTC,scaled_x_best,y,cv=5).mean())"
   ]
  },
  {
   "cell_type": "markdown",
   "metadata": {},
   "source": [
    "#### Logistic Regression"
   ]
  },
  {
   "cell_type": "code",
   "execution_count": 129,
   "metadata": {},
   "outputs": [
    {
     "name": "stdout",
     "output_type": "stream",
     "text": [
      "0.9607885026218683\n"
     ]
    }
   ],
   "source": [
    "print(cvs(LOGR,scaled_x_best,y,cv=5).mean()) "
   ]
  },
  {
   "cell_type": "markdown",
   "metadata": {},
   "source": [
    "#### Random Forest Classifier"
   ]
  },
  {
   "cell_type": "code",
   "execution_count": 130,
   "metadata": {},
   "outputs": [
    {
     "name": "stdout",
     "output_type": "stream",
     "text": [
      "0.9711788696834336\n"
     ]
    }
   ],
   "source": [
    "print(cvs(RFC,scaled_x_best,y,cv=5).mean())"
   ]
  },
  {
   "cell_type": "markdown",
   "metadata": {},
   "source": [
    "#### XGB Classifier"
   ]
  },
  {
   "cell_type": "code",
   "execution_count": 131,
   "metadata": {},
   "outputs": [
    {
     "name": "stdout",
     "output_type": "stream",
     "text": [
      "[03:55:05] WARNING: C:/Users/Administrator/workspace/xgboost-win64_release_1.4.0/src/learner.cc:1095: Starting in XGBoost 1.3.0, the default evaluation metric used with the objective 'binary:logistic' was changed from 'error' to 'logloss'. Explicitly set eval_metric if you'd like to restore the old behavior.\n",
      "[03:55:06] WARNING: C:/Users/Administrator/workspace/xgboost-win64_release_1.4.0/src/learner.cc:1095: Starting in XGBoost 1.3.0, the default evaluation metric used with the objective 'binary:logistic' was changed from 'error' to 'logloss'. Explicitly set eval_metric if you'd like to restore the old behavior.\n",
      "[03:55:06] WARNING: C:/Users/Administrator/workspace/xgboost-win64_release_1.4.0/src/learner.cc:1095: Starting in XGBoost 1.3.0, the default evaluation metric used with the objective 'binary:logistic' was changed from 'error' to 'logloss'. Explicitly set eval_metric if you'd like to restore the old behavior.\n",
      "[03:55:07] WARNING: C:/Users/Administrator/workspace/xgboost-win64_release_1.4.0/src/learner.cc:1095: Starting in XGBoost 1.3.0, the default evaluation metric used with the objective 'binary:logistic' was changed from 'error' to 'logloss'. Explicitly set eval_metric if you'd like to restore the old behavior.\n",
      "[03:55:07] WARNING: C:/Users/Administrator/workspace/xgboost-win64_release_1.4.0/src/learner.cc:1095: Starting in XGBoost 1.3.0, the default evaluation metric used with the objective 'binary:logistic' was changed from 'error' to 'logloss'. Explicitly set eval_metric if you'd like to restore the old behavior.\n",
      "0.9718391920761313\n"
     ]
    }
   ],
   "source": [
    "print(cvs(XGBC,scaled_x_best,y,cv=5).mean())"
   ]
  },
  {
   "cell_type": "markdown",
   "metadata": {},
   "source": [
    "#### Adaboost Classifier"
   ]
  },
  {
   "cell_type": "code",
   "execution_count": 132,
   "metadata": {},
   "outputs": [
    {
     "name": "stdout",
     "output_type": "stream",
     "text": [
      "0.9654107593707517\n"
     ]
    }
   ],
   "source": [
    "print(cvs(adbc,scaled_x_best,y,cv=5).mean())"
   ]
  },
  {
   "cell_type": "markdown",
   "metadata": {},
   "source": [
    "#### SV Classifier"
   ]
  },
  {
   "cell_type": "code",
   "execution_count": 133,
   "metadata": {},
   "outputs": [
    {
     "name": "stdout",
     "output_type": "stream",
     "text": [
      "0.9705573897844241\n"
     ]
    }
   ],
   "source": [
    "print(cvs(SV,scaled_x_best,y,cv=5).mean())"
   ]
  },
  {
   "cell_type": "markdown",
   "metadata": {},
   "source": [
    "#### K Nearest Neighbours Classifier"
   ]
  },
  {
   "cell_type": "code",
   "execution_count": 134,
   "metadata": {
    "scrolled": true
   },
   "outputs": [
    {
     "name": "stdout",
     "output_type": "stream",
     "text": [
      "0.9564381433288016\n"
     ]
    }
   ],
   "source": [
    "print(cvs(KNN,scaled_x_best,y,cv=5).mean())"
   ]
  },
  {
   "cell_type": "markdown",
   "metadata": {},
   "source": [
    "### ROC AUC Scores"
   ]
  },
  {
   "cell_type": "markdown",
   "metadata": {},
   "source": [
    "#### Logistic Regression"
   ]
  },
  {
   "cell_type": "code",
   "execution_count": 136,
   "metadata": {},
   "outputs": [
    {
     "data": {
      "text/plain": [
       "0.9613456960280666"
      ]
     },
     "execution_count": 136,
     "metadata": {},
     "output_type": "execute_result"
    }
   ],
   "source": [
    "roc_auc_score(y_test,LOGRpred)"
   ]
  },
  {
   "cell_type": "markdown",
   "metadata": {},
   "source": [
    "#### SV Classifier"
   ]
  },
  {
   "cell_type": "code",
   "execution_count": 137,
   "metadata": {},
   "outputs": [
    {
     "data": {
      "text/plain": [
       "0.9693020924696153"
      ]
     },
     "execution_count": 137,
     "metadata": {},
     "output_type": "execute_result"
    }
   ],
   "source": [
    "roc_auc_score(y_test,SVpred)"
   ]
  },
  {
   "cell_type": "markdown",
   "metadata": {},
   "source": [
    "#### Adaboost Classifier"
   ]
  },
  {
   "cell_type": "code",
   "execution_count": 138,
   "metadata": {},
   "outputs": [
    {
     "data": {
      "text/plain": [
       "0.9677985214885353"
      ]
     },
     "execution_count": 138,
     "metadata": {},
     "output_type": "execute_result"
    }
   ],
   "source": [
    "roc_auc_score(y_test,adbcpred)"
   ]
  },
  {
   "cell_type": "markdown",
   "metadata": {},
   "source": [
    "#### XGB Classifier"
   ]
  },
  {
   "cell_type": "code",
   "execution_count": 139,
   "metadata": {},
   "outputs": [
    {
     "data": {
      "text/plain": [
       "0.9703671219145471"
      ]
     },
     "execution_count": 139,
     "metadata": {},
     "output_type": "execute_result"
    }
   ],
   "source": [
    "roc_auc_score(y_test,XGBCpred)"
   ]
  },
  {
   "cell_type": "markdown",
   "metadata": {},
   "source": [
    "#### Random Forest Classifier"
   ]
  },
  {
   "cell_type": "code",
   "execution_count": 140,
   "metadata": {},
   "outputs": [
    {
     "data": {
      "text/plain": [
       "0.9701165267510335"
      ]
     },
     "execution_count": 140,
     "metadata": {},
     "output_type": "execute_result"
    }
   ],
   "source": [
    "roc_auc_score(y_test,RFCpred)"
   ]
  },
  {
   "cell_type": "markdown",
   "metadata": {},
   "source": [
    "#### K Nearest Neighbours Classifier"
   ]
  },
  {
   "cell_type": "code",
   "execution_count": 141,
   "metadata": {},
   "outputs": [
    {
     "data": {
      "text/plain": [
       "0.9569602806665831"
      ]
     },
     "execution_count": 141,
     "metadata": {},
     "output_type": "execute_result"
    }
   ],
   "source": [
    "roc_auc_score(y_test,KNNpred)"
   ]
  },
  {
   "cell_type": "markdown",
   "metadata": {},
   "source": [
    "### ROC AUC curves "
   ]
  },
  {
   "cell_type": "code",
   "execution_count": 142,
   "metadata": {},
   "outputs": [
    {
     "data": {
      "image/png": "[encoded data removed]",
      "text/plain": [
       "<Figure size 432x288 with 1 Axes>"
      ]
     },
     "metadata": {
      "needs_background": "light"
     },
     "output_type": "display_data"
    }
   ],
   "source": [
    "disp = plot_roc_curve(RFC,x_test,y_test)\n",
    "mod = [LOGR,XGBC,adbc,SV,KNN]\n",
    "for i in mod:\n",
    "    plot_roc_curve(i,x_test,y_test, ax=disp.ax_)\n",
    "plt.legend(prop={'size':10}, loc = 'lower right')\n",
    "plt.show()"
   ]
  },
  {
   "cell_type": "markdown",
   "metadata": {},
   "source": [
    "### Based on the above graph and roc_auc_scores,XGB Classifier is the best model for the dataset, with AUC = 1.00 and roc_auc_score = 0.970367"
   ]
  },
  {
   "cell_type": "markdown",
   "metadata": {},
   "source": [
    "### Based on comparing Accuracy Score results, with Cross Validation results, it is determined that XGB Classifier is the best model."
   ]
  },
  {
   "cell_type": "markdown",
   "metadata": {},
   "source": [
    "### Hyper Parameter Tuning"
   ]
  },
  {
   "cell_type": "markdown",
   "metadata": {},
   "source": [
    "#### XGB Classifier"
   ]
  },
  {
   "cell_type": "code",
   "execution_count": 144,
   "metadata": {},
   "outputs": [],
   "source": [
    "from sklearn.model_selection import GridSearchCV"
   ]
  },
  {
   "cell_type": "code",
   "execution_count": 145,
   "metadata": {},
   "outputs": [],
   "source": [
    "parameter = {'booster':[\"gbtree\",\"gblinear\"],'eta': [0.01,0.1,0.2,0.3],'min_child_weight':np.arange(5),'max_depth':[10,20,40,60,80],'subsample':[0.5,1]}"
   ]
  },
  {
   "cell_type": "code",
   "execution_count": 146,
   "metadata": {},
   "outputs": [],
   "source": [
    "GridCV = GridSearchCV(XGBClassifier(),parameter,cv=5,n_jobs = -1,verbose = 1)"
   ]
  },
  {
   "cell_type": "code",
   "execution_count": 148,
   "metadata": {},
   "outputs": [
    {
     "name": "stdout",
     "output_type": "stream",
     "text": [
      "Fitting 5 folds for each of 400 candidates, totalling 2000 fits\n",
      "[04:15:30] WARNING: C:/Users/Administrator/workspace/xgboost-win64_release_1.4.0/src/learner.cc:1095: Starting in XGBoost 1.3.0, the default evaluation metric used with the objective 'binary:logistic' was changed from 'error' to 'logloss'. Explicitly set eval_metric if you'd like to restore the old behavior.\n"
     ]
    },
    {
     "data": {
      "text/plain": [
       "GridSearchCV(cv=5,\n",
       "             estimator=XGBClassifier(base_score=None, booster=None,\n",
       "                                     colsample_bylevel=None,\n",
       "                                     colsample_bynode=None,\n",
       "                                     colsample_bytree=None, gamma=None,\n",
       "                                     gpu_id=None, importance_type='gain',\n",
       "                                     interaction_constraints=None,\n",
       "                                     learning_rate=None, max_delta_step=None,\n",
       "                                     max_depth=None, min_child_weight=None,\n",
       "                                     missing=nan, monotone_constraints=None,\n",
       "                                     n_estimators=100, n_jobs=None,\n",
       "                                     num_parallel_tree=None, random_state=None,\n",
       "                                     reg_alpha=None, reg_lambda=None,\n",
       "                                     scale_pos_weight=None, subsample=None,\n",
       "                                     tree_method=None, validate_parameters=None,\n",
       "                                     verbosity=None),\n",
       "             n_jobs=-1,\n",
       "             param_grid={'booster': ['gbtree', 'gblinear'],\n",
       "                         'eta': [0.01, 0.1, 0.2, 0.3],\n",
       "                         'max_depth': [10, 20, 40, 60, 80],\n",
       "                         'min_child_weight': array([0, 1, 2, 3, 4]),\n",
       "                         'subsample': [0.5, 1]},\n",
       "             verbose=1)"
      ]
     },
     "execution_count": 148,
     "metadata": {},
     "output_type": "execute_result"
    }
   ],
   "source": [
    "GridCV.fit(x_train,y_train)"
   ]
  },
  {
   "cell_type": "code",
   "execution_count": 149,
   "metadata": {},
   "outputs": [
    {
     "data": {
      "text/plain": [
       "{'booster': 'gbtree',\n",
       " 'eta': 0.1,\n",
       " 'max_depth': 10,\n",
       " 'min_child_weight': 4,\n",
       " 'subsample': 0.5}"
      ]
     },
     "execution_count": 149,
     "metadata": {},
     "output_type": "execute_result"
    }
   ],
   "source": [
    "GridCV.best_params_"
   ]
  },
  {
   "cell_type": "code",
   "execution_count": 150,
   "metadata": {},
   "outputs": [
    {
     "name": "stdout",
     "output_type": "stream",
     "text": [
      "[04:18:06] WARNING: C:/Users/Administrator/workspace/xgboost-win64_release_1.4.0/src/learner.cc:1095: Starting in XGBoost 1.3.0, the default evaluation metric used with the objective 'binary:logistic' was changed from 'error' to 'logloss'. Explicitly set eval_metric if you'd like to restore the old behavior.\n"
     ]
    },
    {
     "data": {
      "text/plain": [
       "XGBClassifier(base_score=0.5, booster='gbtree', colsample_bylevel=1,\n",
       "              colsample_bynode=1, colsample_bytree=1, eta=0.1, gamma=0,\n",
       "              gpu_id=-1, importance_type='gain', interaction_constraints='',\n",
       "              learning_rate=0.100000001, max_delta_step=0, max_depth=10,\n",
       "              min_child_weight=4, missing=nan, monotone_constraints='()',\n",
       "              n_estimators=100, n_jobs=16, num_parallel_tree=1, random_state=0,\n",
       "              reg_alpha=0, reg_lambda=1, scale_pos_weight=1, subsample=0.5,\n",
       "              tree_method='exact', validate_parameters=1, verbosity=None)"
      ]
     },
     "execution_count": 150,
     "metadata": {},
     "output_type": "execute_result"
    }
   ],
   "source": [
    "Best_mod1 = XGBClassifier(booster = 'gbtree',eta = 0.1, max_depth= 10, min_child_weight = 4,subsample = 0.5)\n",
    "Best_mod1.fit(x_train,y_train)"
   ]
  },
  {
   "cell_type": "code",
   "execution_count": 151,
   "metadata": {},
   "outputs": [
    {
     "name": "stdout",
     "output_type": "stream",
     "text": [
      "97.11189074050871\n"
     ]
    }
   ],
   "source": [
    "xgbpred = Best_mod1.predict(x_test)\n",
    "acc = accuracy_score(y_test,xgbpred)\n",
    "print(acc*100)"
   ]
  },
  {
   "cell_type": "markdown",
   "metadata": {},
   "source": [
    "##### XGB Classifier has an accuracy of 97.11%"
   ]
  },
  {
   "cell_type": "code",
   "execution_count": 152,
   "metadata": {},
   "outputs": [
    {
     "data": {
      "text/plain": [
       "array([[7784,  197],\n",
       "       [ 264, 7717]], dtype=int64)"
      ]
     },
     "execution_count": 152,
     "metadata": {},
     "output_type": "execute_result"
    }
   ],
   "source": [
    "conf_matrx = confusion_matrix(y_test,xgbpred)\n",
    "conf_matrx"
   ]
  },
  {
   "cell_type": "markdown",
   "metadata": {},
   "source": [
    "#### Saving The Model"
   ]
  },
  {
   "cell_type": "code",
   "execution_count": null,
   "metadata": {},
   "outputs": [],
   "source": [
    "import joblib\n",
    "joblib.dump(Best_mod1,\"BestModelLoLPred.pkl\")"
   ]
  },
  {
   "cell_type": "markdown",
   "metadata": {},
   "source": [
    "#### Loading The Model"
   ]
  },
  {
   "cell_type": "code",
   "execution_count": 154,
   "metadata": {},
   "outputs": [],
   "source": [
    "mod=joblib.load(\"BestModelLoLPred.pkl\")"
   ]
  },
  {
   "cell_type": "code",
   "execution_count": 155,
   "metadata": {
    "scrolled": true
   },
   "outputs": [
    {
     "name": "stdout",
     "output_type": "stream",
     "text": [
      "[1 2 1 ... 2 1 2]\n"
     ]
    }
   ],
   "source": [
    "print(mod.predict(x_test))"
   ]
  },
  {
   "cell_type": "code",
   "execution_count": 156,
   "metadata": {},
   "outputs": [
    {
     "data": {
      "text/html": [
       "<div>\n",
       "<style scoped>\n",
       "    .dataframe tbody tr th:only-of-type {\n",
       "        vertical-align: middle;\n",
       "    }\n",
       "\n",
       "    .dataframe tbody tr th {\n",
       "        vertical-align: top;\n",
       "    }\n",
       "\n",
       "    .dataframe thead th {\n",
       "        text-align: right;\n",
       "    }\n",
       "</style>\n",
       "<table border=\"1\" class=\"dataframe\">\n",
       "  <thead>\n",
       "    <tr style=\"text-align: right;\">\n",
       "      <th></th>\n",
       "      <th>Predictions</th>\n",
       "      <th>Actual Values</th>\n",
       "    </tr>\n",
       "  </thead>\n",
       "  <tbody>\n",
       "    <tr>\n",
       "      <th>31836</th>\n",
       "      <td>1</td>\n",
       "      <td>1</td>\n",
       "    </tr>\n",
       "    <tr>\n",
       "      <th>13949</th>\n",
       "      <td>2</td>\n",
       "      <td>2</td>\n",
       "    </tr>\n",
       "    <tr>\n",
       "      <th>19393</th>\n",
       "      <td>1</td>\n",
       "      <td>1</td>\n",
       "    </tr>\n",
       "    <tr>\n",
       "      <th>48603</th>\n",
       "      <td>2</td>\n",
       "      <td>2</td>\n",
       "    </tr>\n",
       "    <tr>\n",
       "      <th>18450</th>\n",
       "      <td>1</td>\n",
       "      <td>1</td>\n",
       "    </tr>\n",
       "    <tr>\n",
       "      <th>18012</th>\n",
       "      <td>1</td>\n",
       "      <td>1</td>\n",
       "    </tr>\n",
       "    <tr>\n",
       "      <th>36040</th>\n",
       "      <td>2</td>\n",
       "      <td>2</td>\n",
       "    </tr>\n",
       "    <tr>\n",
       "      <th>8641</th>\n",
       "      <td>1</td>\n",
       "      <td>1</td>\n",
       "    </tr>\n",
       "    <tr>\n",
       "      <th>22497</th>\n",
       "      <td>1</td>\n",
       "      <td>1</td>\n",
       "    </tr>\n",
       "    <tr>\n",
       "      <th>24886</th>\n",
       "      <td>1</td>\n",
       "      <td>1</td>\n",
       "    </tr>\n",
       "    <tr>\n",
       "      <th>24541</th>\n",
       "      <td>1</td>\n",
       "      <td>1</td>\n",
       "    </tr>\n",
       "    <tr>\n",
       "      <th>27528</th>\n",
       "      <td>2</td>\n",
       "      <td>2</td>\n",
       "    </tr>\n",
       "    <tr>\n",
       "      <th>12709</th>\n",
       "      <td>2</td>\n",
       "      <td>2</td>\n",
       "    </tr>\n",
       "    <tr>\n",
       "      <th>31279</th>\n",
       "      <td>1</td>\n",
       "      <td>1</td>\n",
       "    </tr>\n",
       "    <tr>\n",
       "      <th>48562</th>\n",
       "      <td>2</td>\n",
       "      <td>2</td>\n",
       "    </tr>\n",
       "    <tr>\n",
       "      <th>26383</th>\n",
       "      <td>1</td>\n",
       "      <td>1</td>\n",
       "    </tr>\n",
       "    <tr>\n",
       "      <th>6323</th>\n",
       "      <td>1</td>\n",
       "      <td>1</td>\n",
       "    </tr>\n",
       "    <tr>\n",
       "      <th>24351</th>\n",
       "      <td>1</td>\n",
       "      <td>1</td>\n",
       "    </tr>\n",
       "    <tr>\n",
       "      <th>6144</th>\n",
       "      <td>2</td>\n",
       "      <td>2</td>\n",
       "    </tr>\n",
       "    <tr>\n",
       "      <th>41214</th>\n",
       "      <td>2</td>\n",
       "      <td>2</td>\n",
       "    </tr>\n",
       "    <tr>\n",
       "      <th>16028</th>\n",
       "      <td>1</td>\n",
       "      <td>1</td>\n",
       "    </tr>\n",
       "    <tr>\n",
       "      <th>13435</th>\n",
       "      <td>2</td>\n",
       "      <td>2</td>\n",
       "    </tr>\n",
       "    <tr>\n",
       "      <th>43399</th>\n",
       "      <td>1</td>\n",
       "      <td>1</td>\n",
       "    </tr>\n",
       "    <tr>\n",
       "      <th>35857</th>\n",
       "      <td>1</td>\n",
       "      <td>1</td>\n",
       "    </tr>\n",
       "    <tr>\n",
       "      <th>31583</th>\n",
       "      <td>1</td>\n",
       "      <td>1</td>\n",
       "    </tr>\n",
       "    <tr>\n",
       "      <th>15078</th>\n",
       "      <td>2</td>\n",
       "      <td>2</td>\n",
       "    </tr>\n",
       "    <tr>\n",
       "      <th>3585</th>\n",
       "      <td>2</td>\n",
       "      <td>2</td>\n",
       "    </tr>\n",
       "    <tr>\n",
       "      <th>11398</th>\n",
       "      <td>1</td>\n",
       "      <td>1</td>\n",
       "    </tr>\n",
       "    <tr>\n",
       "      <th>22593</th>\n",
       "      <td>2</td>\n",
       "      <td>2</td>\n",
       "    </tr>\n",
       "    <tr>\n",
       "      <th>33683</th>\n",
       "      <td>1</td>\n",
       "      <td>1</td>\n",
       "    </tr>\n",
       "    <tr>\n",
       "      <th>26329</th>\n",
       "      <td>1</td>\n",
       "      <td>1</td>\n",
       "    </tr>\n",
       "    <tr>\n",
       "      <th>29541</th>\n",
       "      <td>1</td>\n",
       "      <td>1</td>\n",
       "    </tr>\n",
       "    <tr>\n",
       "      <th>20030</th>\n",
       "      <td>1</td>\n",
       "      <td>1</td>\n",
       "    </tr>\n",
       "    <tr>\n",
       "      <th>44067</th>\n",
       "      <td>1</td>\n",
       "      <td>1</td>\n",
       "    </tr>\n",
       "    <tr>\n",
       "      <th>48452</th>\n",
       "      <td>2</td>\n",
       "      <td>2</td>\n",
       "    </tr>\n",
       "    <tr>\n",
       "      <th>31395</th>\n",
       "      <td>2</td>\n",
       "      <td>2</td>\n",
       "    </tr>\n",
       "    <tr>\n",
       "      <th>37394</th>\n",
       "      <td>1</td>\n",
       "      <td>1</td>\n",
       "    </tr>\n",
       "    <tr>\n",
       "      <th>45400</th>\n",
       "      <td>2</td>\n",
       "      <td>2</td>\n",
       "    </tr>\n",
       "    <tr>\n",
       "      <th>49727</th>\n",
       "      <td>1</td>\n",
       "      <td>1</td>\n",
       "    </tr>\n",
       "    <tr>\n",
       "      <th>40096</th>\n",
       "      <td>1</td>\n",
       "      <td>1</td>\n",
       "    </tr>\n",
       "    <tr>\n",
       "      <th>43924</th>\n",
       "      <td>2</td>\n",
       "      <td>2</td>\n",
       "    </tr>\n",
       "    <tr>\n",
       "      <th>50307</th>\n",
       "      <td>1</td>\n",
       "      <td>1</td>\n",
       "    </tr>\n",
       "    <tr>\n",
       "      <th>2349</th>\n",
       "      <td>2</td>\n",
       "      <td>2</td>\n",
       "    </tr>\n",
       "    <tr>\n",
       "      <th>5668</th>\n",
       "      <td>1</td>\n",
       "      <td>1</td>\n",
       "    </tr>\n",
       "    <tr>\n",
       "      <th>49643</th>\n",
       "      <td>1</td>\n",
       "      <td>1</td>\n",
       "    </tr>\n",
       "    <tr>\n",
       "      <th>14062</th>\n",
       "      <td>1</td>\n",
       "      <td>1</td>\n",
       "    </tr>\n",
       "    <tr>\n",
       "      <th>34686</th>\n",
       "      <td>1</td>\n",
       "      <td>1</td>\n",
       "    </tr>\n",
       "    <tr>\n",
       "      <th>9848</th>\n",
       "      <td>2</td>\n",
       "      <td>2</td>\n",
       "    </tr>\n",
       "    <tr>\n",
       "      <th>33634</th>\n",
       "      <td>1</td>\n",
       "      <td>1</td>\n",
       "    </tr>\n",
       "    <tr>\n",
       "      <th>32353</th>\n",
       "      <td>1</td>\n",
       "      <td>1</td>\n",
       "    </tr>\n",
       "  </tbody>\n",
       "</table>\n",
       "</div>"
      ],
      "text/plain": [
       "       Predictions  Actual Values\n",
       "31836            1              1\n",
       "13949            2              2\n",
       "19393            1              1\n",
       "48603            2              2\n",
       "18450            1              1\n",
       "18012            1              1\n",
       "36040            2              2\n",
       "8641             1              1\n",
       "22497            1              1\n",
       "24886            1              1\n",
       "24541            1              1\n",
       "27528            2              2\n",
       "12709            2              2\n",
       "31279            1              1\n",
       "48562            2              2\n",
       "26383            1              1\n",
       "6323             1              1\n",
       "24351            1              1\n",
       "6144             2              2\n",
       "41214            2              2\n",
       "16028            1              1\n",
       "13435            2              2\n",
       "43399            1              1\n",
       "35857            1              1\n",
       "31583            1              1\n",
       "15078            2              2\n",
       "3585             2              2\n",
       "11398            1              1\n",
       "22593            2              2\n",
       "33683            1              1\n",
       "26329            1              1\n",
       "29541            1              1\n",
       "20030            1              1\n",
       "44067            1              1\n",
       "48452            2              2\n",
       "31395            2              2\n",
       "37394            1              1\n",
       "45400            2              2\n",
       "49727            1              1\n",
       "40096            1              1\n",
       "43924            2              2\n",
       "50307            1              1\n",
       "2349             2              2\n",
       "5668             1              1\n",
       "49643            1              1\n",
       "14062            1              1\n",
       "34686            1              1\n",
       "9848             2              2\n",
       "33634            1              1\n",
       "32353            1              1"
      ]
     },
     "execution_count": 156,
     "metadata": {},
     "output_type": "execute_result"
    }
   ],
   "source": [
    "Prediction_accuracy = pd.DataFrame({'Predictions': mod.predict(x_test), 'Actual Values': y_test})\n",
    "Prediction_accuracy.head(50)"
   ]
  },
  {
   "cell_type": "code",
   "execution_count": null,
   "metadata": {},
   "outputs": [],
   "source": []
  }
 ],
 "metadata": {
  "kernelspec": {
   "display_name": "Python 3 (ipykernel)",
   "language": "python",
   "name": "python3"
  },
  "language_info": {
   "codemirror_mode": {
    "name": "ipython",
    "version": 3
   },
   "file_extension": ".py",
   "mimetype": "text/x-python",
   "name": "python",
   "nbconvert_exporter": "python",
   "pygments_lexer": "ipython3",
   "version": "3.8.8"
  }
 },
 "nbformat": 4,
 "nbformat_minor": 2
}
